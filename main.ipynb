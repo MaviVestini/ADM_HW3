{
 "cells": [
  {
   "cell_type": "markdown",
   "id": "009767b4-73b5-47d2-bb48-1640b38fe16f",
   "metadata": {},
   "source": [
    "## Homework 3 - Places of the world"
   ]
  },
  {
   "cell_type": "code",
   "execution_count": 2,
   "id": "963925d1-4f68-4964-8e7d-5c11732108da",
   "metadata": {
    "tags": []
   },
   "outputs": [],
   "source": [
    "from bs4 import BeautifulSoup as bs\n",
    "from tqdm import tqdm\n",
    "import requests\n",
    "import os\n",
    "import pandas as pd\n",
    "import numpy as np\n",
    "import time\n",
    "import pickle\n",
    "import re\n",
    "import csv "
   ]
  },
  {
   "cell_type": "markdown",
   "id": "ad91a35b-27d9-4a76-9278-ec00e3990e27",
   "metadata": {},
   "source": [
    "### 1. Data collection\n",
    "#### 1.1 Get the list of places"
   ]
  },
  {
   "cell_type": "markdown",
   "id": "6774e7d3-d97f-49f7-8e90-436d6085c0bc",
   "metadata": {},
   "source": [
    "**Collectings the URLs** of the places listed in **the first 400 pages** of **[Atlas Obscura](https://www.atlasobscura.com/)**"
   ]
  },
  {
   "cell_type": "code",
   "execution_count": 53,
   "id": "53a2d795-58a4-4e42-b42f-1f7d4629c0d6",
   "metadata": {},
   "outputs": [
    {
     "name": "stderr",
     "output_type": "stream",
     "text": [
      "100%|██████████| 400/400 [05:37<00:00,  1.19it/s]  "
     ]
    },
    {
     "name": "stdout",
     "output_type": "stream",
     "text": [
      " URLs found : 7200  \t unique URLs : 7200\n"
     ]
    },
    {
     "name": "stderr",
     "output_type": "stream",
     "text": [
      "\n"
     ]
    }
   ],
   "source": [
    "urls = []           # list to store URLs\n",
    "tot_pages = 400     # number of pages requested\n",
    "page = 1            # set counter\n",
    "\n",
    "places_file  = open(\"places_urls.txt\", \"w+\")  # open empty .txt file to write URLs\n",
    "\n",
    "with tqdm( total = tot_pages, position=0, leave=True) as pbar:\n",
    "    \n",
    "    while page < (tot_pages+1):\n",
    "        url = f\"https://www.atlasobscura.com/places?page={page}&sort=likes_count\"\n",
    "        result = requests.get(url, headers = {'User-agent': 'your bot 1.1'})    # make a request to web pages and retrive HTML code\n",
    "        soup = bs(result.text, 'html.parser')                                   # parsing HTML with beautifulsoup\n",
    "        \n",
    "        if result.status_code == requests.codes.ok:          # check the response status code\n",
    "        \n",
    "            for a in soup.find_all('a',{\"class\":\"content-card content-card-place\"}, href=True):\n",
    "                places_file.write(a['href'] +'\\n')           # store URLs in .txt file\n",
    "                urls.append(a['href'])                       # store URLs in list\n",
    "                \n",
    "            pbar.update()\n",
    "            page = page+1\n",
    "            \n",
    "        else:\n",
    "            time.sleep(200)\n",
    "            \n",
    "print(\" URLs found :\", len(urls), \" \\t unique URLs :\", len(set(urls)))\n"
   ]
  },
  {
   "cell_type": "markdown",
   "id": "69074cde-6f1b-4e06-b818-c30016ca22ef",
   "metadata": {},
   "source": [
    "#### 1.2 Crawl places"
   ]
  },
  {
   "cell_type": "markdown",
   "id": "768998e6-1a11-4bae-9c6f-27763526f492",
   "metadata": {},
   "source": [
    "**Downloading HTML code** of each place from urls list and saving it as **.txt file** in folder (folder corresponding to Atlas Obscura page number of the place):"
   ]
  },
  {
   "cell_type": "code",
   "execution_count": 77,
   "id": "9987c5a4-30aa-438a-b141-18843e807c5f",
   "metadata": {},
   "outputs": [
    {
     "name": "stderr",
     "output_type": "stream",
     "text": [
      "100%|██████████| 400/400 [00:00<00:00, 791005.00it/s]\n"
     ]
    }
   ],
   "source": [
    "\n",
    "c = 1 # # set folder counter\n",
    "\n",
    "for i in tqdm(range(400)):\n",
    "    newpath = r'./places/' + str(i+1)       # create one folder for each iteration, each folder will contain 18 places as .txt documents\n",
    "    os.makedirs(newpath, exist_ok = True)\n",
    "    \n",
    "    for u in urls[18*i:18*(i+1)]: \n",
    "        result = requests.get( url = \"https://www.atlasobscura.com\" + u, \n",
    "                              headers = {'User-agent': 'your bot 1.1'})   # make a request to web pages and retrive HTML code\n",
    "        \n",
    "        if result.status_code == requests.codes.ok:                      # check the response status code\n",
    "            name = newpath +'/document_' + str(c) + '.txt'              # name directory for the new file \n",
    "        \n",
    "            with open(name, \"w\") as file:\n",
    "                file.write(result.text)       # save HTML page content as .txt file\n",
    "            \n",
    "            time.sleep(0.5)\n",
    "            c += 1\n",
    "        else:\n",
    "            time.sleep(200)\n",
    "            "
   ]
  },
  {
   "cell_type": "markdown",
   "id": "dbc10789-5fb6-46f3-a20f-54ed9c6c0c4e",
   "metadata": {},
   "source": [
    "#### 1.3 Parse downloaded pages"
   ]
  },
  {
   "cell_type": "markdown",
   "id": "99ccb93a-2571-437e-945b-e5e49444b60d",
   "metadata": {},
   "source": [
    "Collecting the places's information we desire with BeautifulSoup:"
   ]
  },
  {
   "cell_type": "code",
   "execution_count": 16,
   "id": "9c648b1c-09c7-46b6-9f5d-9b1dd42384f7",
   "metadata": {},
   "outputs": [],
   "source": [
    "##\n",
    "\n",
    "def extract_single_place( page ):\n",
    "    ''' \n",
    "    Function to parse HTML content with BeautifulSoup and retrive document data :\n",
    "        Argument: .txt file \n",
    "        Returns: dictionary with place information\n",
    "    ''' \n",
    "    soup = bs(page, 'html.parser')\n",
    "    \n",
    "    title = soup.find_all(\"h1\", {\"class\": \"DDPage__header-title\"})[0].contents[0].text                                                  #1                  \n",
    "    \n",
    "    try:\n",
    "        tag = soup.find_all(\"div\", {\"class\": \"item-tags col-xs-12\"})[0]\n",
    "        place_tag = [i.contents[0].text.replace(\"\\n\",\"\") for i in tag.find_all(\"a\")]                                                    #2\n",
    "    except IndexError:\n",
    "        place_tag = \"\" \n",
    "        \n",
    "    short_desc = soup.find_all(\"h3\", {\"class\": \"DDPage__header-dek\"})[0].contents[0].text                                               #3\n",
    "    numPeopleVisited = soup.find_all(\"div\", {\"class\": \"title-md item-action-count\"})[0].contents[0].text                                #4\n",
    "    numPeopleWant = soup.find_all(\"div\", {\"class\": \"title-md item-action-count\"})[1].contents[0].text                                   #5\n",
    "    placeDesc = soup.find_all(\"div\", {\"id\": \"place-body\"})[0].text                                                                      #6\n",
    "    placeAddress = str(soup.find_all(\"aside\", {\"class\": \"DDPageSiderail__details\"})[0].contents[1].text).replace(\"\\n\",\"\")               #7\n",
    "    placeAlt_placeLong = str(soup.find_all(\"aside\", {\"class\": \"DDPageSiderail__details\"})[0].contents[3].text).replace(\"\\n\",\"\")         #8\n",
    "    l = placeAlt_placeLong.split(\",\")\n",
    "    \n",
    "    try:    \n",
    "        placePubDate = soup.find_all(\"div\", {\"class\": \"DDPContributor__name\"})[0].text                                                   #9\n",
    "    except IndexError:\n",
    "        placePubDate = \"\"\n",
    "        \n",
    "    try:\n",
    "        my_div0 = soup.find_all(\"div\", {\"class\": \"card-grid CardRecircSection__card-grid js-inject-gtm-data-in-child-links\"})[0]          #10\n",
    "        placeNearby = [i.contents[1].text for i in my_div0.find_all(\"h3\", {\"class\":\"Card__heading --content-card-v2-title js-title-content\"})]\n",
    "    except IndexError:\n",
    "        placeNearby = \"\"\n",
    "    \n",
    "    try:\n",
    "        placeEditors = soup.find_all(\"a\", {\"class\": \"DDPContributorsList__contributor\"}, href=True)                                        #11\n",
    "        placeEditors = [x.text.replace(\"\\n\",\"\") for x in placeEditors]\n",
    "    except IndexError:\n",
    "        placeEditors = \"\"\n",
    "        \n",
    "    try:\n",
    "        my_div = soup.find_all(\"div\", {\"class\": \"card-grid CardRecircSection__card-grid js-inject-gtm-data-in-child-links\"})[1]             #12\n",
    "        placeRelatedPlaces = [i.contents[1].text for i in my_div.find_all(\"h3\", {\"class\":\"Card__heading --content-card-v2-title js-title-content\"})]\n",
    "    except IndexError:\n",
    "        placeRelatedPlaces = \"\"\n",
    "        \n",
    "    try:\n",
    "        my_div2 = soup.find_all(\"div\", {\"class\": \"card-grid CardRecircSection__card-grid js-inject-gtm-data-in-child-links\"})[2]\n",
    "        placeRelatedLists = [i.contents[1].text for i in my_div2.find_all(\"h3\", {\"class\":\"Card__heading --content-card-v2-title js-title-content\"})]  #13\n",
    "    except IndexError:\n",
    "        placeRelatedLists = \"\"\n",
    "        \n",
    "    #page_url = \"https://www.atlasobscura.com\" + url\n",
    "\n",
    "    data = {\"title\" : title, \"place_tag\": place_tag, \"numPeopleVisited\" : numPeopleVisited, \"numPeopleWant\": numPeopleWant, \"placeDesc\": placeDesc, \n",
    "            \"short_desc\": short_desc, \"placeNearby\":placeNearby, \"placeAddress\":placeAddress,\"placeAlt\": l[0], \"placeLong\":l[1],\n",
    "           \"placeEditors\":placeEditors, \"placePubDate\":placePubDate, \"placeRelatedPlaces\": placeRelatedPlaces, \"placeRelatedLists\":placeRelatedLists}\n",
    "        \n",
    "    return data\n"
   ]
  },
  {
   "cell_type": "code",
   "execution_count": 51,
   "id": "658bf71c-6d90-454b-8487-4ca08885bd4f",
   "metadata": {},
   "outputs": [
    {
     "name": "stderr",
     "output_type": "stream",
     "text": [
      "100%|██████████| 400/400 [27:14<00:00,  4.09s/it]\n"
     ]
    }
   ],
   "source": [
    "file = open('./places_urls.txt', 'r')\n",
    "urls = file.read().splitlines()\n",
    "file.close()\n",
    "\n",
    "newpath = \"./Posti\"\n",
    "os.makedirs(newpath, exist_ok = True)\n",
    "\n",
    "for i in tqdm(range(400)):\n",
    "    \n",
    "    for j in range(18):\n",
    "        \n",
    "        path = './places/'+str(i+1)+'/document_'+str(18*i+j+1)+'.txt'  #find documents path in places directory \n",
    "        my_file = open(path)                            # open .txt file → it is place HTML code \n",
    "        my_dict = extract_single_place(my_file)         # applay BeautifulSoup function to get the information we desire for each place\n",
    "        my_dict['placeURL']=urls[18*i+j]                # add URLs to dictionary of place information\n",
    "        \n",
    "        name = newpath + '/document_'+str(18*i+j+1)+'.tsv'         # file name with document_id\n",
    "       \n",
    "        with open(name, 'w') as f:  # You will need 'wb' mode in Python 2.x\n",
    "            w = csv.DictWriter(f, delimiter='\\t', fieldnames = list(my_dict.keys()))     # save as tsv file\n",
    "            #w.writeheader()\n",
    "            w.writerow(my_dict)\n"
   ]
  },
  {
   "cell_type": "markdown",
   "id": "a4df51c3-f0b6-42d4-98d8-157e39203f44",
   "metadata": {},
   "source": [
    "It is usefull to create a Pandas dataframe containing all the information from every .tsv files :"
   ]
  },
  {
   "cell_type": "code",
   "execution_count": 75,
   "id": "5911371b-c48e-417a-865e-8b3506231787",
   "metadata": {},
   "outputs": [
    {
     "name": "stderr",
     "output_type": "stream",
     "text": [
      "100%|██████████| 7200/7200 [00:18<00:00, 380.03it/s]\n"
     ]
    },
    {
     "name": "stdout",
     "output_type": "stream",
     "text": [
      "(7200, 15)\n",
      "<class 'pandas.core.frame.DataFrame'>\n",
      "RangeIndex: 7200 entries, 0 to 7199\n",
      "Data columns (total 15 columns):\n",
      " #   Column              Non-Null Count  Dtype  \n",
      "---  ------              --------------  -----  \n",
      " 0   placeName           7200 non-null   object \n",
      " 1   placeTags           7166 non-null   object \n",
      " 2   numPeopleVisited    7200 non-null   int64  \n",
      " 3   numPeopleWant       7200 non-null   int64  \n",
      " 4   placeDesc           7200 non-null   object \n",
      " 5   placeShortDesc      7200 non-null   object \n",
      " 6   placeNearby         7199 non-null   object \n",
      " 7   placeAddress        7200 non-null   object \n",
      " 8   placeAlt            7200 non-null   float64\n",
      " 9   placeLong           7200 non-null   float64\n",
      " 10  placeEditors        7200 non-null   object \n",
      " 11  placePubDate        7199 non-null   object \n",
      " 12  placeRelatedPlaces  7171 non-null   object \n",
      " 13  placeRelatedLists   2765 non-null   object \n",
      " 14  placeUrl            7199 non-null   object \n",
      "dtypes: float64(2), int64(2), object(11)\n",
      "memory usage: 843.9+ KB\n"
     ]
    }
   ],
   "source": [
    "# merge .tsv files in Pandas dataframe :\n",
    "\n",
    "\n",
    "colonne = [\"placeName\", \"placeTags\", \"numPeopleVisited\",\"numPeopleWant\",\"placeDesc\", \"placeShortDesc\", \"placeNearby\",\"placeAddress\",\"placeAlt\", \n",
    "           \"placeLong\", \"placeEditors\",\"placePubDate\", \"placeRelatedPlaces\",\"placeRelatedLists\",\"placeUrl\"]\n",
    "\n",
    "directory = 'Posti/'\n",
    "data = []\n",
    "\n",
    "for file in tqdm(os.listdir(directory)):\n",
    "    #print(file)\n",
    "    df = pd.read_csv(directory + file, sep= '\\t')  \n",
    "    data.append(df)\n",
    "    \n",
    "df.columns = colonne\n",
    "data = pd.concat(data)\n",
    "print(data.shape)\n",
    "data = data.reset_index(drop=True)\n",
    "data.to_csv(\"all_places_data.tsv\", sep='\\t', encoding='utf-8', index= False)\n",
    "\n",
    "data.info()"
   ]
  },
  {
   "cell_type": "markdown",
   "id": "0f816e42-1ddc-438a-90fc-b370965793ed",
   "metadata": {},
   "source": [
    "### 2. Search Engine\n",
    "\n",
    "Now **pre-processing** the **place description column** of places dataframe."
   ]
  },
  {
   "cell_type": "code",
   "execution_count": 3,
   "id": "3cb24cef-ef9a-4625-9309-caaffc5c3ccf",
   "metadata": {},
   "outputs": [
    {
     "name": "stderr",
     "output_type": "stream",
     "text": [
      "[nltk_data] Downloading package stopwords to\n",
      "[nltk_data]     C:\\Users\\user\\AppData\\Roaming\\nltk_data...\n",
      "[nltk_data]   Package stopwords is already up-to-date!\n"
     ]
    }
   ],
   "source": [
    "import string\n",
    "import nltk\n",
    "nltk.download(\"stopwords\")\n",
    "from nltk.corpus import stopwords\n",
    "stop_words = set(stopwords.words(\"english\"))\n",
    "from nltk.stem.snowball import SnowballStemmer\n",
    "snowstem = SnowballStemmer('english')"
   ]
  },
  {
   "cell_type": "markdown",
   "id": "0634d34d-6812-4f4d-b209-b760710594e9",
   "metadata": {},
   "source": [
    "We write a function to remove **punctuation**, **stop-words**, get **stem words** and delete **special character**"
   ]
  },
  {
   "cell_type": "code",
   "execution_count": 4,
   "id": "4b9a87cc-bf03-45e1-916f-98a677c09d38",
   "metadata": {},
   "outputs": [],
   "source": [
    "def processing_test(stringa : str):\n",
    "    \n",
    "    ''' \n",
    "    Function to pre-process strings :\n",
    "        Argument: string, it's the description of each place\n",
    "        Returns: list of tokenized and processed words  \n",
    "    '''\n",
    "    \n",
    "    stringa = stringa.replace(\"\\n\",\"\").replace(\"\\xa0\",\"\").lower()                         # remove unwanted characters\n",
    "    stringa = stringa.translate(str.maketrans('', '', string.punctuation))               # remove punctuation with \"string\" module\n",
    "    stringa = [ token for token in stringa.split(' ') if token not in stop_words ]      # remove stop-words with nltk\n",
    "    output = [snowstem.stem(word) for word in stringa]                                 # stemming string with nltk\n",
    "    \n",
    "    \n",
    "    return output"
   ]
  },
  {
   "cell_type": "code",
   "execution_count": 5,
   "id": "6fa01c1d-e4d7-44dd-aaf3-c76f55560c0d",
   "metadata": {},
   "outputs": [],
   "source": [
    "# apply processing_test function to data.placeDesc column\n",
    "data = pd.read_csv('all_places_data.tsv', sep ='\\t')\n",
    "data['list_words'] = data.placeDesc.apply(lambda desc: processing_test(desc))  ## add new data.list_words column with tokenized and processed words"
   ]
  },
  {
   "cell_type": "markdown",
   "id": "359671a1-57fd-4d62-ad69-42474e17ead8",
   "metadata": {},
   "source": [
    "#### 2.1 Conjunctive query\n",
    "\n",
    "##### 2.1.1 Create your index!"
   ]
  },
  {
   "cell_type": "code",
   "execution_count": 5,
   "id": "f1af4fde-3776-44a8-ac3f-cf454af1f4a9",
   "metadata": {},
   "outputs": [],
   "source": [
    "from collections import Counter \n",
    "from functools import reduce"
   ]
  },
  {
   "cell_type": "code",
   "execution_count": 60,
   "id": "bc74d693-b072-4852-87a3-17d735202f41",
   "metadata": {},
   "outputs": [
    {
     "name": "stdout",
     "output_type": "stream",
     "text": [
      " Unique tokenized words in corpus of documents :  89094\n"
     ]
    }
   ],
   "source": [
    "vocabulary = Counter(reduce(lambda x,y: x+y, data.list_words))\n",
    "\n",
    "# Dictionary : \n",
    "#     key = unique words that appear in place descriptions\n",
    "#     value = word frequency counter in all corpus / dataset\n",
    "\n",
    "print(\" Unique tokenized words in corpus of documents : \", len(vocabulary.keys()))"
   ]
  },
  {
   "cell_type": "code",
   "execution_count": 61,
   "id": "a6da1a54-ff90-4947-9b1a-fe9f904f5134",
   "metadata": {},
   "outputs": [],
   "source": [
    "# Create a file named \"vocabulary\" that maps each word to an integer (term_id) :\n",
    "\n",
    "word_dict = {}      # initialize empty dictionary\n",
    "item_id = 1         # set term_id counter\n",
    "\n",
    "for word in vocabulary.keys():  # iterating over unique words in corpus of documents\n",
    "    word_dict[word] = item_id   # assign an integer = term_id to each word \n",
    "    item_id += 1\n",
    "    \n",
    "#word_dict.keys()\n",
    "\n",
    "z = open(\"vocabulary.pkl\", \"wb\")  \n",
    "pickle.dump(word_dict, z)          # with pickle module save word_dict as .pkl file named \"vocabulary\"\n",
    "z.close()"
   ]
  },
  {
   "cell_type": "code",
   "execution_count": 6,
   "id": "e95aad8a-4495-4ee0-8f54-7accb213304e",
   "metadata": {},
   "outputs": [],
   "source": [
    "# load  word_dict as dictionary if needed : \n",
    "\n",
    "with open('vocabulary.pkl', 'rb') as f:\n",
    "    word_dict = pickle.load(f)"
   ]
  },
  {
   "cell_type": "code",
   "execution_count": null,
   "id": "431f0706-d2c5-4549-bcc5-123e186f0d25",
   "metadata": {},
   "outputs": [],
   "source": [
    "# Building the Inverted Index as dictionary :\n",
    "\n",
    "inverted_idx = {}   \n",
    "\n",
    "# Dictionary : \n",
    "#     key = term_id (integer) from word_dict.values\n",
    "#     value = document_id (integer) that contain word corresponding to term_id \n",
    "#              (document_id = row index of our dataFrame which contains it in list_words column)\n",
    "\n",
    "for word, item_id in tqdm(word_dict.items()):\n",
    "    inverted_idx[item_id] = list(data[data.list_words.apply(lambda row: word in row)].index)\n",
    "    \n",
    "    \n",
    "II = open(\"II.pkl\", \"wb\")\n",
    "pickle.dump(inverted_idx, II)    # with pickle module save inverted_idx as .pkl file \n",
    "II.close()"
   ]
  },
  {
   "cell_type": "code",
   "execution_count": 7,
   "id": "67aaf90f-d190-4c42-9fce-b49c8652f0d2",
   "metadata": {},
   "outputs": [],
   "source": [
    "# load inverted_idx as dictionary if needed : \n",
    "\n",
    "with open('II.pkl', 'rb') as f:\n",
    "    inverted_idx = pickle.load(f)"
   ]
  },
  {
   "cell_type": "markdown",
   "id": "9b3184b4-7abd-4782-a259-cf533f2ea3fc",
   "metadata": {},
   "source": [
    "Let's try an example:"
   ]
  },
  {
   "cell_type": "code",
   "execution_count": 8,
   "id": "5f7ea5bf-a99a-43cc-8e80-1d2f0afebd26",
   "metadata": {},
   "outputs": [
    {
     "name": "stdout",
     "output_type": "stream",
     "text": [
      " looking for word : food \tfound in 355 documents\n",
      "\n",
      " indexes :  [6150, 8, 4109, 2063, 4112, 6163, 22, 2071, 6169, 31, 6179, 6188, 4144, 6194, 2099, 52, 4151, 4155, 6211, 4167, 4181, 4186, 6236, 4190, 4192, 98, 101, 2155, 2159, 4208, 6264, 134, 139, 4235, 156, 6302, 6303, 4257, 4258, 6310, 168, 179, 4279, 2237, 2238, 2241, 4292, 2252, 2253, 207, 4316, 242, 246, 249, 6399, 6402, 4359, 271, 275, 2336, 2338, 2339, 2352, 305, 2353, 2366, 4419, 4421, 6476, 2381, 2386, 2406, 6503, 4461, 371, 6524, 2434, 389, 399, 405, 4503, 4504, 2469, 4520, 4526, 4529, 4532, 2489, 6588, 457, 6605, 6607, 4560, 6610, 2522, 4576, 4578, 6627, 4589, 2542, 496, 4597, 2550, 4598, 4608, 6659, 2580, 6677, 538, 6686, 4642, 4651, 4677, 6731, 591, 600, 6744, 2662, 2669, 624, 2685, 2691, 6787, 2715, 2717, 671, 4767, 673, 4779, 2748, 705, 4803, 4805, 4807, 717, 6863, 729, 6896, 6897, 768, 6912, 6920, 6922, 4892, 2846, 2853, 4902, 2874, 2875, 6971, 2878, 4926, 6975, 6984, 2892, 4957, 2914, 869, 7016, 4973, 4977, 2946, 7046, 7050, 7051, 5007, 918, 922, 7083, 940, 5038, 7091, 5045, 7106, 964, 965, 966, 5063, 7110, 5067, 5070, 7120, 5079, 5096, 5097, 3050, 3053, 5110, 7160, 7161, 3068, 5118, 1023, 7177, 1043, 7191, 7196, 3110, 5176, 5184, 3155, 5208, 3163, 1119, 3181, 5229, 5230, 5232, 5234, 5240, 3198, 5248, 5250, 1157, 1158, 5262, 5267, 5273, 1180, 3228, 1211, 5312, 1218, 1220, 3279, 5335, 1244, 5342, 3299, 5358, 3327, 3337, 5400, 1306, 1308, 5420, 5428, 1341, 5448, 1356, 1378, 5485, 3439, 1392, 3440, 1401, 5507, 5513, 5515, 1420, 5521, 3478, 5527, 5534, 3488, 5536, 1462, 3512, 1472, 1476, 3528, 3533, 3541, 1497, 5596, 5607, 3562, 5613, 5615, 3572, 5624, 3578, 5641, 1570, 1571, 5673, 5683, 5686, 3658, 3668, 1621, 1622, 3670, 1626, 5729, 3689, 1645, 3698, 5746, 1652, 5750, 3708, 5764, 1670, 3740, 3746, 1706, 3765, 5818, 5825, 5844, 3801, 1755, 3803, 3807, 5857, 1763, 1779, 5877, 1799, 3861, 5919, 5920, 5923, 3876, 5926, 5928, 1833, 1837, 1841, 1846, 5948, 1870, 1877, 3926, 5975, 1895, 5992, 1899, 1901, 1902, 1906, 3959, 1914, 1922, 6028, 6030, 1940, 3991, 1955, 4004, 1957, 6056, 4010, 6069, 6075, 6086, 6094, 4047, 6095, 4053, 6107, 2028, 6125, 2042]\n"
     ]
    },
    {
     "data": {
      "text/html": [
       "<div>\n",
       "<style scoped>\n",
       "    .dataframe tbody tr th:only-of-type {\n",
       "        vertical-align: middle;\n",
       "    }\n",
       "\n",
       "    .dataframe tbody tr th {\n",
       "        vertical-align: top;\n",
       "    }\n",
       "\n",
       "    .dataframe thead th {\n",
       "        text-align: right;\n",
       "    }\n",
       "</style>\n",
       "<table border=\"1\" class=\"dataframe\">\n",
       "  <thead>\n",
       "    <tr style=\"text-align: right;\">\n",
       "      <th></th>\n",
       "      <th>placeName</th>\n",
       "      <th>placeDesc</th>\n",
       "      <th>placeUrl</th>\n",
       "    </tr>\n",
       "  </thead>\n",
       "  <tbody>\n",
       "    <tr>\n",
       "      <th>6150</th>\n",
       "      <td>Salt Ponds of San Francisco Bay</td>\n",
       "      <td>As the plane banks to make its final pass befo...</td>\n",
       "      <td>https://www.atlasobscura.com/places/salt-ponds...</td>\n",
       "    </tr>\n",
       "    <tr>\n",
       "      <th>8</th>\n",
       "      <td>Tchai-Ovna House of Tea</td>\n",
       "      <td>Built as recently as 2002, the Tchai-Ovna is a...</td>\n",
       "      <td>https://www.atlasobscura.com/places/tchaiovna</td>\n",
       "    </tr>\n",
       "    <tr>\n",
       "      <th>4109</th>\n",
       "      <td>Shopsin's</td>\n",
       "      <td>Kenny Shopsin’s philosophy is strict, but simp...</td>\n",
       "      <td>https://www.atlasobscura.com/places/shopsins</td>\n",
       "    </tr>\n",
       "  </tbody>\n",
       "</table>\n",
       "</div>"
      ],
      "text/plain": [
       "                            placeName  \\\n",
       "6150  Salt Ponds of San Francisco Bay   \n",
       "8            Tchai-Ovna House of Tea    \n",
       "4109                        Shopsin's   \n",
       "\n",
       "                                              placeDesc  \\\n",
       "6150  As the plane banks to make its final pass befo...   \n",
       "8     Built as recently as 2002, the Tchai-Ovna is a...   \n",
       "4109  Kenny Shopsin’s philosophy is strict, but simp...   \n",
       "\n",
       "                                               placeUrl  \n",
       "6150  https://www.atlasobscura.com/places/salt-ponds...  \n",
       "8         https://www.atlasobscura.com/places/tchaiovna  \n",
       "4109       https://www.atlasobscura.com/places/shopsins  "
      ]
     },
     "metadata": {},
     "output_type": "display_data"
    }
   ],
   "source": [
    "# looking for word \"food\" and retrive document_id of documents that contains it (in description) :\n",
    "\n",
    "text = [\"food\"]\n",
    "example = [set(inverted_idx[item]) for item in [word_dict[word] for word in text]][0]   # indexes of all the document the contain the word 'food'\n",
    "\n",
    "print(\" looking for word :\", *text,\"\\tfound in {} documents\".format(len(example)))\n",
    "print(\"\\n indexes : \", list(example))\n",
    "\n",
    "display(data.loc[list(example)][[\"placeName\", \"placeDesc\", \"placeUrl\"]].head(3))"
   ]
  },
  {
   "cell_type": "markdown",
   "id": "8b5a3275-178e-45ee-b767-fd95984ad667",
   "metadata": {},
   "source": [
    "##### 2.1.2 Execute the query"
   ]
  },
  {
   "cell_type": "markdown",
   "id": "c4795f83-d3fc-4409-9105-29030f17dd16",
   "metadata": {},
   "source": [
    "**Building** first **search engine** as function that executes queries and shows **placeName**, **placeDesc** and **placeURL** of results :"
   ]
  },
  {
   "cell_type": "code",
   "execution_count": 8,
   "id": "6b43d7c4-c1d6-4cee-b1b9-86245d49a35b",
   "metadata": {},
   "outputs": [],
   "source": [
    "def simple_search(query_str : str, dataframe):\n",
    "    \n",
    "    ''' \n",
    "    Function to retrive documents that contain all the terms of the query :\n",
    "        Argument: string, it's the user input query (words considered as conjunctive query-AND)\n",
    "        Returns: pandas Dataframe with placeName, placeDesc and placeURL of Atlas Obscura's place that match input string\n",
    "    '''\n",
    "\n",
    "    if len(query_str) == 0:\n",
    "        return print(\"\\t empty query\")\n",
    "    else:\n",
    "        try:\n",
    "            query = processing_test(query_str)   # tokenize query\n",
    "            \n",
    "            result = [set(inverted_idx[item]) for item in [word_dict[word] for word in query]]\n",
    "            result = set.intersection(*map(set,result))        # look for intersection between indexes of documents that contain one of query's words\n",
    "            \n",
    "            output = dataframe.loc[list(result)][[\"placeName\", \"placeDesc\", \"placeUrl\"]]  # match inverted indexes with documents pd.Dataframe.index \n",
    "            print(\"\\n results : \\t\")\n",
    "            display(output.head())\n",
    "            print(\" data.shape :\",output.shape)\n",
    "            your_list = list(result)\n",
    "        except KeyError:                            # take care of queries not found\n",
    "            return print(\"Error 404: no documents found that match query\")\n",
    "    return (output, your_list)"
   ]
  },
  {
   "cell_type": "code",
   "execution_count": 10,
   "id": "e2e7a4cf-d5ed-49b1-846a-7f40c68678ea",
   "metadata": {},
   "outputs": [
    {
     "name": "stdout",
     "output_type": "stream",
     "text": [
      "\n",
      " results : \t\n"
     ]
    },
    {
     "data": {
      "text/html": [
       "<div>\n",
       "<style scoped>\n",
       "    .dataframe tbody tr th:only-of-type {\n",
       "        vertical-align: middle;\n",
       "    }\n",
       "\n",
       "    .dataframe tbody tr th {\n",
       "        vertical-align: top;\n",
       "    }\n",
       "\n",
       "    .dataframe thead th {\n",
       "        text-align: right;\n",
       "    }\n",
       "</style>\n",
       "<table border=\"1\" class=\"dataframe\">\n",
       "  <thead>\n",
       "    <tr style=\"text-align: right;\">\n",
       "      <th></th>\n",
       "      <th>placeName</th>\n",
       "      <th>placeDesc</th>\n",
       "      <th>placeUrl</th>\n",
       "    </tr>\n",
       "  </thead>\n",
       "  <tbody>\n",
       "    <tr>\n",
       "      <th>1538</th>\n",
       "      <td>Carnegie Library of Washington, D.C.</td>\n",
       "      <td>In 1899 a member of the D.C. Library board une...</td>\n",
       "      <td>https://www.atlasobscura.com/places/carnegie-l...</td>\n",
       "    </tr>\n",
       "    <tr>\n",
       "      <th>3593</th>\n",
       "      <td>Hall of Heroes</td>\n",
       "      <td>Most superheroes tend to make their base in a ...</td>\n",
       "      <td>https://www.atlasobscura.com/places/hall-of-he...</td>\n",
       "    </tr>\n",
       "    <tr>\n",
       "      <th>6669</th>\n",
       "      <td>Chapultepec Castle</td>\n",
       "      <td>When we think of castles we think of Europe an...</td>\n",
       "      <td>https://www.atlasobscura.com/places/chapultepe...</td>\n",
       "    </tr>\n",
       "    <tr>\n",
       "      <th>528</th>\n",
       "      <td>Museum of the Eye</td>\n",
       "      <td>How do you see the world? Find out at the Muse...</td>\n",
       "      <td>https://www.atlasobscura.com/places/museum-oph...</td>\n",
       "    </tr>\n",
       "    <tr>\n",
       "      <th>3600</th>\n",
       "      <td>McNutt Sculpture Garden</td>\n",
       "      <td>A hidden sculpture garden exists just off the ...</td>\n",
       "      <td>https://www.atlasobscura.com/places/mcnutt-scu...</td>\n",
       "    </tr>\n",
       "  </tbody>\n",
       "</table>\n",
       "</div>"
      ],
      "text/plain": [
       "                                  placeName  \\\n",
       "1538  Carnegie Library of Washington, D.C.    \n",
       "3593                         Hall of Heroes   \n",
       "6669                     Chapultepec Castle   \n",
       "528                       Museum of the Eye   \n",
       "3600               McNutt Sculpture Garden    \n",
       "\n",
       "                                              placeDesc  \\\n",
       "1538  In 1899 a member of the D.C. Library board une...   \n",
       "3593  Most superheroes tend to make their base in a ...   \n",
       "6669  When we think of castles we think of Europe an...   \n",
       "528   How do you see the world? Find out at the Muse...   \n",
       "3600  A hidden sculpture garden exists just off the ...   \n",
       "\n",
       "                                               placeUrl  \n",
       "1538  https://www.atlasobscura.com/places/carnegie-l...  \n",
       "3593  https://www.atlasobscura.com/places/hall-of-he...  \n",
       "6669  https://www.atlasobscura.com/places/chapultepe...  \n",
       "528   https://www.atlasobscura.com/places/museum-oph...  \n",
       "3600  https://www.atlasobscura.com/places/mcnutt-scu...  "
      ]
     },
     "metadata": {},
     "output_type": "display_data"
    },
    {
     "name": "stdout",
     "output_type": "stream",
     "text": [
      " data.shape : (234, 3)\n"
     ]
    }
   ],
   "source": [
    "query = input(str(\"\\t query :\"))\n",
    "result = simple_search( query, data )"
   ]
  },
  {
   "cell_type": "markdown",
   "id": "a72f0888-da48-49cf-a5e7-3a26c7c1788e",
   "metadata": {},
   "source": [
    "#### 2.2 Conjunctive query & Ranking score"
   ]
  },
  {
   "cell_type": "markdown",
   "id": "d6bbebe0",
   "metadata": {},
   "source": [
    "The next step is to make a new Search engine that will that into consideration the similarity that the documents have with the query.\n",
    "So we want to find all the documents that contain all the words in the query and, after computing the TF-IDFs, to sort them by their similarity with the query."
   ]
  },
  {
   "cell_type": "code",
   "execution_count": 13,
   "id": "7c7d9e6d",
   "metadata": {},
   "outputs": [
    {
     "name": "stderr",
     "output_type": "stream",
     "text": [
      "100%|██████████| 7200/7200 [00:00<00:00, 78470.52it/s]\n"
     ]
    }
   ],
   "source": [
    "clean_desc = {}\n",
    "for i in tqdm(range(len(data))):\n",
    "    # get the description from the data frame, clean it and save it in a dictionary\n",
    "    clean_desc[i]=' '.join(data.list_words[i])\n",
    "    \n",
    "# We save dictionaries as pkl\n",
    "descriptionsDataset = open(\"descriptionsDataset.pkl\", \"wb\")\n",
    "pickle.dump(clean_desc, descriptionsDataset)\n",
    "descriptionsDataset.close()"
   ]
  },
  {
   "cell_type": "code",
   "execution_count": 9,
   "id": "d948dac1",
   "metadata": {},
   "outputs": [],
   "source": [
    "# To get the descriptions\n",
    "with open('descriptionsDataset.pkl', 'rb') as f:\n",
    "    clean_desc = pickle.load(f)"
   ]
  },
  {
   "cell_type": "markdown",
   "id": "01ab8671",
   "metadata": {},
   "source": [
    "Let's start with creating a new Inverted Indexes dictionary, but this time we will save also the TF-IDFs"
   ]
  },
  {
   "cell_type": "code",
   "execution_count": 12,
   "id": "d7fe51cf",
   "metadata": {},
   "outputs": [],
   "source": [
    "# Function that will compute the tf-idf given a document and a term\n",
    "def compute_tfidf(i, desc, d_i, D):\n",
    "    # Count how many times the term i is un the document\n",
    "    occurence = 0\n",
    "    for w in desc:\n",
    "        if w == i:\n",
    "            occurence += 1\n",
    "    # tf = how many times the term i is un the document/the total number of words in the document\n",
    "    tf = occurence/len(desc)\n",
    "    # idf indicate how 'specific' is the term i = log(number of documents/number of documents that contains i)\n",
    "    idf = np.log2(D/d_i)\n",
    "    return tf*idf"
   ]
  },
  {
   "cell_type": "code",
   "execution_count": 18,
   "id": "6de6c68c",
   "metadata": {},
   "outputs": [],
   "source": [
    "# create the actual dictionary\n",
    "InvertedIdx_v2 = {}\n",
    "for i in inverted_idx.keys():\n",
    "    #how many documents contain the term i\n",
    "    d_i = len(inverted_idx[i])  \n",
    "    for j in range(d_i):\n",
    "        # get the full (cleaned) description of the document InvertedIdx[i][j]\n",
    "        desc = clean_desc[inverted_idx[i][j]] \n",
    "        #compute the tfidf\n",
    "        tfidf = compute_tfidf(i, desc.split(), d_i, 7200)\n",
    "        if i not in InvertedIdx_v2.keys():\n",
    "            InvertedIdx_v2[i] = [(inverted_idx[i][j], tfidf)]\n",
    "        else:\n",
    "            InvertedIdx_v2[i].append((inverted_idx[i][j], tfidf))\n",
    "       "
   ]
  },
  {
   "cell_type": "markdown",
   "id": "5d1df2e5",
   "metadata": {},
   "source": [
    "Again we can save it:"
   ]
  },
  {
   "cell_type": "code",
   "execution_count": 19,
   "id": "4982c457",
   "metadata": {},
   "outputs": [],
   "source": [
    "II_v2 = open(\"tfidfII.pkl\", \"wb\")\n",
    "pickle.dump(InvertedIdx_v2, II_v2)\n",
    "II_v2.close()"
   ]
  },
  {
   "cell_type": "markdown",
   "id": "77654a7d",
   "metadata": {},
   "source": [
    "And access it in a easier way, now that it's saved:"
   ]
  },
  {
   "cell_type": "code",
   "execution_count": 10,
   "id": "e8f2e4b4",
   "metadata": {},
   "outputs": [],
   "source": [
    "with open(\"tfidfII.pkl\", 'rb') as f:\n",
    "    InvertedIdx_v2 = pickle.load(f)"
   ]
  },
  {
   "cell_type": "markdown",
   "id": "1d0947e5",
   "metadata": {},
   "source": [
    "To compute the similarity (cosine similarity) between the documents we are goint to need some other informations:\n",
    "- Have the IDFs of the terms, so we can compute the query vector\n",
    "- The norms of all the documents\n",
    "\n",
    "Just like the Inverted Indexes we will compute all the informations needed and save them externally"
   ]
  },
  {
   "cell_type": "code",
   "execution_count": 21,
   "id": "933edd02",
   "metadata": {},
   "outputs": [],
   "source": [
    "IDFs = {}\n",
    "for i in inverted_idx.keys():\n",
    "    d_i = len(inverted_idx[i])  #how many documents contain the term i\n",
    "    IDFs[i] = np.log10(7200/d_i)\n",
    "# Save the IDFs externally\n",
    "idfs = open(\"SingleIDFs.pkl\", \"wb\")\n",
    "pickle.dump(IDFs, idfs)\n",
    "idfs.close()"
   ]
  },
  {
   "cell_type": "code",
   "execution_count": 11,
   "id": "c250906e",
   "metadata": {},
   "outputs": [],
   "source": [
    "# To load the IDFs\n",
    "with open(\"SingleIDFs.pkl\", 'rb') as f:\n",
    "    IDFs = pickle.load(f)"
   ]
  },
  {
   "cell_type": "code",
   "execution_count": 25,
   "id": "3d969937",
   "metadata": {},
   "outputs": [],
   "source": [
    "# compute the norm of the documunt doc using the TF-IDFs saved in the Inverted Indexes\n",
    "def doc_norm(terms, InvertedIdx_v2, doc):\n",
    "    sums = []\n",
    "    # to keep track of the already checked terms\n",
    "    checked = set()\n",
    "    for w in terms:\n",
    "        # If w is not checked\n",
    "        if w not in checked:\n",
    "            checked.add(w)\n",
    "            for j in InvertedIdx_v2[word_dict[w]]:\n",
    "                if j[0] == doc:\n",
    "                    # add to the list the square of the TF_IDF of the term w\n",
    "                    sums.append((j[1])**2)\n",
    "                    break\n",
    "    # return the norm = the square root of the sum of all the TF_IDF^2 \n",
    "    return np.sqrt(sum(sums))\n",
    "    "
   ]
  },
  {
   "cell_type": "code",
   "execution_count": 29,
   "id": "ed2a69e5",
   "metadata": {},
   "outputs": [],
   "source": [
    "norms = {}\n",
    "# for all the documents\n",
    "for i in clean_desc.keys():\n",
    "    # Compute the norm\n",
    "    norm = doc_norm(clean_desc[i].split(), InvertedIdx_v2, i)\n",
    "    # save it in the dictionary \n",
    "    norms['document_'+str(i+1)]=norm\n",
    "# Save the dictionary externally\n",
    "Norm = open(\"norms.pkl\", \"wb\")\n",
    "pickle.dump(norms, Norm)\n",
    "Norm.close()"
   ]
  },
  {
   "cell_type": "code",
   "execution_count": 21,
   "id": "ea35a3de",
   "metadata": {},
   "outputs": [],
   "source": [
    "# To load the norms\n",
    "with open(\"norms.pkl\", 'rb') as f:\n",
    "    norms = pickle.load(f)"
   ]
  },
  {
   "cell_type": "markdown",
   "id": "51d98517",
   "metadata": {},
   "source": [
    "Now that we saved everything that we need it's time for the actual search engine, that's gonna be implemented using the cosine similarity"
   ]
  },
  {
   "cell_type": "code",
   "execution_count": 12,
   "id": "80e4fee8",
   "metadata": {},
   "outputs": [],
   "source": [
    "# function that given a word and the inverted indexes dictionary, gives back the list that correspond to the word as a df row\n",
    "def df_linew (word, II):\n",
    "    documents = []\n",
    "    tfidf = []\n",
    "    # takes all the touples in the list\n",
    "    for d in II[word_dict[word]]:\n",
    "        # Gets the index of the documents\n",
    "        documents.append('document_'+str(int(d[0])+1))\n",
    "        # and all the tf_idf \n",
    "        tfidf.append(d[1])\n",
    "    # put the documents as col names and the tf_idf as values of the df\n",
    "    df = pd.DataFrame.from_dict({word: tfidf}, orient='index', columns=documents)\n",
    "    return df"
   ]
  },
  {
   "cell_type": "code",
   "execution_count": 13,
   "id": "613286bb",
   "metadata": {},
   "outputs": [],
   "source": [
    "# Function that given a query and the dictionary of the Inverted Indexes and gives back a df \n",
    "# df with columns that correspond to the terms of the query and row to the deocuments that contains the terms\n",
    "def searchEngine(query, InvertedIdx_v2):  \n",
    "    Engine = pd.DataFrame()\n",
    "    # for all the terms of the query\n",
    "    for w in query:\n",
    "        # make the df row of the term w\n",
    "        df_idf = df_linew(w, InvertedIdx_v2)\n",
    "        # concat the new row\n",
    "        Engine = pd.concat([Engine, df_idf]).fillna(0)\n",
    "    Engine = Engine.transpose()\n",
    "    return Engine.loc[(Engine!=0).all(axis=1)]"
   ]
  },
  {
   "cell_type": "code",
   "execution_count": 14,
   "id": "ed53cadb",
   "metadata": {},
   "outputs": [],
   "source": [
    "# compute the tfidf of the query\n",
    "def queryTFIDF(query, IDFs):\n",
    "    q = []\n",
    "    for i in range(len(query)):\n",
    "        q.append(IDFs[word_dict[query[i]]]/len(query))\n",
    "    return q\n"
   ]
  },
  {
   "cell_type": "code",
   "execution_count": 15,
   "id": "cfc50856",
   "metadata": {},
   "outputs": [],
   "source": [
    "# Function that compute the cosine similarity, will return a list of touples as (doc_it, cosine_sim)\n",
    "def cosineDistance(Search, query, IDFs, norms):\n",
    "    d = []\n",
    "    # create the query vector with the TF-IDFs inside\n",
    "    q = queryTFIDF(query, IDFs)\n",
    "    # for all the documents that contain all the query terms\n",
    "    for i in Search.index:\n",
    "        aux = np.dot(list(Search.loc[i]),q)\n",
    "        # append the touples\n",
    "        d.append((i,aux/(norms[i])))\n",
    "    return d"
   ]
  },
  {
   "cell_type": "code",
   "execution_count": 16,
   "id": "f21fc9f4",
   "metadata": {},
   "outputs": [],
   "source": [
    "# Function that print the results of the search engine\n",
    "def print_search(result, place_df, query):\n",
    "    print('While looking for the query:\\n\\t', query)\n",
    "    k = int(input())\n",
    "    print('Those where the top', k, 'results:')\n",
    "    wantedCols = ['placeName', 'placeDesc', 'placeURL']\n",
    "    indexes = []\n",
    "    simil = []\n",
    "    for i in range(len(result)):\n",
    "        indexes.append(int(result[i][0].split('_')[1])-1)\n",
    "        simil.append(result[i][1])\n",
    "    # load the df\n",
    "    df = place_df.iloc[indexes][wantedCols]\n",
    "    # add the last column\n",
    "    df['Similarity']=simil\n",
    "    display(df.head(k))\n"
   ]
  },
  {
   "cell_type": "code",
   "execution_count": null,
   "id": "d4fee3ed",
   "metadata": {},
   "outputs": [
    {
     "name": "stdout",
     "output_type": "stream",
     "text": [
      "While looking for the query:\n",
      "\t american museum\n",
      "Those where the top 10 results:\n"
     ]
    },
    {
     "data": {
      "text/html": [
       "<div>\n",
       "<style scoped>\n",
       "    .dataframe tbody tr th:only-of-type {\n",
       "        vertical-align: middle;\n",
       "    }\n",
       "\n",
       "    .dataframe tbody tr th {\n",
       "        vertical-align: top;\n",
       "    }\n",
       "\n",
       "    .dataframe thead th {\n",
       "        text-align: right;\n",
       "    }\n",
       "</style>\n",
       "<table border=\"1\" class=\"dataframe\">\n",
       "  <thead>\n",
       "    <tr style=\"text-align: right;\">\n",
       "      <th></th>\n",
       "      <th>placeName</th>\n",
       "      <th>placeDesc</th>\n",
       "      <th>placeURL</th>\n",
       "      <th>Similarity</th>\n",
       "    </tr>\n",
       "  </thead>\n",
       "  <tbody>\n",
       "    <tr>\n",
       "      <th>6206</th>\n",
       "      <td>Sweet Home Cafe</td>\n",
       "      <td>Thomas Downing was the oyster king. In 19th-ce...</td>\n",
       "      <td>https://www.atlasobscura.com/places/sweet-home...</td>\n",
       "      <td>0.143841</td>\n",
       "    </tr>\n",
       "    <tr>\n",
       "      <th>140</th>\n",
       "      <td>Museum of the Weird</td>\n",
       "      <td>The dime or dime store museum is by all accoun...</td>\n",
       "      <td>https://www.atlasobscura.com/places/museum-weird</td>\n",
       "      <td>0.123250</td>\n",
       "    </tr>\n",
       "    <tr>\n",
       "      <th>1201</th>\n",
       "      <td>Harvard Museum of Natural History</td>\n",
       "      <td>Collecting three different institutions into o...</td>\n",
       "      <td>https://www.atlasobscura.com/places/harvard-mu...</td>\n",
       "      <td>0.122421</td>\n",
       "    </tr>\n",
       "    <tr>\n",
       "      <th>6283</th>\n",
       "      <td>Self-Taught Genius Gallery</td>\n",
       "      <td>In 2017, the American Folk Art Museum in Manha...</td>\n",
       "      <td>https://www.atlasobscura.com/places/self-taugh...</td>\n",
       "      <td>0.109571</td>\n",
       "    </tr>\n",
       "    <tr>\n",
       "      <th>6220</th>\n",
       "      <td>Siriraj Medical Museum</td>\n",
       "      <td>The Siriraj Medical Museum abounds with medica...</td>\n",
       "      <td>https://www.atlasobscura.com/places/siriraj-me...</td>\n",
       "      <td>0.107924</td>\n",
       "    </tr>\n",
       "    <tr>\n",
       "      <th>4463</th>\n",
       "      <td>American Writers Museum</td>\n",
       "      <td>The American Writers Museum—tucked away on the...</td>\n",
       "      <td>https://www.atlasobscura.com/places/american-w...</td>\n",
       "      <td>0.101455</td>\n",
       "    </tr>\n",
       "    <tr>\n",
       "      <th>1899</th>\n",
       "      <td>National World War II Museum</td>\n",
       "      <td>Perhaps once thought too narrowly focused, thi...</td>\n",
       "      <td>https://www.atlasobscura.com/places/national-w...</td>\n",
       "      <td>0.100796</td>\n",
       "    </tr>\n",
       "    <tr>\n",
       "      <th>4987</th>\n",
       "      <td>Mammoth Cave Wildlife Museum</td>\n",
       "      <td>Cave City is a wonderland of kitschy tourist t...</td>\n",
       "      <td>https://www.atlasobscura.com/places/mammoth-ca...</td>\n",
       "      <td>0.099418</td>\n",
       "    </tr>\n",
       "    <tr>\n",
       "      <th>2756</th>\n",
       "      <td>Museum of Mourning Art</td>\n",
       "      <td>Mourning and personal response to death are un...</td>\n",
       "      <td>https://www.atlasobscura.com/places/museum-of-...</td>\n",
       "      <td>0.097444</td>\n",
       "    </tr>\n",
       "    <tr>\n",
       "      <th>6981</th>\n",
       "      <td>National Museum of the Pacific War</td>\n",
       "      <td>Dedicated specifically to remembering the stor...</td>\n",
       "      <td>https://www.atlasobscura.com/places/national-m...</td>\n",
       "      <td>0.095261</td>\n",
       "    </tr>\n",
       "  </tbody>\n",
       "</table>\n",
       "</div>"
      ],
      "text/plain": [
       "                               placeName  \\\n",
       "6206                     Sweet Home Cafe   \n",
       "140                  Museum of the Weird   \n",
       "1201   Harvard Museum of Natural History   \n",
       "6283          Self-Taught Genius Gallery   \n",
       "6220              Siriraj Medical Museum   \n",
       "4463             American Writers Museum   \n",
       "1899        National World War II Museum   \n",
       "4987        Mammoth Cave Wildlife Museum   \n",
       "2756              Museum of Mourning Art   \n",
       "6981  National Museum of the Pacific War   \n",
       "\n",
       "                                              placeDesc  \\\n",
       "6206  Thomas Downing was the oyster king. In 19th-ce...   \n",
       "140   The dime or dime store museum is by all accoun...   \n",
       "1201  Collecting three different institutions into o...   \n",
       "6283  In 2017, the American Folk Art Museum in Manha...   \n",
       "6220  The Siriraj Medical Museum abounds with medica...   \n",
       "4463  The American Writers Museum—tucked away on the...   \n",
       "1899  Perhaps once thought too narrowly focused, thi...   \n",
       "4987  Cave City is a wonderland of kitschy tourist t...   \n",
       "2756  Mourning and personal response to death are un...   \n",
       "6981  Dedicated specifically to remembering the stor...   \n",
       "\n",
       "                                               placeURL  Similarity  \n",
       "6206  https://www.atlasobscura.com/places/sweet-home...    0.143841  \n",
       "140    https://www.atlasobscura.com/places/museum-weird    0.123250  \n",
       "1201  https://www.atlasobscura.com/places/harvard-mu...    0.122421  \n",
       "6283  https://www.atlasobscura.com/places/self-taugh...    0.109571  \n",
       "6220  https://www.atlasobscura.com/places/siriraj-me...    0.107924  \n",
       "4463  https://www.atlasobscura.com/places/american-w...    0.101455  \n",
       "1899  https://www.atlasobscura.com/places/national-w...    0.100796  \n",
       "4987  https://www.atlasobscura.com/places/mammoth-ca...    0.099418  \n",
       "2756  https://www.atlasobscura.com/places/museum-of-...    0.097444  \n",
       "6981  https://www.atlasobscura.com/places/national-m...    0.095261  "
      ]
     },
     "metadata": {},
     "output_type": "display_data"
    }
   ],
   "source": [
    "query = input()\n",
    "query1 = processing_test(query)\n",
    "Search = searchEngine(query1, InvertedIdx_v2)\n",
    "result = mergesort(cosineDistance(Search, query1, IDFs, norms))\n",
    "print_search(result, data, query)"
   ]
  },
  {
   "cell_type": "markdown",
   "id": "f7fc5f0a",
   "metadata": {},
   "source": [
    "# 3"
   ]
  },
  {
   "cell_type": "markdown",
   "id": "1fc88860",
   "metadata": {},
   "source": [
    "Now we want to try and create a new score to sort the result of our query. \n",
    "\n",
    "Up until now we were thinking of all this places just as documents to sort by looking at the description. Now what we want to do and sort the documents using the distance from a given point (latitude, longitude). \n",
    "\n",
    "So given a query of terms and a location, the result will be given by the result of the query sorted by the distance."
   ]
  },
  {
   "cell_type": "code",
   "execution_count": 9,
   "id": "66cfdd0f",
   "metadata": {},
   "outputs": [],
   "source": [
    "import plotly.express as px\n",
    "import geopy.distance"
   ]
  },
  {
   "cell_type": "code",
   "execution_count": 10,
   "id": "f5010447",
   "metadata": {},
   "outputs": [],
   "source": [
    "# function that compute the new score for the new 'similarity', the distance our case\n",
    "def NewScore1(lat, long, results, place_df):\n",
    "    NewResult = []\n",
    "    for i in results:\n",
    "        # get the coordinates of the places\n",
    "        lat_i = place_df.iloc[i]['placeAlt']\n",
    "        long_i = place_df.iloc[i]['placeLong']\n",
    "        # compute the distance from the coordinates given as imput\n",
    "        dist = (geopy.distance.geodesic((lat,long), (lat_i,long_i)).km)\n",
    "        # add the touple (doc_id, distance) to a list\n",
    "        NewResult.append((i,-dist))\n",
    "\n",
    "    return NewResult\n"
   ]
  },
  {
   "cell_type": "code",
   "execution_count": 11,
   "id": "c77889d8",
   "metadata": {},
   "outputs": [],
   "source": [
    "# Function that show the results from the new search engine\n",
    "def ShowNewScore1(result, place_df, query, lat, long, k):\n",
    "    print('While looking for the query:\\n\\t', query, '\\nIn the position:\\n\\t', lat, long,'\\nThose were the top', k, 'results:')\n",
    "    wantedCols = ['placeName', 'placeDesc','placeAlt', 'placeLong', 'placeUrl', 'numPeopleVisited', 'numPeopleWant','placeAddress']\n",
    "    indexes = []\n",
    "    dist = []\n",
    "    for i in range(len(result)):\n",
    "        indexes.append(result[i][0])\n",
    "        dist.append(str(round(-result[i][1],3))+' km')\n",
    "    # load the df\n",
    "    df = place_df.iloc[indexes][wantedCols]\n",
    "    # add the last column\n",
    "    df['Distance']=dist\n",
    "    display(df[['placeName','placeDesc', 'placeUrl', 'Distance']].head(k))\n",
    "    return df"
   ]
  },
  {
   "cell_type": "code",
   "execution_count": 13,
   "id": "4d7f85c5",
   "metadata": {},
   "outputs": [
    {
     "name": "stdout",
     "output_type": "stream",
     "text": [
      "Write the term query for the search:\n",
      "Write the location (latitude and longitude separeted by a space):\n",
      "\n",
      " results : \t\n"
     ]
    },
    {
     "data": {
      "text/html": [
       "<div>\n",
       "<style scoped>\n",
       "    .dataframe tbody tr th:only-of-type {\n",
       "        vertical-align: middle;\n",
       "    }\n",
       "\n",
       "    .dataframe tbody tr th {\n",
       "        vertical-align: top;\n",
       "    }\n",
       "\n",
       "    .dataframe thead th {\n",
       "        text-align: right;\n",
       "    }\n",
       "</style>\n",
       "<table border=\"1\" class=\"dataframe\">\n",
       "  <thead>\n",
       "    <tr style=\"text-align: right;\">\n",
       "      <th></th>\n",
       "      <th>placeName</th>\n",
       "      <th>placeDesc</th>\n",
       "      <th>placeUrl</th>\n",
       "    </tr>\n",
       "  </thead>\n",
       "  <tbody>\n",
       "    <tr>\n",
       "      <th>1538</th>\n",
       "      <td>Carnegie Library of Washington, D.C.</td>\n",
       "      <td>In 1899 a member of the D.C. Library board une...</td>\n",
       "      <td>https://www.atlasobscura.com/places/carnegie-l...</td>\n",
       "    </tr>\n",
       "    <tr>\n",
       "      <th>3593</th>\n",
       "      <td>Hall of Heroes</td>\n",
       "      <td>Most superheroes tend to make their base in a ...</td>\n",
       "      <td>https://www.atlasobscura.com/places/hall-of-he...</td>\n",
       "    </tr>\n",
       "    <tr>\n",
       "      <th>6669</th>\n",
       "      <td>Chapultepec Castle</td>\n",
       "      <td>When we think of castles we think of Europe an...</td>\n",
       "      <td>https://www.atlasobscura.com/places/chapultepe...</td>\n",
       "    </tr>\n",
       "    <tr>\n",
       "      <th>528</th>\n",
       "      <td>Museum of the Eye</td>\n",
       "      <td>How do you see the world? Find out at the Muse...</td>\n",
       "      <td>https://www.atlasobscura.com/places/museum-oph...</td>\n",
       "    </tr>\n",
       "    <tr>\n",
       "      <th>3600</th>\n",
       "      <td>McNutt Sculpture Garden</td>\n",
       "      <td>A hidden sculpture garden exists just off the ...</td>\n",
       "      <td>https://www.atlasobscura.com/places/mcnutt-scu...</td>\n",
       "    </tr>\n",
       "  </tbody>\n",
       "</table>\n",
       "</div>"
      ],
      "text/plain": [
       "                                  placeName  \\\n",
       "1538  Carnegie Library of Washington, D.C.    \n",
       "3593                         Hall of Heroes   \n",
       "6669                     Chapultepec Castle   \n",
       "528                       Museum of the Eye   \n",
       "3600               McNutt Sculpture Garden    \n",
       "\n",
       "                                              placeDesc  \\\n",
       "1538  In 1899 a member of the D.C. Library board une...   \n",
       "3593  Most superheroes tend to make their base in a ...   \n",
       "6669  When we think of castles we think of Europe an...   \n",
       "528   How do you see the world? Find out at the Muse...   \n",
       "3600  A hidden sculpture garden exists just off the ...   \n",
       "\n",
       "                                               placeUrl  \n",
       "1538  https://www.atlasobscura.com/places/carnegie-l...  \n",
       "3593  https://www.atlasobscura.com/places/hall-of-he...  \n",
       "6669  https://www.atlasobscura.com/places/chapultepe...  \n",
       "528   https://www.atlasobscura.com/places/museum-oph...  \n",
       "3600  https://www.atlasobscura.com/places/mcnutt-scu...  "
      ]
     },
     "metadata": {},
     "output_type": "display_data"
    },
    {
     "name": "stdout",
     "output_type": "stream",
     "text": [
      " data.shape : (234, 3)\n",
      "While looking for the query:\n",
      "\t american museum \n",
      "In the position:\n",
      "\t 40.7512 -73.9769 \n",
      "Those were the top 10 results:\n"
     ]
    },
    {
     "data": {
      "text/html": [
       "<div>\n",
       "<style scoped>\n",
       "    .dataframe tbody tr th:only-of-type {\n",
       "        vertical-align: middle;\n",
       "    }\n",
       "\n",
       "    .dataframe tbody tr th {\n",
       "        vertical-align: top;\n",
       "    }\n",
       "\n",
       "    .dataframe thead th {\n",
       "        text-align: right;\n",
       "    }\n",
       "</style>\n",
       "<table border=\"1\" class=\"dataframe\">\n",
       "  <thead>\n",
       "    <tr style=\"text-align: right;\">\n",
       "      <th></th>\n",
       "      <th>placeName</th>\n",
       "      <th>placeDesc</th>\n",
       "      <th>placeUrl</th>\n",
       "      <th>Distance</th>\n",
       "    </tr>\n",
       "  </thead>\n",
       "  <tbody>\n",
       "    <tr>\n",
       "      <th>1020</th>\n",
       "      <td>The American Kennel Club Museum of the Dog</td>\n",
       "      <td>At the intersection of the Venn diagram where ...</td>\n",
       "      <td>https://www.atlasobscura.com/places/the-americ...</td>\n",
       "      <td>0.101 km</td>\n",
       "    </tr>\n",
       "    <tr>\n",
       "      <th>545</th>\n",
       "      <td>Theodore Roosevelt Birthplace Museum</td>\n",
       "      <td>Behind an otherwise innocuous (if immaculately...</td>\n",
       "      <td>https://www.atlasobscura.com/places/theodore-r...</td>\n",
       "      <td>1.71 km</td>\n",
       "    </tr>\n",
       "    <tr>\n",
       "      <th>418</th>\n",
       "      <td>Albertine</td>\n",
       "      <td>A hand-painted ceiling of celestial scenes cap...</td>\n",
       "      <td>https://www.atlasobscura.com/places/albertine</td>\n",
       "      <td>3.033 km</td>\n",
       "    </tr>\n",
       "    <tr>\n",
       "      <th>1316</th>\n",
       "      <td>Self-Taught Genius Gallery</td>\n",
       "      <td>In 2017, the American Folk Art Museum in Manha...</td>\n",
       "      <td>https://www.atlasobscura.com/places/self-taugh...</td>\n",
       "      <td>3.848 km</td>\n",
       "    </tr>\n",
       "    <tr>\n",
       "      <th>3997</th>\n",
       "      <td>Museum of Chinese in America</td>\n",
       "      <td>The Museum of Chinese in America is nestled—al...</td>\n",
       "      <td>https://www.atlasobscura.com/places/museum-of-...</td>\n",
       "      <td>3.998 km</td>\n",
       "    </tr>\n",
       "    <tr>\n",
       "      <th>2241</th>\n",
       "      <td>Museum of Food and Drink</td>\n",
       "      <td>It’s easy to work up an appetite as you meande...</td>\n",
       "      <td>https://www.atlasobscura.com/places/museum-of-...</td>\n",
       "      <td>4.274 km</td>\n",
       "    </tr>\n",
       "    <tr>\n",
       "      <th>3793</th>\n",
       "      <td>The Oldest Fence in New York</td>\n",
       "      <td>Most visitors to Bowling Green today come to s...</td>\n",
       "      <td>https://www.atlasobscura.com/places/the-oldest...</td>\n",
       "      <td>6.008 km</td>\n",
       "    </tr>\n",
       "    <tr>\n",
       "      <th>6446</th>\n",
       "      <td>Fraunces Tavern</td>\n",
       "      <td>Fraunces Tavern was originally the home of ear...</td>\n",
       "      <td>https://www.atlasobscura.com/places/fraunces-t...</td>\n",
       "      <td>6.056 km</td>\n",
       "    </tr>\n",
       "    <tr>\n",
       "      <th>1058</th>\n",
       "      <td>Governors Island</td>\n",
       "      <td>Governors Island has quite a lot of history to...</td>\n",
       "      <td>https://www.atlasobscura.com/places/governor-s...</td>\n",
       "      <td>7.532 km</td>\n",
       "    </tr>\n",
       "    <tr>\n",
       "      <th>2194</th>\n",
       "      <td>Hamilton Grange</td>\n",
       "      <td>Built in the pastoral expanses of colonial Har...</td>\n",
       "      <td>https://www.atlasobscura.com/places/hamilton-g...</td>\n",
       "      <td>8.212 km</td>\n",
       "    </tr>\n",
       "  </tbody>\n",
       "</table>\n",
       "</div>"
      ],
      "text/plain": [
       "                                       placeName  \\\n",
       "1020  The American Kennel Club Museum of the Dog   \n",
       "545         Theodore Roosevelt Birthplace Museum   \n",
       "418                                    Albertine   \n",
       "1316                  Self-Taught Genius Gallery   \n",
       "3997                Museum of Chinese in America   \n",
       "2241                    Museum of Food and Drink   \n",
       "3793                The Oldest Fence in New York   \n",
       "6446                             Fraunces Tavern   \n",
       "1058                            Governors Island   \n",
       "2194                             Hamilton Grange   \n",
       "\n",
       "                                              placeDesc  \\\n",
       "1020  At the intersection of the Venn diagram where ...   \n",
       "545   Behind an otherwise innocuous (if immaculately...   \n",
       "418   A hand-painted ceiling of celestial scenes cap...   \n",
       "1316  In 2017, the American Folk Art Museum in Manha...   \n",
       "3997  The Museum of Chinese in America is nestled—al...   \n",
       "2241  It’s easy to work up an appetite as you meande...   \n",
       "3793  Most visitors to Bowling Green today come to s...   \n",
       "6446  Fraunces Tavern was originally the home of ear...   \n",
       "1058  Governors Island has quite a lot of history to...   \n",
       "2194  Built in the pastoral expanses of colonial Har...   \n",
       "\n",
       "                                               placeUrl  Distance  \n",
       "1020  https://www.atlasobscura.com/places/the-americ...  0.101 km  \n",
       "545   https://www.atlasobscura.com/places/theodore-r...   1.71 km  \n",
       "418       https://www.atlasobscura.com/places/albertine  3.033 km  \n",
       "1316  https://www.atlasobscura.com/places/self-taugh...  3.848 km  \n",
       "3997  https://www.atlasobscura.com/places/museum-of-...  3.998 km  \n",
       "2241  https://www.atlasobscura.com/places/museum-of-...  4.274 km  \n",
       "3793  https://www.atlasobscura.com/places/the-oldest...  6.008 km  \n",
       "6446  https://www.atlasobscura.com/places/fraunces-t...  6.056 km  \n",
       "1058  https://www.atlasobscura.com/places/governor-s...  7.532 km  \n",
       "2194  https://www.atlasobscura.com/places/hamilton-g...  8.212 km  "
      ]
     },
     "metadata": {},
     "output_type": "display_data"
    }
   ],
   "source": [
    "# Get the query\n",
    "print('Write the term query for the search:')\n",
    "query = input()\n",
    "\n",
    "# Get the lat and long\n",
    "print('Write the location (latitude and longitude separeted by a space):')\n",
    "lat, long = map(float, input().split())\n",
    "\n",
    "# Get how many places to display\n",
    "k = int(input())\n",
    "\n",
    "# find the list of the indexes of the documents that contain all the terms of the query\n",
    "qSearch = simple_search(query, data)\n",
    "\n",
    "#let's look for the closer places\n",
    "fullSearch = NewScore1(lat, long, qSearch[1], data)\n",
    "fullSearchSorted = mergesort(fullSearch)\n",
    "\n",
    "newdf = ShowNewScore1(fullSearchSorted, data, query, lat, long, k)"
   ]
  },
  {
   "cell_type": "markdown",
   "id": "2fe07525",
   "metadata": {},
   "source": [
    "# 4"
   ]
  },
  {
   "cell_type": "markdown",
   "id": "b57043fb",
   "metadata": {},
   "source": [
    "It may be usefull to also use a visual raffiguration of our results. So here there will be a map of the results of the previous search engine: A world map centred in the coordinated given in input where the results are bigger the higher is the popolarity of the place (average of people that want to go and the people that actually visited the place)."
   ]
  },
  {
   "cell_type": "code",
   "execution_count": 14,
   "id": "32a16d53",
   "metadata": {},
   "outputs": [],
   "source": [
    "average = [sum(x) for x in zip(list(newdf.numPeopleWant),list(newdf.numPeopleVisited))]\n",
    "average[:] = [x/2 for x in average]\n",
    "newdf['Popolarity'] = average"
   ]
  },
  {
   "cell_type": "code",
   "execution_count": 15,
   "id": "c7560609",
   "metadata": {},
   "outputs": [
    {
     "data": {
      "application/vnd.plotly.v1+json": {
       "config": {
        "plotlyServerURL": "https://plot.ly"
       },
       "data": [
        {
         "customdata": [
          [
           "101 Park Ave Viaduct New York, New York, 10016 United States",
           147
          ]
         ],
         "hovertemplate": "<b>%{hovertext}</b><br><br>Distance=0.101 km<br>Popolarity=%{marker.size}<br>placeAlt=%{lat}<br>placeLong=%{lon}<br>placeAddress=%{customdata[0]}<br>numPeopleVisited=%{customdata[1]}<extra></extra>",
         "hovertext": [
          "The American Kennel Club Museum of the Dog"
         ],
         "lat": [
          40.7507
         ],
         "legendgroup": "0.101 km",
         "lon": [
          -73.9779
         ],
         "marker": {
          "color": "#636efa",
          "size": [
           340
          ],
          "sizemode": "area",
          "sizeref": 8.955
         },
         "mode": "markers",
         "name": "0.101 km",
         "showlegend": true,
         "subplot": "mapbox",
         "type": "scattermapbox"
        },
        {
         "customdata": [
          [
           "28 East 20th Street New York, New York, 10003 United States",
           371
          ]
         ],
         "hovertemplate": "<b>%{hovertext}</b><br><br>Distance=1.71 km<br>Popolarity=%{marker.size}<br>placeAlt=%{lat}<br>placeLong=%{lon}<br>placeAddress=%{customdata[0]}<br>numPeopleVisited=%{customdata[1]}<extra></extra>",
         "hovertext": [
          "Theodore Roosevelt Birthplace Museum"
         ],
         "lat": [
          40.7388
         ],
         "legendgroup": "1.71 km",
         "lon": [
          -73.9889
         ],
         "marker": {
          "color": "#EF553B",
          "size": [
           604
          ],
          "sizemode": "area",
          "sizeref": 8.955
         },
         "mode": "markers",
         "name": "1.71 km",
         "showlegend": true,
         "subplot": "mapbox",
         "type": "scattermapbox"
        },
        {
         "customdata": [
          [
           "972 5th Ave New York, New York, 10075 United States",
           317
          ]
         ],
         "hovertemplate": "<b>%{hovertext}</b><br><br>Distance=3.033 km<br>Popolarity=%{marker.size}<br>placeAlt=%{lat}<br>placeLong=%{lon}<br>placeAddress=%{customdata[0]}<br>numPeopleVisited=%{customdata[1]}<extra></extra>",
         "hovertext": [
          "Albertine"
         ],
         "lat": [
          40.7766
         ],
         "legendgroup": "3.033 km",
         "lon": [
          -73.9637
         ],
         "marker": {
          "color": "#00cc96",
          "size": [
           822.5
          ],
          "sizemode": "area",
          "sizeref": 8.955
         },
         "mode": "markers",
         "name": "3.033 km",
         "showlegend": true,
         "subplot": "mapbox",
         "type": "scattermapbox"
        },
        {
         "customdata": [
          [
           "32-23 48th Ave Queens, New York, 11101 United States",
           50
          ]
         ],
         "hovertemplate": "<b>%{hovertext}</b><br><br>Distance=3.848 km<br>Popolarity=%{marker.size}<br>placeAlt=%{lat}<br>placeLong=%{lon}<br>placeAddress=%{customdata[0]}<br>numPeopleVisited=%{customdata[1]}<extra></extra>",
         "hovertext": [
          "Self-Taught Genius Gallery"
         ],
         "lat": [
          40.7409
         ],
         "legendgroup": "3.848 km",
         "lon": [
          -73.9334
         ],
         "marker": {
          "color": "#ab63fa",
          "size": [
           255.5
          ],
          "sizemode": "area",
          "sizeref": 8.955
         },
         "mode": "markers",
         "name": "3.848 km",
         "showlegend": true,
         "subplot": "mapbox",
         "type": "scattermapbox"
        },
        {
         "customdata": [
          [
           "215 Centre Street New York, New York, 10013 United States",
           197
          ]
         ],
         "hovertemplate": "<b>%{hovertext}</b><br><br>Distance=3.998 km<br>Popolarity=%{marker.size}<br>placeAlt=%{lat}<br>placeLong=%{lon}<br>placeAddress=%{customdata[0]}<br>numPeopleVisited=%{customdata[1]}<extra></extra>",
         "hovertext": [
          "Museum of Chinese in America"
         ],
         "lat": [
          40.7194
         ],
         "legendgroup": "3.998 km",
         "lon": [
          -73.9991
         ],
         "marker": {
          "color": "#FFA15A",
          "size": [
           372
          ],
          "sizemode": "area",
          "sizeref": 8.955
         },
         "mode": "markers",
         "name": "3.998 km",
         "showlegend": true,
         "subplot": "mapbox",
         "type": "scattermapbox"
        },
        {
         "customdata": [
          [
           "62 Bayard St Brooklyn, New York, 11222 United States",
           127
          ]
         ],
         "hovertemplate": "<b>%{hovertext}</b><br><br>Distance=4.274 km<br>Popolarity=%{marker.size}<br>placeAlt=%{lat}<br>placeLong=%{lon}<br>placeAddress=%{customdata[0]}<br>numPeopleVisited=%{customdata[1]}<extra></extra>",
         "hovertext": [
          "Museum of Food and Drink"
         ],
         "lat": [
          40.7188
         ],
         "legendgroup": "4.274 km",
         "lon": [
          -73.9496
         ],
         "marker": {
          "color": "#19d3f3",
          "size": [
           354.5
          ],
          "sizemode": "area",
          "sizeref": 8.955
         },
         "mode": "markers",
         "name": "4.274 km",
         "showlegend": true,
         "subplot": "mapbox",
         "type": "scattermapbox"
        },
        {
         "customdata": [
          [
           "Bowling Green New York, New York, 10004 United States",
           574
          ]
         ],
         "hovertemplate": "<b>%{hovertext}</b><br><br>Distance=6.008 km<br>Popolarity=%{marker.size}<br>placeAlt=%{lat}<br>placeLong=%{lon}<br>placeAddress=%{customdata[0]}<br>numPeopleVisited=%{customdata[1]}<extra></extra>",
         "hovertext": [
          "The Oldest Fence in New York"
         ],
         "lat": [
          40.7049
         ],
         "legendgroup": "6.008 km",
         "lon": [
          -74.0137
         ],
         "marker": {
          "color": "#FF6692",
          "size": [
           565.5
          ],
          "sizemode": "area",
          "sizeref": 8.955
         },
         "mode": "markers",
         "name": "6.008 km",
         "showlegend": true,
         "subplot": "mapbox",
         "type": "scattermapbox"
        },
        {
         "customdata": [
          [
           "54 Pearl Street  New York, New York, 10004 United States",
           1190
          ]
         ],
         "hovertemplate": "<b>%{hovertext}</b><br><br>Distance=6.056 km<br>Popolarity=%{marker.size}<br>placeAlt=%{lat}<br>placeLong=%{lon}<br>placeAddress=%{customdata[0]}<br>numPeopleVisited=%{customdata[1]}<extra></extra>",
         "hovertext": [
          "Fraunces Tavern"
         ],
         "lat": [
          40.7034
         ],
         "legendgroup": "6.056 km",
         "lon": [
          -74.0114
         ],
         "marker": {
          "color": "#B6E880",
          "size": [
           1228
          ],
          "sizemode": "area",
          "sizeref": 8.955
         },
         "mode": "markers",
         "name": "6.056 km",
         "showlegend": true,
         "subplot": "mapbox",
         "type": "scattermapbox"
        },
        {
         "customdata": [
          [
           "Quadrangle Rd New York, New York, 11231 United States",
           1410
          ]
         ],
         "hovertemplate": "<b>%{hovertext}</b><br><br>Distance=7.532 km<br>Popolarity=%{marker.size}<br>placeAlt=%{lat}<br>placeLong=%{lon}<br>placeAddress=%{customdata[0]}<br>numPeopleVisited=%{customdata[1]}<extra></extra>",
         "hovertext": [
          "Governors Island"
         ],
         "lat": [
          40.6904
         ],
         "legendgroup": "7.532 km",
         "lon": [
          -74.0164
         ],
         "marker": {
          "color": "#FF97FF",
          "size": [
           1236
          ],
          "sizemode": "area",
          "sizeref": 8.955
         },
         "mode": "markers",
         "name": "7.532 km",
         "showlegend": true,
         "subplot": "mapbox",
         "type": "scattermapbox"
        },
        {
         "customdata": [
          [
           "400-428 W 141st St New York, New York United States",
           372
          ]
         ],
         "hovertemplate": "<b>%{hovertext}</b><br><br>Distance=8.212 km<br>Popolarity=%{marker.size}<br>placeAlt=%{lat}<br>placeLong=%{lon}<br>placeAddress=%{customdata[0]}<br>numPeopleVisited=%{customdata[1]}<extra></extra>",
         "hovertext": [
          "Hamilton Grange"
         ],
         "lat": [
          40.8215
         ],
         "legendgroup": "8.212 km",
         "lon": [
          -73.9467
         ],
         "marker": {
          "color": "#FECB52",
          "size": [
           777
          ],
          "sizemode": "area",
          "sizeref": 8.955
         },
         "mode": "markers",
         "name": "8.212 km",
         "showlegend": true,
         "subplot": "mapbox",
         "type": "scattermapbox"
        },
        {
         "customdata": [
          [
           "82-30 Cypress Hills Street Queens, New York, 11385 United States",
           255
          ]
         ],
         "hovertemplate": "<b>%{hovertext}</b><br><br>Distance=10.08 km<br>Popolarity=%{marker.size}<br>placeAlt=%{lat}<br>placeLong=%{lon}<br>placeAddress=%{customdata[0]}<br>numPeopleVisited=%{customdata[1]}<extra></extra>",
         "hovertext": [
          "Houdini's Grave"
         ],
         "lat": [
          40.6935
         ],
         "legendgroup": "10.08 km",
         "lon": [
          -73.8848
         ],
         "marker": {
          "color": "#636efa",
          "size": [
           903
          ],
          "sizemode": "area",
          "sizeref": 8.955
         },
         "mode": "markers",
         "name": "10.08 km",
         "showlegend": true,
         "subplot": "mapbox",
         "type": "scattermapbox"
        },
        {
         "customdata": [
          [
           "Kennedy Circle Queens, New York, 11368 United States",
           1375
          ]
         ],
         "hovertemplate": "<b>%{hovertext}</b><br><br>Distance=11.195 km<br>Popolarity=%{marker.size}<br>placeAlt=%{lat}<br>placeLong=%{lon}<br>placeAddress=%{customdata[0]}<br>numPeopleVisited=%{customdata[1]}<extra></extra>",
         "hovertext": [
          "Flushing Meadows-Corona Park"
         ],
         "lat": [
          40.7462
         ],
         "legendgroup": "11.195 km",
         "lon": [
          -73.8445
         ],
         "marker": {
          "color": "#EF553B",
          "size": [
           1365
          ],
          "sizemode": "area",
          "sizeref": 8.955
         },
         "mode": "markers",
         "name": "11.195 km",
         "showlegend": true,
         "subplot": "mapbox",
         "type": "scattermapbox"
        },
        {
         "customdata": [
          [
           "4881 Broadway New York, New York, 10034 United States",
           203
          ]
         ],
         "hovertemplate": "<b>%{hovertext}</b><br><br>Distance=13.674 km<br>Popolarity=%{marker.size}<br>placeAlt=%{lat}<br>placeLong=%{lon}<br>placeAddress=%{customdata[0]}<br>numPeopleVisited=%{customdata[1]}<extra></extra>",
         "hovertext": [
          "Dyckman Farmhouse"
         ],
         "lat": [
          40.8673
         ],
         "legendgroup": "13.674 km",
         "lon": [
          -73.9229
         ],
         "marker": {
          "color": "#00cc96",
          "size": [
           403.5
          ],
          "sizemode": "area",
          "sizeref": 8.955
         },
         "mode": "markers",
         "name": "13.674 km",
         "showlegend": true,
         "subplot": "mapbox",
         "type": "scattermapbox"
        },
        {
         "customdata": [
          [
           "Dongan Hills Staten Island, New York United States",
           52
          ]
         ],
         "hovertemplate": "<b>%{hovertext}</b><br><br>Distance=20.167 km<br>Popolarity=%{marker.size}<br>placeAlt=%{lat}<br>placeLong=%{lon}<br>placeAddress=%{customdata[0]}<br>numPeopleVisited=%{customdata[1]}<extra></extra>",
         "hovertext": [
          "Booze History Museum"
         ],
         "lat": [
          40.5907
         ],
         "legendgroup": "20.167 km",
         "lon": [
          -74.0885
         ],
         "marker": {
          "color": "#ab63fa",
          "size": [
           285
          ],
          "sizemode": "area",
          "sizeref": 8.955
         },
         "mode": "markers",
         "name": "20.167 km",
         "showlegend": true,
         "subplot": "mapbox",
         "type": "scattermapbox"
        },
        {
         "customdata": [
          [
           "1000 Ocean Avenue Asbury Park, New Jersey, 07712 United States",
           510
          ]
         ],
         "hovertemplate": "<b>%{hovertext}</b><br><br>Distance=58.941 km<br>Popolarity=%{marker.size}<br>placeAlt=%{lat}<br>placeLong=%{lon}<br>placeAddress=%{customdata[0]}<br>numPeopleVisited=%{customdata[1]}<extra></extra>",
         "hovertext": [
          "Silverball Museum Arcade"
         ],
         "lat": [
          40.2207
         ],
         "legendgroup": "58.941 km",
         "lon": [
          -73.9999
         ],
         "marker": {
          "color": "#FFA15A",
          "size": [
           595.5
          ],
          "sizemode": "area",
          "sizeref": 8.955
         },
         "mode": "markers",
         "name": "58.941 km",
         "showlegend": true,
         "subplot": "mapbox",
         "type": "scattermapbox"
        },
        {
         "customdata": [
          [
           "378 Old Quaker Hill Road Pawling, New York United States",
           42
          ]
         ],
         "hovertemplate": "<b>%{hovertext}</b><br><br>Distance=96.621 km<br>Popolarity=%{marker.size}<br>placeAlt=%{lat}<br>placeLong=%{lon}<br>placeAddress=%{customdata[0]}<br>numPeopleVisited=%{customdata[1]}<extra></extra>",
         "hovertext": [
          "Akin Free Library"
         ],
         "lat": [
          41.5589
         ],
         "legendgroup": "96.621 km",
         "lon": [
          -73.5491
         ],
         "marker": {
          "color": "#19d3f3",
          "size": [
           225
          ],
          "sizemode": "area",
          "sizeref": 8.955
         },
         "mode": "markers",
         "name": "96.621 km",
         "showlegend": true,
         "subplot": "mapbox",
         "type": "scattermapbox"
        },
        {
         "customdata": [
          [
           "525 E Court St & Route 313 Doylestown, Pennsylvania, 18901 United States",
           778
          ]
         ],
         "hovertemplate": "<b>%{hovertext}</b><br><br>Distance=109.324 km<br>Popolarity=%{marker.size}<br>placeAlt=%{lat}<br>placeLong=%{lon}<br>placeAddress=%{customdata[0]}<br>numPeopleVisited=%{customdata[1]}<extra></extra>",
         "hovertext": [
          "Mercer Museum and Fonthill Castle"
         ],
         "lat": [
          40.3069
         ],
         "legendgroup": "109.324 km",
         "lon": [
          -75.1283
         ],
         "marker": {
          "color": "#FF6692",
          "size": [
           1043.5
          ],
          "sizemode": "area",
          "sizeref": 8.955
         },
         "mode": "markers",
         "name": "109.324 km",
         "showlegend": true,
         "subplot": "mapbox",
         "type": "scattermapbox"
        },
        {
         "customdata": [
          [
           "622 Hamilton St Allentown, Pennsylvania United States",
           146
          ]
         ],
         "hovertemplate": "<b>%{hovertext}</b><br><br>Distance=127.344 km<br>Popolarity=%{marker.size}<br>placeAlt=%{lat}<br>placeLong=%{lon}<br>placeAddress=%{customdata[0]}<br>numPeopleVisited=%{customdata[1]}<extra></extra>",
         "hovertext": [
          "The Liberty Bell Hiding Place"
         ],
         "lat": [
          40.6023
         ],
         "legendgroup": "127.344 km",
         "lon": [
          -75.4704
         ],
         "marker": {
          "color": "#B6E880",
          "size": [
           278.5
          ],
          "sizemode": "area",
          "sizeref": 8.955
         },
         "mode": "markers",
         "name": "127.344 km",
         "showlegend": true,
         "subplot": "mapbox",
         "type": "scattermapbox"
        },
        {
         "customdata": [
          [
           "Cruger Island Road Red Hook, New York, 12571 United States",
           42
          ]
         ],
         "hovertemplate": "<b>%{hovertext}</b><br><br>Distance=142.305 km<br>Popolarity=%{marker.size}<br>placeAlt=%{lat}<br>placeLong=%{lon}<br>placeAddress=%{customdata[0]}<br>numPeopleVisited=%{customdata[1]}<extra></extra>",
         "hovertext": [
          "Mayan Ruins on the Hudson"
         ],
         "lat": [
          42.032
         ],
         "legendgroup": "142.305 km",
         "lon": [
          -73.9287
         ],
         "marker": {
          "color": "#FF97FF",
          "size": [
           343.5
          ],
          "sizemode": "area",
          "sizeref": 8.955
         },
         "mode": "markers",
         "name": "142.305 km",
         "showlegend": true,
         "subplot": "mapbox",
         "type": "scattermapbox"
        },
        {
         "customdata": [
          [
           "2900 State Road Upper Darby, Pennsylvania, 19026 United States",
           53
          ]
         ],
         "hovertemplate": "<b>%{hovertext}</b><br><br>Distance=142.746 km<br>Popolarity=%{marker.size}<br>placeAlt=%{lat}<br>placeLong=%{lon}<br>placeAddress=%{customdata[0]}<br>numPeopleVisited=%{customdata[1]}<extra></extra>",
         "hovertext": [
          "Museum of Mourning Art"
         ],
         "lat": [
          39.9559
         ],
         "legendgroup": "142.746 km",
         "lon": [
          -75.2971
         ],
         "marker": {
          "color": "#FECB52",
          "size": [
           436.5
          ],
          "sizemode": "area",
          "sizeref": 8.955
         },
         "mode": "markers",
         "name": "142.746 km",
         "showlegend": true,
         "subplot": "mapbox",
         "type": "scattermapbox"
        },
        {
         "customdata": [
          [
           "1230 E Cir Dr Oaks, Pennsylvania, 19456 United States",
           115
          ]
         ],
         "hovertemplate": "<b>%{hovertext}</b><br><br>Distance=143.345 km<br>Popolarity=%{marker.size}<br>placeAlt=%{lat}<br>placeLong=%{lon}<br>placeAddress=%{customdata[0]}<br>numPeopleVisited=%{customdata[1]}<extra></extra>",
         "hovertext": [
          "World's Largest Slinky"
         ],
         "lat": [
          40.124
         ],
         "legendgroup": "143.345 km",
         "lon": [
          -75.4536
         ],
         "marker": {
          "color": "#636efa",
          "size": [
           417
          ],
          "sizemode": "area",
          "sizeref": 8.955
         },
         "mode": "markers",
         "name": "143.345 km",
         "showlegend": true,
         "subplot": "mapbox",
         "type": "scattermapbox"
        },
        {
         "customdata": [
          [
           "67 River Rd East Haddam, Connecticut, 06423 United States",
           895
          ]
         ],
         "hovertemplate": "<b>%{hovertext}</b><br><br>Distance=149.981 km<br>Popolarity=%{marker.size}<br>placeAlt=%{lat}<br>placeLong=%{lon}<br>placeAddress=%{customdata[0]}<br>numPeopleVisited=%{customdata[1]}<extra></extra>",
         "hovertext": [
          "Gillette Castle State Park"
         ],
         "lat": [
          41.423
         ],
         "legendgroup": "149.981 km",
         "lon": [
          -72.4284
         ],
         "marker": {
          "color": "#EF553B",
          "size": [
           928
          ],
          "sizemode": "area",
          "sizeref": 8.955
         },
         "mode": "markers",
         "name": "149.981 km",
         "showlegend": true,
         "subplot": "mapbox",
         "type": "scattermapbox"
        },
        {
         "customdata": [
          [
           "267 Farmington Ave Hartford, Connecticut, 06105 United States",
           244
          ]
         ],
         "hovertemplate": "<b>%{hovertext}</b><br><br>Distance=155.663 km<br>Popolarity=%{marker.size}<br>placeAlt=%{lat}<br>placeLong=%{lon}<br>placeAddress=%{customdata[0]}<br>numPeopleVisited=%{customdata[1]}<extra></extra>",
         "hovertext": [
          "Abandoned Comet Diner"
         ],
         "lat": [
          41.7673
         ],
         "legendgroup": "155.663 km",
         "lon": [
          -72.6974
         ],
         "marker": {
          "color": "#00cc96",
          "size": [
           584.5
          ],
          "sizemode": "area",
          "sizeref": 8.955
         },
         "mode": "markers",
         "name": "155.663 km",
         "showlegend": true,
         "subplot": "mapbox",
         "type": "scattermapbox"
        },
        {
         "customdata": [
          [
           "Old State House 800 Main St. Hartford, Connecticut, 06103 United States",
           235
          ]
         ],
         "hovertemplate": "<b>%{hovertext}</b><br><br>Distance=156.943 km<br>Popolarity=%{marker.size}<br>placeAlt=%{lat}<br>placeLong=%{lon}<br>placeAddress=%{customdata[0]}<br>numPeopleVisited=%{customdata[1]}<extra></extra>",
         "hovertext": [
          "Museum of Natural and Other Curiosities"
         ],
         "lat": [
          41.7658
         ],
         "legendgroup": "156.943 km",
         "lon": [
          -72.6733
         ],
         "marker": {
          "color": "#ab63fa",
          "size": [
           807
          ],
          "sizemode": "area",
          "sizeref": 8.955
         },
         "mode": "markers",
         "name": "156.943 km",
         "showlegend": true,
         "subplot": "mapbox",
         "type": "scattermapbox"
        },
        {
         "customdata": [
          [
           "865 Lenape Rd West Chester, Pennsylvania, 19382 United States",
           426
          ]
         ],
         "hovertemplate": "<b>%{hovertext}</b><br><br>Distance=165.697 km<br>Popolarity=%{marker.size}<br>placeAlt=%{lat}<br>placeLong=%{lon}<br>placeAddress=%{customdata[0]}<br>numPeopleVisited=%{customdata[1]}<extra></extra>",
         "hovertext": [
          "Baldwin's Book Barn"
         ],
         "lat": [
          39.9377
         ],
         "legendgroup": "165.697 km",
         "lon": [
          -75.6119
         ],
         "marker": {
          "color": "#FFA15A",
          "size": [
           820
          ],
          "sizemode": "area",
          "sizeref": 8.955
         },
         "mode": "markers",
         "name": "165.697 km",
         "showlegend": true,
         "subplot": "mapbox",
         "type": "scattermapbox"
        },
        {
         "customdata": [
          [
           "33 Woodbridge Street South Hadley, Massachusetts, 01075 United States",
           78
          ]
         ],
         "hovertemplate": "<b>%{hovertext}</b><br><br>Distance=204.772 km<br>Popolarity=%{marker.size}<br>placeAlt=%{lat}<br>placeLong=%{lon}<br>placeAddress=%{customdata[0]}<br>numPeopleVisited=%{customdata[1]}<extra></extra>",
         "hovertext": [
          "Joseph Allen Skinner Museum"
         ],
         "lat": [
          42.2628
         ],
         "legendgroup": "204.772 km",
         "lon": [
          -72.5724
         ],
         "marker": {
          "color": "#19d3f3",
          "size": [
           298
          ],
          "sizemode": "area",
          "sizeref": 8.955
         },
         "mode": "markers",
         "name": "204.772 km",
         "showlegend": true,
         "subplot": "mapbox",
         "type": "scattermapbox"
        },
        {
         "customdata": [
          [
           "469 Queens Rd Wyalusing, Pennsylvania, 18853 United States",
           136
          ]
         ],
         "hovertemplate": "<b>%{hovertext}</b><br><br>Distance=224.183 km<br>Popolarity=%{marker.size}<br>placeAlt=%{lat}<br>placeLong=%{lon}<br>placeAddress=%{customdata[0]}<br>numPeopleVisited=%{customdata[1]}<extra></extra>",
         "hovertext": [
          "French Azilum"
         ],
         "lat": [
          41.7359
         ],
         "legendgroup": "224.183 km",
         "lon": [
          -76.3117
         ],
         "marker": {
          "color": "#FF6692",
          "size": [
           299
          ],
          "sizemode": "area",
          "sizeref": 8.955
         },
         "mode": "markers",
         "name": "224.183 km",
         "showlegend": true,
         "subplot": "mapbox",
         "type": "scattermapbox"
        },
        {
         "customdata": [
          [
           "205 Indian Steps Rd Airville, Pennsylvania United States",
           120
          ]
         ],
         "hovertemplate": "<b>%{hovertext}</b><br><br>Distance=226.474 km<br>Popolarity=%{marker.size}<br>placeAlt=%{lat}<br>placeLong=%{lon}<br>placeAddress=%{customdata[0]}<br>numPeopleVisited=%{customdata[1]}<extra></extra>",
         "hovertext": [
          "Indian Steps Museum"
         ],
         "lat": [
          39.8634
         ],
         "legendgroup": "226.474 km",
         "lon": [
          -76.3755
         ],
         "marker": {
          "color": "#B6E880",
          "size": [
           272
          ],
          "sizemode": "area",
          "sizeref": 8.955
         },
         "mode": "markers",
         "name": "226.474 km",
         "showlegend": true,
         "subplot": "mapbox",
         "type": "scattermapbox"
        },
        {
         "customdata": [
          [
           "514 Poplar Street Columbia, Pennsylvania, 17512 United States",
           196
          ]
         ],
         "hovertemplate": "<b>%{hovertext}</b><br><br>Distance=228.587 km<br>Popolarity=%{marker.size}<br>placeAlt=%{lat}<br>placeLong=%{lon}<br>placeAddress=%{customdata[0]}<br>numPeopleVisited=%{customdata[1]}<extra></extra>",
         "hovertext": [
          "National Watch and Clock Museum "
         ],
         "lat": [
          40.037
         ],
         "legendgroup": "228.587 km",
         "lon": [
          -76.5022
         ],
         "marker": {
          "color": "#FF97FF",
          "size": [
           352
          ],
          "sizemode": "area",
          "sizeref": 8.955
         },
         "mode": "markers",
         "name": "228.587 km",
         "showlegend": true,
         "subplot": "mapbox",
         "type": "scattermapbox"
        },
        {
         "customdata": [
          [
           "Bay View Ave. Berkley, Massachusetts, 02779 United States",
           137
          ]
         ],
         "hovertemplate": "<b>%{hovertext}</b><br><br>Distance=267.904 km<br>Popolarity=%{marker.size}<br>placeAlt=%{lat}<br>placeLong=%{lon}<br>placeAddress=%{customdata[0]}<br>numPeopleVisited=%{customdata[1]}<extra></extra>",
         "hovertext": [
          "Dighton Rock"
         ],
         "lat": [
          41.8082
         ],
         "legendgroup": "267.904 km",
         "lon": [
          -71.1022
         ],
         "marker": {
          "color": "#FECB52",
          "size": [
           369.5
          ],
          "sizemode": "area",
          "sizeref": 8.955
         },
         "mode": "markers",
         "name": "267.904 km",
         "showlegend": true,
         "subplot": "mapbox",
         "type": "scattermapbox"
        },
        {
         "customdata": [
          [
           "800 Key Highway Baltimore, Maryland, 21230 United States",
           1365
          ]
         ],
         "hovertemplate": "<b>%{hovertext}</b><br><br>Distance=277.634 km<br>Popolarity=%{marker.size}<br>placeAlt=%{lat}<br>placeLong=%{lon}<br>placeAddress=%{customdata[0]}<br>numPeopleVisited=%{customdata[1]}<extra></extra>",
         "hovertext": [
          "The American Visionary Art Museum"
         ],
         "lat": [
          39.2801
         ],
         "legendgroup": "277.634 km",
         "lon": [
          -76.6068
         ],
         "marker": {
          "color": "#636efa",
          "size": [
           1309.5
          ],
          "sizemode": "area",
          "sizeref": 8.955
         },
         "mode": "markers",
         "name": "277.634 km",
         "showlegend": true,
         "subplot": "mapbox",
         "type": "scattermapbox"
        },
        {
         "customdata": [
          [
           "301 W Camden St Baltimore, Maryland, 21201 United States",
           255
          ]
         ],
         "hovertemplate": "<b>%{hovertext}</b><br><br>Distance=278.293 km<br>Popolarity=%{marker.size}<br>placeAlt=%{lat}<br>placeLong=%{lon}<br>placeAddress=%{customdata[0]}<br>numPeopleVisited=%{customdata[1]}<extra></extra>",
         "hovertext": [
          "Geppi's Entertainment Museum"
         ],
         "lat": [
          39.2836
         ],
         "legendgroup": "278.293 km",
         "lon": [
          -76.6197
         ],
         "marker": {
          "color": "#EF553B",
          "size": [
           485
          ],
          "sizemode": "area",
          "sizeref": 8.955
         },
         "mode": "markers",
         "name": "278.293 km",
         "showlegend": true,
         "subplot": "mapbox",
         "type": "scattermapbox"
        },
        {
         "customdata": [
          [
           "1000 Corporate Blvd Linthicum Heights, Maryland, 21090 United States",
           55
          ]
         ],
         "hovertemplate": "<b>%{hovertext}</b><br><br>Distance=286.863 km<br>Popolarity=%{marker.size}<br>placeAlt=%{lat}<br>placeLong=%{lon}<br>placeAddress=%{customdata[0]}<br>numPeopleVisited=%{customdata[1]}<extra></extra>",
         "hovertext": [
          "Urology Museum"
         ],
         "lat": [
          39.2098
         ],
         "legendgroup": "286.863 km",
         "lon": [
          -76.6724
         ],
         "marker": {
          "color": "#00cc96",
          "size": [
           256.5
          ],
          "sizemode": "area",
          "sizeref": 8.955
         },
         "mode": "markers",
         "name": "286.863 km",
         "showlegend": true,
         "subplot": "mapbox",
         "type": "scattermapbox"
        },
        {
         "customdata": [
          [
           "200 Lexington Rd Concord, Massachusetts United States",
           185
          ]
         ],
         "hovertemplate": "<b>%{hovertext}</b><br><br>Distance=290.073 km<br>Popolarity=%{marker.size}<br>placeAlt=%{lat}<br>placeLong=%{lon}<br>placeAddress=%{customdata[0]}<br>numPeopleVisited=%{customdata[1]}<extra></extra>",
         "hovertext": [
          "Paul Revere Lantern"
         ],
         "lat": [
          42.4577
         ],
         "legendgroup": "290.073 km",
         "lon": [
          -71.3423
         ],
         "marker": {
          "color": "#ab63fa",
          "size": [
           331.5
          ],
          "sizemode": "area",
          "sizeref": 8.955
         },
         "mode": "markers",
         "name": "290.073 km",
         "showlegend": true,
         "subplot": "mapbox",
         "type": "scattermapbox"
        },
        {
         "customdata": [
          [
           "399 Lexington Rd Concord, Massachusetts United States",
           372
          ]
         ],
         "hovertemplate": "<b>%{hovertext}</b><br><br>Distance=290.634 km<br>Popolarity=%{marker.size}<br>placeAlt=%{lat}<br>placeLong=%{lon}<br>placeAddress=%{customdata[0]}<br>numPeopleVisited=%{customdata[1]}<extra></extra>",
         "hovertext": [
          "Orchard House"
         ],
         "lat": [
          42.4591
         ],
         "legendgroup": "290.634 km",
         "lon": [
          -71.335
         ],
         "marker": {
          "color": "#FFA15A",
          "size": [
           436
          ],
          "sizemode": "area",
          "sizeref": 8.955
         },
         "mode": "markers",
         "name": "290.634 km",
         "showlegend": true,
         "subplot": "mapbox",
         "type": "scattermapbox"
        },
        {
         "customdata": [
          [
           "Gettysburg National Military Park Museum and Visitor  1195 Baltimore Pike Gettysburg, Pennsylvania, 17325 United States",
           1644
          ]
         ],
         "hovertemplate": "<b>%{hovertext}</b><br><br>Distance=295.242 km<br>Popolarity=%{marker.size}<br>placeAlt=%{lat}<br>placeLong=%{lon}<br>placeAddress=%{customdata[0]}<br>numPeopleVisited=%{customdata[1]}<extra></extra>",
         "hovertext": [
          "Gettysburg Cyclorama"
         ],
         "lat": [
          39.8112
         ],
         "legendgroup": "295.242 km",
         "lon": [
          -77.2247
         ],
         "marker": {
          "color": "#19d3f3",
          "size": [
           1051.5
          ],
          "sizemode": "area",
          "sizeref": 8.955
         },
         "mode": "markers",
         "name": "295.242 km",
         "showlegend": true,
         "subplot": "mapbox",
         "type": "scattermapbox"
        },
        {
         "customdata": [
          [
           "26 Oxford Street Cambridge, Massachusetts, 02138 United States",
           1011
          ]
         ],
         "hovertemplate": "<b>%{hovertext}</b><br><br>Distance=299.403 km<br>Popolarity=%{marker.size}<br>placeAlt=%{lat}<br>placeLong=%{lon}<br>placeAddress=%{customdata[0]}<br>numPeopleVisited=%{customdata[1]}<extra></extra>",
         "hovertext": [
          "Harvard Museum of Natural History"
         ],
         "lat": [
          42.3789
         ],
         "legendgroup": "299.403 km",
         "lon": [
          -71.1152
         ],
         "marker": {
          "color": "#FF6692",
          "size": [
           1140
          ],
          "sizemode": "area",
          "sizeref": 8.955
         },
         "mode": "markers",
         "name": "299.403 km",
         "showlegend": true,
         "subplot": "mapbox",
         "type": "scattermapbox"
        },
        {
         "customdata": [
          [
           "Canine Road Fort Meade, Maryland, 20755 United States",
           321
          ]
         ],
         "hovertemplate": "<b>%{hovertext}</b><br><br>Distance=300.281 km<br>Popolarity=%{marker.size}<br>placeAlt=%{lat}<br>placeLong=%{lon}<br>placeAddress=%{customdata[0]}<br>numPeopleVisited=%{customdata[1]}<extra></extra>",
         "hovertext": [
          "National Cryptologic Museum"
         ],
         "lat": [
          39.1117
         ],
         "legendgroup": "300.281 km",
         "lon": [
          -76.7711
         ],
         "marker": {
          "color": "#B6E880",
          "size": [
           684.5
          ],
          "sizemode": "area",
          "sizeref": 8.955
         },
         "mode": "markers",
         "name": "300.281 km",
         "showlegend": true,
         "subplot": "mapbox",
         "type": "scattermapbox"
        },
        {
         "customdata": [
          [
           "12714 Catoctin Furnace Rd Thurmont, Maryland, 21788 United States",
           360
          ]
         ],
         "hovertemplate": "<b>%{hovertext}</b><br><br>Distance=321.88 km<br>Popolarity=%{marker.size}<br>placeAlt=%{lat}<br>placeLong=%{lon}<br>placeAddress=%{customdata[0]}<br>numPeopleVisited=%{customdata[1]}<extra></extra>",
         "hovertext": [
          "Catoctin Furnace"
         ],
         "lat": [
          39.5812
         ],
         "legendgroup": "321.88 km",
         "lon": [
          -77.4344
         ],
         "marker": {
          "color": "#FF97FF",
          "size": [
           434.5
          ],
          "sizemode": "area",
          "sizeref": 8.955
         },
         "mode": "markers",
         "name": "321.88 km",
         "showlegend": true,
         "subplot": "mapbox",
         "type": "scattermapbox"
        },
        {
         "customdata": [
          [
           "310 1/2 Essex Street Salem, Massachusetts, 01970 United States",
           3184
          ]
         ],
         "hovertemplate": "<b>%{hovertext}</b><br><br>Distance=323.121 km<br>Popolarity=%{marker.size}<br>placeAlt=%{lat}<br>placeLong=%{lon}<br>placeAddress=%{customdata[0]}<br>numPeopleVisited=%{customdata[1]}<extra></extra>",
         "hovertext": [
          "The Witch House of Salem"
         ],
         "lat": [
          42.5215
         ],
         "legendgroup": "323.121 km",
         "lon": [
          -70.8989
         ],
         "marker": {
          "color": "#FECB52",
          "size": [
           3582
          ],
          "sizemode": "area",
          "sizeref": 8.955
         },
         "mode": "markers",
         "name": "323.121 km",
         "showlegend": true,
         "subplot": "mapbox",
         "type": "scattermapbox"
        },
        {
         "customdata": [
          [
           "2500 Linden Ln Silver Spring, Maryland, 20910 United States",
           362
          ]
         ],
         "hovertemplate": "<b>%{hovertext}</b><br><br>Distance=326.582 km<br>Popolarity=%{marker.size}<br>placeAlt=%{lat}<br>placeLong=%{lon}<br>placeAddress=%{customdata[0]}<br>numPeopleVisited=%{customdata[1]}<extra></extra>",
         "hovertext": [
          "National Museum of Health and Medicine"
         ],
         "lat": [
          39.0087
         ],
         "legendgroup": "326.582 km",
         "lon": [
          -77.0531
         ],
         "marker": {
          "color": "#636efa",
          "size": [
           746.5
          ],
          "sizemode": "area",
          "sizeref": 8.955
         },
         "mode": "markers",
         "name": "326.582 km",
         "showlegend": true,
         "subplot": "mapbox",
         "type": "scattermapbox"
        },
        {
         "customdata": [
          [
           "401 F St NW Washington, District of Columbia United States",
           1384
          ]
         ],
         "hovertemplate": "<b>%{hovertext}</b><br><br>Distance=331.791 km<br>Popolarity=%{marker.size}<br>placeAlt=%{lat}<br>placeLong=%{lon}<br>placeAddress=%{customdata[0]}<br>numPeopleVisited=%{customdata[1]}<extra></extra>",
         "hovertext": [
          "National Building Museum"
         ],
         "lat": [
          38.8978
         ],
         "legendgroup": "331.791 km",
         "lon": [
          -77.0175
         ],
         "marker": {
          "color": "#EF553B",
          "size": [
           1354
          ],
          "sizemode": "area",
          "sizeref": 8.955
         },
         "mode": "markers",
         "name": "331.791 km",
         "showlegend": true,
         "subplot": "mapbox",
         "type": "scattermapbox"
        },
        {
         "customdata": [
          [
           "801 K Street NW Washington, District of Columbia United States",
           503
          ]
         ],
         "hovertemplate": "<b>%{hovertext}</b><br><br>Distance=331.81 km<br>Popolarity=%{marker.size}<br>placeAlt=%{lat}<br>placeLong=%{lon}<br>placeAddress=%{customdata[0]}<br>numPeopleVisited=%{customdata[1]}<extra></extra>",
         "hovertext": [
          "Carnegie Library of Washington, D.C. "
         ],
         "lat": [
          38.9027
         ],
         "legendgroup": "331.81 km",
         "lon": [
          -77.0229
         ],
         "marker": {
          "color": "#00cc96",
          "size": [
           548
          ],
          "sizemode": "area",
          "sizeref": 8.955
         },
         "mode": "markers",
         "name": "331.81 km",
         "showlegend": true,
         "subplot": "mapbox",
         "type": "scattermapbox"
        },
        {
         "customdata": [
          [
           "8th Street NW & F Street NW Washington, District of Columbia United States",
           507
          ]
         ],
         "hovertemplate": "<b>%{hovertext}</b><br><br>Distance=332.106 km<br>Popolarity=%{marker.size}<br>placeAlt=%{lat}<br>placeLong=%{lon}<br>placeAddress=%{customdata[0]}<br>numPeopleVisited=%{customdata[1]}<extra></extra>",
         "hovertext": [
          "The Old Patent Model Museum"
         ],
         "lat": [
          38.8981
         ],
         "legendgroup": "332.106 km",
         "lon": [
          -77.0225
         ],
         "marker": {
          "color": "#ab63fa",
          "size": [
           923.5
          ],
          "sizemode": "area",
          "sizeref": 8.955
         },
         "mode": "markers",
         "name": "332.106 km",
         "showlegend": true,
         "subplot": "mapbox",
         "type": "scattermapbox"
        },
        {
         "customdata": [
          [
           "Washington, District of Columbia, 20001 United States",
           544
          ]
         ],
         "hovertemplate": "<b>%{hovertext}</b><br><br>Distance=332.146 km<br>Popolarity=%{marker.size}<br>placeAlt=%{lat}<br>placeLong=%{lon}<br>placeAddress=%{customdata[0]}<br>numPeopleVisited=%{customdata[1]}<extra></extra>",
         "hovertext": [
          "The Throne of the Third Heaven of the Nations' Millennium General Assembly"
         ],
         "lat": [
          38.898
         ],
         "legendgroup": "332.146 km",
         "lon": [
          -77.023
         ],
         "marker": {
          "color": "#FFA15A",
          "size": [
           497
          ],
          "sizemode": "area",
          "sizeref": 8.955
         },
         "mode": "markers",
         "name": "332.146 km",
         "showlegend": true,
         "subplot": "mapbox",
         "type": "scattermapbox"
        },
        {
         "customdata": [
          [
           "National Museum of the American Indian Fourth Street & Independence Ave., S.W. Washington, District of Columbia, 20560 United States",
           753
          ]
         ],
         "hovertemplate": "<b>%{hovertext}</b><br><br>Distance=332.393 km<br>Popolarity=%{marker.size}<br>placeAlt=%{lat}<br>placeLong=%{lon}<br>placeAddress=%{customdata[0]}<br>numPeopleVisited=%{customdata[1]}<extra></extra>",
         "hovertext": [
          "Mitsitam Native Foods Cafe"
         ],
         "lat": [
          38.8883
         ],
         "legendgroup": "332.393 km",
         "lon": [
          -77.0165
         ],
         "marker": {
          "color": "#19d3f3",
          "size": [
           859.5
          ],
          "sizemode": "area",
          "sizeref": 8.955
         },
         "mode": "markers",
         "name": "332.393 km",
         "showlegend": true,
         "subplot": "mapbox",
         "type": "scattermapbox"
        },
        {
         "customdata": [
          [
           "10th St. & Constitution Ave. NW Washington, District of Columbia, 20560 United States",
           518
          ]
         ],
         "hovertemplate": "<b>%{hovertext}</b><br><br>Distance=332.826 km<br>Popolarity=%{marker.size}<br>placeAlt=%{lat}<br>placeLong=%{lon}<br>placeAddress=%{customdata[0]}<br>numPeopleVisited=%{customdata[1]}<extra></extra>",
         "hovertext": [
          "Martha, the Last Passenger Pigeon"
         ],
         "lat": [
          38.8912
         ],
         "legendgroup": "332.826 km",
         "lon": [
          -77.026
         ],
         "marker": {
          "color": "#FF6692",
          "size": [
           496
          ],
          "sizemode": "area",
          "sizeref": 8.955
         },
         "mode": "markers",
         "name": "332.826 km",
         "showlegend": true,
         "subplot": "mapbox",
         "type": "scattermapbox"
        },
        {
         "customdata": [
          [
           "1300 Constitution Ave NW Washington, District of Columbia, 20560 United States",
           588
          ]
         ],
         "hovertemplate": "<b>%{hovertext}</b><br><br>Distance=333.06 km<br>Popolarity=%{marker.size}<br>placeAlt=%{lat}<br>placeLong=%{lon}<br>placeAddress=%{customdata[0]}<br>numPeopleVisited=%{customdata[1]}<extra></extra>",
         "hovertext": [
          "Sergeant Stubby"
         ],
         "lat": [
          38.8913
         ],
         "legendgroup": "333.06 km",
         "lon": [
          -77.0296
         ],
         "marker": {
          "color": "#B6E880",
          "size": [
           685
          ],
          "sizemode": "area",
          "sizeref": 8.955
         },
         "mode": "markers",
         "name": "333.06 km",
         "showlegend": true,
         "subplot": "mapbox",
         "type": "scattermapbox"
        },
        {
         "customdata": [
          [
           "1300 Constitution Avenue NW Washington, District of Columbia United States",
           1161
          ]
         ],
         "hovertemplate": "<b>%{hovertext}</b><br><br>Distance=333.08 km<br>Popolarity=%{marker.size}<br>placeAlt=%{lat}<br>placeLong=%{lon}<br>placeAddress=%{customdata[0]}<br>numPeopleVisited=%{customdata[1]}<extra></extra>",
         "hovertext": [
          "Bare-Chested George Washington"
         ],
         "lat": [
          38.8913
         ],
         "legendgroup": "333.08 km",
         "lon": [
          -77.0299
         ],
         "marker": {
          "color": "#FF97FF",
          "size": [
           870
          ],
          "sizemode": "area",
          "sizeref": 8.955
         },
         "mode": "markers",
         "name": "333.08 km",
         "showlegend": true,
         "subplot": "mapbox",
         "type": "scattermapbox"
        },
        {
         "customdata": [
          [
           "14th Streed and Constitution Avenue NW, Washington, District of Columbia United States",
           117
          ]
         ],
         "hovertemplate": "<b>%{hovertext}</b><br><br>Distance=333.129 km<br>Popolarity=%{marker.size}<br>placeAlt=%{lat}<br>placeLong=%{lon}<br>placeAddress=%{customdata[0]}<br>numPeopleVisited=%{customdata[1]}<extra></extra>",
         "hovertext": [
          "Smithsonian Sushi Collection"
         ],
         "lat": [
          38.8907
         ],
         "legendgroup": "333.129 km",
         "lon": [
          -77.03
         ],
         "marker": {
          "color": "#FECB52",
          "size": [
           324
          ],
          "sizemode": "area",
          "sizeref": 8.955
         },
         "mode": "markers",
         "name": "333.129 km",
         "showlegend": true,
         "subplot": "mapbox",
         "type": "scattermapbox"
        },
        {
         "customdata": [
          [
           "Washington, District of Columbia, 20506 United States",
           1274
          ]
         ],
         "hovertemplate": "<b>%{hovertext}</b><br><br>Distance=333.159 km<br>Popolarity=%{marker.size}<br>placeAlt=%{lat}<br>placeLong=%{lon}<br>placeAddress=%{customdata[0]}<br>numPeopleVisited=%{customdata[1]}<extra></extra>",
         "hovertext": [
          "Renwick Gallery"
         ],
         "lat": [
          38.899
         ],
         "legendgroup": "333.159 km",
         "lon": [
          -77.0391
         ],
         "marker": {
          "color": "#636efa",
          "size": [
           1015
          ],
          "sizemode": "area",
          "sizeref": 8.955
         },
         "mode": "markers",
         "name": "333.159 km",
         "showlegend": true,
         "subplot": "mapbox",
         "type": "scattermapbox"
        },
        {
         "customdata": [
          [
           "Smithsonian's Museum of American History 14th St and Constitution Ave, NW Washington, District of Columbia United States",
           111
          ]
         ],
         "hovertemplate": "<b>%{hovertext}</b><br><br>Distance=333.165 km<br>Popolarity=%{marker.size}<br>placeAlt=%{lat}<br>placeLong=%{lon}<br>placeAddress=%{customdata[0]}<br>numPeopleVisited=%{customdata[1]}<extra></extra>",
         "hovertext": [
          "Grace Hopper's Bug"
         ],
         "lat": [
          38.8921
         ],
         "legendgroup": "333.165 km",
         "lon": [
          -77.032
         ],
         "marker": {
          "color": "#EF553B",
          "size": [
           357.5
          ],
          "sizemode": "area",
          "sizeref": 8.955
         },
         "mode": "markers",
         "name": "333.165 km",
         "showlegend": true,
         "subplot": "mapbox",
         "type": "scattermapbox"
        },
        {
         "customdata": [
          [
           "National Museum of African American History and Culture 1400 Constitution Ave NW Washington, District of Columbia United States",
           194
          ]
         ],
         "hovertemplate": "<b>%{hovertext}</b><br><br>Distance=333.276 km<br>Popolarity=%{marker.size}<br>placeAlt=%{lat}<br>placeLong=%{lon}<br>placeAddress=%{customdata[0]}<br>numPeopleVisited=%{customdata[1]}<extra></extra>",
         "hovertext": [
          "Sweet Home Cafe"
         ],
         "lat": [
          38.8911
         ],
         "legendgroup": "333.276 km",
         "lon": [
          -77.0326
         ],
         "marker": {
          "color": "#00cc96",
          "size": [
           330
          ],
          "sizemode": "area",
          "sizeref": 8.955
         },
         "mode": "markers",
         "name": "333.276 km",
         "showlegend": true,
         "subplot": "mapbox",
         "type": "scattermapbox"
        },
        {
         "customdata": [
          [
           "1425 4th St SW P Street & 4th Street SW Washington, District of Columbia, 20024 United States",
           466
          ]
         ],
         "hovertemplate": "<b>%{hovertext}</b><br><br>Distance=333.732 km<br>Popolarity=%{marker.size}<br>placeAlt=%{lat}<br>placeLong=%{lon}<br>placeAddress=%{customdata[0]}<br>numPeopleVisited=%{customdata[1]}<extra></extra>",
         "hovertext": [
          "Titanic Memorial"
         ],
         "lat": [
          38.872
         ],
         "legendgroup": "333.732 km",
         "lon": [
          -77.0193
         ],
         "marker": {
          "color": "#ab63fa",
          "size": [
           753
          ],
          "sizemode": "area",
          "sizeref": 8.955
         },
         "mode": "markers",
         "name": "333.732 km",
         "showlegend": true,
         "subplot": "mapbox",
         "type": "scattermapbox"
        },
        {
         "customdata": [
          [
           "1703 32nd Street NW Washington, District of Columbia United States",
           491
          ]
         ],
         "hovertemplate": "<b>%{hovertext}</b><br><br>Distance=333.775 km<br>Popolarity=%{marker.size}<br>placeAlt=%{lat}<br>placeLong=%{lon}<br>placeAddress=%{customdata[0]}<br>numPeopleVisited=%{customdata[1]}<extra></extra>",
         "hovertext": [
          "Dumbarton Oaks"
         ],
         "lat": [
          38.9142
         ],
         "legendgroup": "333.775 km",
         "lon": [
          -77.0639
         ],
         "marker": {
          "color": "#FFA15A",
          "size": [
           797.5
          ],
          "sizemode": "area",
          "sizeref": 8.955
         },
         "mode": "markers",
         "name": "333.775 km",
         "showlegend": true,
         "subplot": "mapbox",
         "type": "scattermapbox"
        },
        {
         "customdata": [
          [
           "134 N Royal St Alexandria, Virginia United States",
           465
          ]
         ],
         "hovertemplate": "<b>%{hovertext}</b><br><br>Distance=340.09 km<br>Popolarity=%{marker.size}<br>placeAlt=%{lat}<br>placeLong=%{lon}<br>placeAddress=%{customdata[0]}<br>numPeopleVisited=%{customdata[1]}<extra></extra>",
         "hovertext": [
          "Gadsby's Tavern"
         ],
         "lat": [
          38.8055
         ],
         "legendgroup": "340.09 km",
         "lon": [
          -77.0435
         ],
         "marker": {
          "color": "#19d3f3",
          "size": [
           507
          ],
          "sizemode": "area",
          "sizeref": 8.955
         },
         "mode": "markers",
         "name": "340.09 km",
         "showlegend": true,
         "subplot": "mapbox",
         "type": "scattermapbox"
        },
        {
         "customdata": [
          [
           "101 Callahan Drive Alexandria, Virginia, 22314 United States",
           642
          ]
         ],
         "hovertemplate": "<b>%{hovertext}</b><br><br>Distance=341.43 km<br>Popolarity=%{marker.size}<br>placeAlt=%{lat}<br>placeLong=%{lon}<br>placeAddress=%{customdata[0]}<br>numPeopleVisited=%{customdata[1]}<extra></extra>",
         "hovertext": [
          "The George Washington Masonic National Memorial"
         ],
         "lat": [
          38.8075
         ],
         "legendgroup": "341.43 km",
         "lon": [
          -77.0659
         ],
         "marker": {
          "color": "#FF6692",
          "size": [
           552.5
          ],
          "sizemode": "area",
          "sizeref": 8.955
         },
         "mode": "markers",
         "name": "341.43 km",
         "showlegend": true,
         "subplot": "mapbox",
         "type": "scattermapbox"
        },
        {
         "customdata": [
          [
           "579 Endicott Street North Laconia, New Hampshire, 03246 United States",
           469
          ]
         ],
         "hovertemplate": "<b>%{hovertext}</b><br><br>Distance=379.012 km<br>Popolarity=%{marker.size}<br>placeAlt=%{lat}<br>placeLong=%{lon}<br>placeAddress=%{customdata[0]}<br>numPeopleVisited=%{customdata[1]}<extra></extra>",
         "hovertext": [
          "American Classic Arcade Museum"
         ],
         "lat": [
          43.613
         ],
         "legendgroup": "379.012 km",
         "lon": [
          -71.4775
         ],
         "marker": {
          "color": "#B6E880",
          "size": [
           747
          ],
          "sizemode": "area",
          "sizeref": 8.955
         },
         "mode": "markers",
         "name": "379.012 km",
         "showlegend": true,
         "subplot": "mapbox",
         "type": "scattermapbox"
        },
        {
         "customdata": [
          [
           "7172 Lineweaver Rd Warrenton, Virginia, 20187 United States",
           112
          ]
         ],
         "hovertemplate": "<b>%{hovertext}</b><br><br>Distance=387.559 km<br>Popolarity=%{marker.size}<br>placeAlt=%{lat}<br>placeLong=%{lon}<br>placeAddress=%{customdata[0]}<br>numPeopleVisited=%{customdata[1]}<extra></extra>",
         "hovertext": [
          "Cold War Museum"
         ],
         "lat": [
          38.743
         ],
         "legendgroup": "387.559 km",
         "lon": [
          -77.6763
         ],
         "marker": {
          "color": "#FF97FF",
          "size": [
           295.5
          ],
          "sizemode": "area",
          "sizeref": 8.955
         },
         "mode": "markers",
         "name": "387.559 km",
         "showlegend": true,
         "subplot": "mapbox",
         "type": "scattermapbox"
        },
        {
         "customdata": [
          [
           "1020 Caroline Street Fredericksburg, Virginia, 22401 United States",
           315
          ]
         ],
         "hovertemplate": "<b>%{hovertext}</b><br><br>Distance=404.281 km<br>Popolarity=%{marker.size}<br>placeAlt=%{lat}<br>placeLong=%{lon}<br>placeAddress=%{customdata[0]}<br>numPeopleVisited=%{customdata[1]}<extra></extra>",
         "hovertext": [
          "Hugh Mercer Apothecary Shop"
         ],
         "lat": [
          38.3041
         ],
         "legendgroup": "404.281 km",
         "lon": [
          -77.4599
         ],
         "marker": {
          "color": "#FECB52",
          "size": [
           477
          ],
          "sizemode": "area",
          "sizeref": 8.955
         },
         "mode": "markers",
         "name": "404.281 km",
         "showlegend": true,
         "subplot": "mapbox",
         "type": "scattermapbox"
        },
        {
         "customdata": [
          [
           "1932 Zippo Drive Bradford, Pennsylvania, 16701 United States",
           223
          ]
         ],
         "hovertemplate": "<b>%{hovertext}</b><br><br>Distance=412.91 km<br>Popolarity=%{marker.size}<br>placeAlt=%{lat}<br>placeLong=%{lon}<br>placeAddress=%{customdata[0]}<br>numPeopleVisited=%{customdata[1]}<extra></extra>",
         "hovertext": [
          "Zippo/Case Museum"
         ],
         "lat": [
          41.9434
         ],
         "legendgroup": "412.91 km",
         "lon": [
          -78.6509
         ],
         "marker": {
          "color": "#636efa",
          "size": [
           351.5
          ],
          "sizemode": "area",
          "sizeref": 8.955
         },
         "mode": "markers",
         "name": "412.91 km",
         "showlegend": true,
         "subplot": "mapbox",
         "type": "scattermapbox"
        },
        {
         "customdata": [
          [
           "805 Ligonier St Latrobe, Pennsylvania United States",
           169
          ]
         ],
         "hovertemplate": "<b>%{hovertext}</b><br><br>Distance=460.674 km<br>Popolarity=%{marker.size}<br>placeAlt=%{lat}<br>placeLong=%{lon}<br>placeAddress=%{customdata[0]}<br>numPeopleVisited=%{customdata[1]}<extra></extra>",
         "hovertext": [
          "Birthplace of the Banana Split"
         ],
         "lat": [
          40.3169
         ],
         "legendgroup": "460.674 km",
         "lon": [
          -79.3852
         ],
         "marker": {
          "color": "#EF553B",
          "size": [
           424
          ],
          "sizemode": "area",
          "sizeref": 8.955
         },
         "mode": "markers",
         "name": "460.674 km",
         "showlegend": true,
         "subplot": "mapbox",
         "type": "scattermapbox"
        },
        {
         "customdata": [
          [
           "9061 U.S. 30 Irwin, Pennsylvania, 15642 United States",
           212
          ]
         ],
         "hovertemplate": "<b>%{hovertext}</b><br><br>Distance=486.481 km<br>Popolarity=%{marker.size}<br>placeAlt=%{lat}<br>placeLong=%{lon}<br>placeAddress=%{customdata[0]}<br>numPeopleVisited=%{customdata[1]}<extra></extra>",
         "hovertext": [
          "The Big Mac Museum"
         ],
         "lat": [
          40.3207
         ],
         "legendgroup": "486.481 km",
         "lon": [
          -79.6922
         ],
         "marker": {
          "color": "#00cc96",
          "size": [
           450.5
          ],
          "sizemode": "area",
          "sizeref": 8.955
         },
         "mode": "markers",
         "name": "486.481 km",
         "showlegend": true,
         "subplot": "mapbox",
         "type": "scattermapbox"
        },
        {
         "customdata": [
          [
           "24 Maryland Ave Pittsburgh, Pennsylvania, 15209 United States",
           158
          ]
         ],
         "hovertemplate": "<b>%{hovertext}</b><br><br>Distance=507.94 km<br>Popolarity=%{marker.size}<br>placeAlt=%{lat}<br>placeLong=%{lon}<br>placeAddress=%{customdata[0]}<br>numPeopleVisited=%{customdata[1]}<extra></extra>",
         "hovertext": [
          "Murals of Maxo Vanka"
         ],
         "lat": [
          40.477
         ],
         "legendgroup": "507.94 km",
         "lon": [
          -79.9696
         ],
         "marker": {
          "color": "#ab63fa",
          "size": [
           417.5
          ],
          "sizemode": "area",
          "sizeref": 8.955
         },
         "mode": "markers",
         "name": "507.94 km",
         "showlegend": true,
         "subplot": "mapbox",
         "type": "scattermapbox"
        },
        {
         "customdata": [
          [
           "160, Chemin Tour-de-l'Isle  Île Sainte-Hélène Montreal, Québec, H3C 0K7 Canada",
           1558
          ]
         ],
         "hovertemplate": "<b>%{hovertext}</b><br><br>Distance=530.901 km<br>Popolarity=%{marker.size}<br>placeAlt=%{lat}<br>placeLong=%{lon}<br>placeAddress=%{customdata[0]}<br>numPeopleVisited=%{customdata[1]}<extra></extra>",
         "hovertext": [
          "Biosphere of Montreal"
         ],
         "lat": [
          45.519
         ],
         "legendgroup": "530.901 km",
         "lon": [
          -73.5342
         ],
         "marker": {
          "color": "#FFA15A",
          "size": [
           1483.5
          ],
          "sizemode": "area",
          "sizeref": 8.955
         },
         "mode": "markers",
         "name": "530.901 km",
         "showlegend": true,
         "subplot": "mapbox",
         "type": "scattermapbox"
        },
        {
         "customdata": [
          [
           "301 Monroe St Lynchburg, Virginia, 24504 United States",
           170
          ]
         ],
         "hovertemplate": "<b>%{hovertext}</b><br><br>Distance=581.199 km<br>Popolarity=%{marker.size}<br>placeAlt=%{lat}<br>placeLong=%{lon}<br>placeAddress=%{customdata[0]}<br>numPeopleVisited=%{customdata[1]}<extra></extra>",
         "hovertext": [
          "Museums at Old City Cemetery"
         ],
         "lat": [
          37.4147
         ],
         "legendgroup": "581.199 km",
         "lon": [
          -79.156
         ],
         "marker": {
          "color": "#19d3f3",
          "size": [
           448.5
          ],
          "sizemode": "area",
          "sizeref": 8.955
         },
         "mode": "markers",
         "name": "581.199 km",
         "showlegend": true,
         "subplot": "mapbox",
         "type": "scattermapbox"
        },
        {
         "customdata": [
          [
           "801 Jefferson Avenue  Moundsville, West Virginia, 26041 United States",
           392
          ]
         ],
         "hovertemplate": "<b>%{hovertext}</b><br><br>Distance=582.251 km<br>Popolarity=%{marker.size}<br>placeAlt=%{lat}<br>placeLong=%{lon}<br>placeAddress=%{customdata[0]}<br>numPeopleVisited=%{customdata[1]}<extra></extra>",
         "hovertext": [
          "Grave Creek Mound"
         ],
         "lat": [
          39.9166
         ],
         "legendgroup": "582.251 km",
         "lon": [
          -80.7433
         ],
         "marker": {
          "color": "#FF6692",
          "size": [
           491.5
          ],
          "sizemode": "area",
          "sizeref": 8.955
         },
         "mode": "markers",
         "name": "582.251 km",
         "showlegend": true,
         "subplot": "mapbox",
         "type": "scattermapbox"
        },
        {
         "customdata": [
          [
           "15 Appledore Lane Natural Bridge, Virginia, 24578 United States",
           1726
          ]
         ],
         "hovertemplate": "<b>%{hovertext}</b><br><br>Distance=592.75 km<br>Popolarity=%{marker.size}<br>placeAlt=%{lat}<br>placeLong=%{lon}<br>placeAddress=%{customdata[0]}<br>numPeopleVisited=%{customdata[1]}<extra></extra>",
         "hovertext": [
          "The Natural Bridge"
         ],
         "lat": [
          37.6282
         ],
         "legendgroup": "592.75 km",
         "lon": [
          -79.5447
         ],
         "marker": {
          "color": "#B6E880",
          "size": [
           1999
          ],
          "sizemode": "area",
          "sizeref": 8.955
         },
         "mode": "markers",
         "name": "592.75 km",
         "showlegend": true,
         "subplot": "mapbox",
         "type": "scattermapbox"
        },
        {
         "customdata": [
          [
           "One Market Square SE Roanoke Pinball Museum Roanoke, Virginia United States",
           235
          ]
         ],
         "hovertemplate": "<b>%{hovertext}</b><br><br>Distance=644.667 km<br>Popolarity=%{marker.size}<br>placeAlt=%{lat}<br>placeLong=%{lon}<br>placeAddress=%{customdata[0]}<br>numPeopleVisited=%{customdata[1]}<extra></extra>",
         "hovertext": [
          "Roanoke Pinball Museum"
         ],
         "lat": [
          37.2715
         ],
         "legendgroup": "644.667 km",
         "lon": [
          -79.9395
         ],
         "marker": {
          "color": "#FF97FF",
          "size": [
           584
          ],
          "sizemode": "area",
          "sizeref": 8.955
         },
         "mode": "markers",
         "name": "644.667 km",
         "showlegend": true,
         "subplot": "mapbox",
         "type": "scattermapbox"
        },
        {
         "customdata": [
          [
           "3159 W. 11th St. Cleveland, Ohio, 44109 United States",
           965
          ]
         ],
         "hovertemplate": "<b>%{hovertext}</b><br><br>Distance=652.297 km<br>Popolarity=%{marker.size}<br>placeAlt=%{lat}<br>placeLong=%{lon}<br>placeAddress=%{customdata[0]}<br>numPeopleVisited=%{customdata[1]}<extra></extra>",
         "hovertext": [
          "A Christmas Story House and Museum"
         ],
         "lat": [
          41.4687
         ],
         "legendgroup": "652.297 km",
         "lon": [
          -81.6873
         ],
         "marker": {
          "color": "#FECB52",
          "size": [
           1259
          ],
          "sizemode": "area",
          "sizeref": 8.955
         },
         "mode": "markers",
         "name": "652.297 km",
         "showlegend": true,
         "subplot": "mapbox",
         "type": "scattermapbox"
        },
        {
         "customdata": [
          [
           "3321 N Main Street Danville, Virginia, 24540 United States",
           110
          ]
         ],
         "hovertemplate": "<b>%{hovertext}</b><br><br>Distance=654.793 km<br>Popolarity=%{marker.size}<br>placeAlt=%{lat}<br>placeLong=%{lon}<br>placeAddress=%{customdata[0]}<br>numPeopleVisited=%{customdata[1]}<extra></extra>",
         "hovertext": [
          "AAF Tank Museum"
         ],
         "lat": [
          36.6432
         ],
         "legendgroup": "654.793 km",
         "lon": [
          -79.3824
         ],
         "marker": {
          "color": "#636efa",
          "size": [
           295
          ],
          "sizemode": "area",
          "sizeref": 8.955
         },
         "mode": "markers",
         "name": "654.793 km",
         "showlegend": true,
         "subplot": "mapbox",
         "type": "scattermapbox"
        },
        {
         "customdata": [
          [
           "34 Park Avenue West Mansfield, Ohio, 44902 United States",
           127
          ]
         ],
         "hovertemplate": "<b>%{hovertext}</b><br><br>Distance=720.345 km<br>Popolarity=%{marker.size}<br>placeAlt=%{lat}<br>placeLong=%{lon}<br>placeAddress=%{customdata[0]}<br>numPeopleVisited=%{customdata[1]}<extra></extra>",
         "hovertext": [
          "Mansfield Memorial Museum"
         ],
         "lat": [
          40.7587
         ],
         "legendgroup": "720.345 km",
         "lon": [
          -82.5105
         ],
         "marker": {
          "color": "#EF553B",
          "size": [
           346.5
          ],
          "sizemode": "area",
          "sizeref": 8.955
         },
         "mode": "markers",
         "name": "720.345 km",
         "showlegend": true,
         "subplot": "mapbox",
         "type": "scattermapbox"
        },
        {
         "customdata": [
          [
           "134 South Elm Street  Greensboro, North Carolina United States",
           370
          ]
         ],
         "hovertemplate": "<b>%{hovertext}</b><br><br>Distance=726.057 km<br>Popolarity=%{marker.size}<br>placeAlt=%{lat}<br>placeLong=%{lon}<br>placeAddress=%{customdata[0]}<br>numPeopleVisited=%{customdata[1]}<extra></extra>",
         "hovertext": [
          "Site of the Woolworth Lunch Counter Sit-in"
         ],
         "lat": [
          36.0717
         ],
         "legendgroup": "726.057 km",
         "lon": [
          -79.7907
         ],
         "marker": {
          "color": "#00cc96",
          "size": [
           647
          ],
          "sizemode": "area",
          "sizeref": 8.955
         },
         "mode": "markers",
         "name": "726.057 km",
         "showlegend": true,
         "subplot": "mapbox",
         "type": "scattermapbox"
        },
        {
         "customdata": [
          [
           "400 Main Street Point Pleasant, West Virginia, 25550 United States",
           694
          ]
         ],
         "hovertemplate": "<b>%{hovertext}</b><br><br>Distance=730.1 km<br>Popolarity=%{marker.size}<br>placeAlt=%{lat}<br>placeLong=%{lon}<br>placeAddress=%{customdata[0]}<br>numPeopleVisited=%{customdata[1]}<extra></extra>",
         "hovertext": [
          "Mothman Museum"
         ],
         "lat": [
          38.8428
         ],
         "legendgroup": "730.1 km",
         "lon": [
          -82.1386
         ],
         "marker": {
          "color": "#ab63fa",
          "size": [
           1081
          ],
          "sizemode": "area",
          "sizeref": 8.955
         },
         "mode": "markers",
         "name": "730.1 km",
         "showlegend": true,
         "subplot": "mapbox",
         "type": "scattermapbox"
        },
        {
         "customdata": [
          [
           "5200 Woodward Avenue Detroit, Michigan, 48202 United States",
           967
          ]
         ],
         "hovertemplate": "<b>%{hovertext}</b><br><br>Distance=778.468 km<br>Popolarity=%{marker.size}<br>placeAlt=%{lat}<br>placeLong=%{lon}<br>placeAddress=%{customdata[0]}<br>numPeopleVisited=%{customdata[1]}<extra></extra>",
         "hovertext": [
          "Diego Rivera's Detroit Industry"
         ],
         "lat": [
          42.3594
         ],
         "legendgroup": "778.468 km",
         "lon": [
          -83.0645
         ],
         "marker": {
          "color": "#FFA15A",
          "size": [
           847
          ],
          "sizemode": "area",
          "sizeref": 8.955
         },
         "mode": "markers",
         "name": "778.468 km",
         "showlegend": true,
         "subplot": "mapbox",
         "type": "scattermapbox"
        },
        {
         "customdata": [
          [
           "5396 Franklin St Hilliard, Ohio United States",
           102
          ]
         ],
         "hovertemplate": "<b>%{hovertext}</b><br><br>Distance=783.489 km<br>Popolarity=%{marker.size}<br>placeAlt=%{lat}<br>placeLong=%{lon}<br>placeAddress=%{customdata[0]}<br>numPeopleVisited=%{customdata[1]}<extra></extra>",
         "hovertext": [
          "Early Television Museum"
         ],
         "lat": [
          40.0345
         ],
         "legendgroup": "783.489 km",
         "lon": [
          -83.1616
         ],
         "marker": {
          "color": "#19d3f3",
          "size": [
           463
          ],
          "sizemode": "area",
          "sizeref": 8.955
         },
         "mode": "markers",
         "name": "783.489 km",
         "showlegend": true,
         "subplot": "mapbox",
         "type": "scattermapbox"
        },
        {
         "customdata": [
          [
           "16701 Airport Rd Maxton, North Carolina, 28364 United States",
           84
          ]
         ],
         "hovertemplate": "<b>%{hovertext}</b><br><br>Distance=813.605 km<br>Popolarity=%{marker.size}<br>placeAlt=%{lat}<br>placeLong=%{lon}<br>placeAddress=%{customdata[0]}<br>numPeopleVisited=%{customdata[1]}<extra></extra>",
         "hovertext": [
          "Laurinburg-Maxton Aircraft Boneyard"
         ],
         "lat": [
          34.7962
         ],
         "legendgroup": "813.605 km",
         "lon": [
          -79.3695
         ],
         "marker": {
          "color": "#FF6692",
          "size": [
           327.5
          ],
          "sizemode": "area",
          "sizeref": 8.955
         },
         "mode": "markers",
         "name": "813.605 km",
         "showlegend": true,
         "subplot": "mapbox",
         "type": "scattermapbox"
        },
        {
         "customdata": [
          [
           "1100 Spaatz St Dayton, Ohio, 45431 United States",
           617
          ]
         ],
         "hovertemplate": "<b>%{hovertext}</b><br><br>Distance=868.065 km<br>Popolarity=%{marker.size}<br>placeAlt=%{lat}<br>placeLong=%{lon}<br>placeAddress=%{customdata[0]}<br>numPeopleVisited=%{customdata[1]}<extra></extra>",
         "hovertext": [
          "SAM 26000"
         ],
         "lat": [
          39.7824
         ],
         "legendgroup": "868.065 km",
         "lon": [
          -84.1094
         ],
         "marker": {
          "color": "#B6E880",
          "size": [
           587.5
          ],
          "sizemode": "area",
          "sizeref": 8.955
         },
         "mode": "markers",
         "name": "868.065 km",
         "showlegend": true,
         "subplot": "mapbox",
         "type": "scattermapbox"
        },
        {
         "customdata": [
          [
           "1001-1019 Forest Ave Maysville, Kentucky, 41056 United States",
           75
          ]
         ],
         "hovertemplate": "<b>%{hovertext}</b><br><br>Distance=875.595 km<br>Popolarity=%{marker.size}<br>placeAlt=%{lat}<br>placeLong=%{lon}<br>placeAddress=%{customdata[0]}<br>numPeopleVisited=%{customdata[1]}<extra></extra>",
         "hovertext": [
          "Harriet Beecher Stowe, Slavery to Freedom Museum"
         ],
         "lat": [
          38.6153
         ],
         "legendgroup": "875.595 km",
         "lon": [
          -83.8087
         ],
         "marker": {
          "color": "#FF97FF",
          "size": [
           309.5
          ],
          "sizemode": "area",
          "sizeref": 8.955
         },
         "mode": "markers",
         "name": "875.595 km",
         "showlegend": true,
         "subplot": "mapbox",
         "type": "scattermapbox"
        },
        {
         "customdata": [
          [
           "2511 Essex Place Cincinnati, Ohio, 45206 United States",
           259
          ]
         ],
         "hovertemplate": "<b>%{hovertext}</b><br><br>Distance=916.568 km<br>Popolarity=%{marker.size}<br>placeAlt=%{lat}<br>placeLong=%{lon}<br>placeAddress=%{customdata[0]}<br>numPeopleVisited=%{customdata[1]}<extra></extra>",
         "hovertext": [
          "Lucky Cat Museum"
         ],
         "lat": [
          39.1271
         ],
         "legendgroup": "916.568 km",
         "lon": [
          -84.4984
         ],
         "marker": {
          "color": "#FECB52",
          "size": [
           809
          ],
          "sizemode": "area",
          "sizeref": 8.955
         },
         "mode": "markers",
         "name": "916.568 km",
         "showlegend": true,
         "subplot": "mapbox",
         "type": "scattermapbox"
        },
        {
         "customdata": [
          [
           "107 E. Michigan Ave. Marshall, Michigan, 49068 United States",
           174
          ]
         ],
         "hovertemplate": "<b>%{hovertext}</b><br><br>Distance=931.501 km<br>Popolarity=%{marker.size}<br>placeAlt=%{lat}<br>placeLong=%{lon}<br>placeAddress=%{customdata[0]}<br>numPeopleVisited=%{customdata[1]}<extra></extra>",
         "hovertext": [
          "American Museum of Magic"
         ],
         "lat": [
          42.2721
         ],
         "legendgroup": "931.501 km",
         "lon": [
          -84.9586
         ],
         "marker": {
          "color": "#636efa",
          "size": [
           542.5
          ],
          "sizemode": "area",
          "sizeref": 8.955
         },
         "mode": "markers",
         "name": "931.501 km",
         "showlegend": true,
         "subplot": "mapbox",
         "type": "scattermapbox"
        },
        {
         "customdata": [
          [
           "56 Broadway St Asheville, North Carolina, 28801 United States",
           175
          ]
         ],
         "hovertemplate": "<b>%{hovertext}</b><br><br>Distance=943.607 km<br>Popolarity=%{marker.size}<br>placeAlt=%{lat}<br>placeLong=%{lon}<br>placeAddress=%{customdata[0]}<br>numPeopleVisited=%{customdata[1]}<extra></extra>",
         "hovertext": [
          "Moogseum"
         ],
         "lat": [
          35.5973
         ],
         "legendgroup": "943.607 km",
         "lon": [
          -82.5522
         ],
         "marker": {
          "color": "#EF553B",
          "size": [
           308.5
          ],
          "sizemode": "area",
          "sizeref": 8.955
         },
         "mode": "markers",
         "name": "943.607 km",
         "showlegend": true,
         "subplot": "mapbox",
         "type": "scattermapbox"
        },
        {
         "customdata": [
          [
           "97 Haywood Street Asheville, North Carolina United States",
           428
          ]
         ],
         "hovertemplate": "<b>%{hovertext}</b><br><br>Distance=943.885 km<br>Popolarity=%{marker.size}<br>placeAlt=%{lat}<br>placeLong=%{lon}<br>placeAddress=%{customdata[0]}<br>numPeopleVisited=%{customdata[1]}<extra></extra>",
         "hovertext": [
          "Basilica of Saint Lawrence, Asheville"
         ],
         "lat": [
          35.5974
         ],
         "legendgroup": "943.885 km",
         "lon": [
          -82.5563
         ],
         "marker": {
          "color": "#00cc96",
          "size": [
           654
          ],
          "sizemode": "area",
          "sizeref": 8.955
         },
         "mode": "markers",
         "name": "943.885 km",
         "showlegend": true,
         "subplot": "mapbox",
         "type": "scattermapbox"
        },
        {
         "customdata": [
          [
           "230 Pisgah Pike Versailles, Kentucky, 40383 United States",
           672
          ]
         ],
         "hovertemplate": "<b>%{hovertext}</b><br><br>Distance=967.009 km<br>Popolarity=%{marker.size}<br>placeAlt=%{lat}<br>placeLong=%{lon}<br>placeAddress=%{customdata[0]}<br>numPeopleVisited=%{customdata[1]}<extra></extra>",
         "hovertext": [
          "Castle Post"
         ],
         "lat": [
          38.0448
         ],
         "legendgroup": "967.009 km",
         "lon": [
          -84.6566
         ],
         "marker": {
          "color": "#ab63fa",
          "size": [
           873.5
          ],
          "sizemode": "area",
          "sizeref": 8.955
         },
         "mode": "markers",
         "name": "967.009 km",
         "showlegend": true,
         "subplot": "mapbox",
         "type": "scattermapbox"
        },
        {
         "customdata": [
          [
           "21565 Executive Pkwy Elkhart, Indiana United States",
           191
          ]
         ],
         "hovertemplate": "<b>%{hovertext}</b><br><br>Distance=1002.919 km<br>Popolarity=%{marker.size}<br>placeAlt=%{lat}<br>placeLong=%{lon}<br>placeAddress=%{customdata[0]}<br>numPeopleVisited=%{customdata[1]}<extra></extra>",
         "hovertext": [
          "RV/MH Hall of Fame"
         ],
         "lat": [
          41.7293
         ],
         "legendgroup": "1002.919 km",
         "lon": [
          -85.8802
         ],
         "marker": {
          "color": "#FFA15A",
          "size": [
           391
          ],
          "sizemode": "area",
          "sizeref": 8.955
         },
         "mode": "markers",
         "name": "1002.919 km",
         "showlegend": true,
         "subplot": "mapbox",
         "type": "scattermapbox"
        },
        {
         "customdata": [
          [
           "564 Tsali Boulevard Cherokee, North Carolina, 28719 United States",
           455
          ]
         ],
         "hovertemplate": "<b>%{hovertext}</b><br><br>Distance=1005.241 km<br>Popolarity=%{marker.size}<br>placeAlt=%{lat}<br>placeLong=%{lon}<br>placeAddress=%{customdata[0]}<br>numPeopleVisited=%{customdata[1]}<extra></extra>",
         "hovertext": [
          "Unto These Hills Cherokee Theatre"
         ],
         "lat": [
          35.4843
         ],
         "legendgroup": "1005.241 km",
         "lon": [
          -83.3156
         ],
         "marker": {
          "color": "#19d3f3",
          "size": [
           580
          ],
          "sizemode": "area",
          "sizeref": 8.955
         },
         "mode": "markers",
         "name": "1005.241 km",
         "showlegend": true,
         "subplot": "mapbox",
         "type": "scattermapbox"
        },
        {
         "customdata": [
          [
           "1915 Cassopolis St.  Elkhart, Indiana, 46517 United States",
           139
          ]
         ],
         "hovertemplate": "<b>%{hovertext}</b><br><br>Distance=1012.168 km<br>Popolarity=%{marker.size}<br>placeAlt=%{lat}<br>placeLong=%{lon}<br>placeAddress=%{customdata[0]}<br>numPeopleVisited=%{customdata[1]}<extra></extra>",
         "hovertext": [
          "Hall of Heroes"
         ],
         "lat": [
          41.6522
         ],
         "legendgroup": "1012.168 km",
         "lon": [
          -85.9949
         ],
         "marker": {
          "color": "#FF6692",
          "size": [
           375.5
          ],
          "sizemode": "area",
          "sizeref": 8.955
         },
         "mode": "markers",
         "name": "1012.168 km",
         "showlegend": true,
         "subplot": "mapbox",
         "type": "scattermapbox"
        },
        {
         "customdata": [
          [
           "Old School Antique Mall  4704 US-441 Sylva, North Carolina United States",
           142
          ]
         ],
         "hovertemplate": "<b>%{hovertext}</b><br><br>Distance=1013.028 km<br>Popolarity=%{marker.size}<br>placeAlt=%{lat}<br>placeLong=%{lon}<br>placeAddress=%{customdata[0]}<br>numPeopleVisited=%{customdata[1]}<extra></extra>",
         "hovertext": [
          "American Museum of the House Cat"
         ],
         "lat": [
          35.319
         ],
         "legendgroup": "1013.028 km",
         "lon": [
          -83.2632
         ],
         "marker": {
          "color": "#B6E880",
          "size": [
           591.5
          ],
          "sizemode": "area",
          "sizeref": 8.955
         },
         "mode": "markers",
         "name": "1013.028 km",
         "showlegend": true,
         "subplot": "mapbox",
         "type": "scattermapbox"
        },
        {
         "customdata": [
          [
           "3380 Ashley River Road Charleston, South Carolina, 29414 United States",
           506
          ]
         ],
         "hovertemplate": "<b>%{hovertext}</b><br><br>Distance=1029.917 km<br>Popolarity=%{marker.size}<br>placeAlt=%{lat}<br>placeLong=%{lon}<br>placeAddress=%{customdata[0]}<br>numPeopleVisited=%{customdata[1]}<extra></extra>",
         "hovertext": [
          "Drayton Hall"
         ],
         "lat": [
          32.8682
         ],
         "legendgroup": "1029.917 km",
         "lon": [
          -80.0821
         ],
         "marker": {
          "color": "#FF97FF",
          "size": [
           659.5
          ],
          "sizemode": "area",
          "sizeref": 8.955
         },
         "mode": "markers",
         "name": "1029.917 km",
         "showlegend": true,
         "subplot": "mapbox",
         "type": "scattermapbox"
        },
        {
         "customdata": [
          [
           "6 Chalmers Street Charleston, South Carolina, 29401 United States",
           1327
          ]
         ],
         "hovertemplate": "<b>%{hovertext}</b><br><br>Distance=1031.5 km<br>Popolarity=%{marker.size}<br>placeAlt=%{lat}<br>placeLong=%{lon}<br>placeAddress=%{customdata[0]}<br>numPeopleVisited=%{customdata[1]}<extra></extra>",
         "hovertext": [
          "Old Slave Mart"
         ],
         "lat": [
          32.7778
         ],
         "legendgroup": "1031.5 km",
         "lon": [
          -79.9284
         ],
         "marker": {
          "color": "#FECB52",
          "size": [
           1171.5
          ],
          "sizemode": "area",
          "sizeref": 8.955
         },
         "mode": "markers",
         "name": "1031.5 km",
         "showlegend": true,
         "subplot": "mapbox",
         "type": "scattermapbox"
        },
        {
         "customdata": [
          [
           "21 Magazine Street Charleston, South Carolina United States",
           665
          ]
         ],
         "hovertemplate": "<b>%{hovertext}</b><br><br>Distance=1031.836 km<br>Popolarity=%{marker.size}<br>placeAlt=%{lat}<br>placeLong=%{lon}<br>placeAddress=%{customdata[0]}<br>numPeopleVisited=%{customdata[1]}<extra></extra>",
         "hovertext": [
          "Old Charleston City Jail"
         ],
         "lat": [
          32.7785
         ],
         "legendgroup": "1031.836 km",
         "lon": [
          -79.9372
         ],
         "marker": {
          "color": "#636efa",
          "size": [
           759
          ],
          "sizemode": "area",
          "sizeref": 8.955
         },
         "mode": "markers",
         "name": "1031.836 km",
         "showlegend": true,
         "subplot": "mapbox",
         "type": "scattermapbox"
        },
        {
         "customdata": [
          [
           "201 South Chapin Street South Bend, Indiana, 46601 United States",
           248
          ]
         ],
         "hovertemplate": "<b>%{hovertext}</b><br><br>Distance=1034.459 km<br>Popolarity=%{marker.size}<br>placeAlt=%{lat}<br>placeLong=%{lon}<br>placeAddress=%{customdata[0]}<br>numPeopleVisited=%{customdata[1]}<extra></extra>",
         "hovertext": [
          "Studebaker National Museum"
         ],
         "lat": [
          41.6746
         ],
         "legendgroup": "1034.459 km",
         "lon": [
          -86.2618
         ],
         "marker": {
          "color": "#EF553B",
          "size": [
           378.5
          ],
          "sizemode": "area",
          "sizeref": 8.955
         },
         "mode": "markers",
         "name": "1034.459 km",
         "showlegend": true,
         "subplot": "mapbox",
         "type": "scattermapbox"
        },
        {
         "customdata": [
          [
           "1043 Virginia Avenue Suite 208  Indianapolis, Indiana United States",
           118
          ]
         ],
         "hovertemplate": "<b>%{hovertext}</b><br><br>Distance=1039.982 km<br>Popolarity=%{marker.size}<br>placeAlt=%{lat}<br>placeLong=%{lon}<br>placeAddress=%{customdata[0]}<br>numPeopleVisited=%{customdata[1]}<extra></extra>",
         "hovertext": [
          "Museum of Psychphonics"
         ],
         "lat": [
          39.7528
         ],
         "legendgroup": "1039.982 km",
         "lon": [
          -86.141
         ],
         "marker": {
          "color": "#00cc96",
          "size": [
           535.5
          ],
          "sizemode": "area",
          "sizeref": 8.955
         },
         "mode": "markers",
         "name": "1039.982 km",
         "showlegend": true,
         "subplot": "mapbox",
         "type": "scattermapbox"
        },
        {
         "customdata": [
          [
           "Oak Ridge, Tennessee, 37830 United States",
           580
          ]
         ],
         "hovertemplate": "<b>%{hovertext}</b><br><br>Distance=1040.1 km<br>Popolarity=%{marker.size}<br>placeAlt=%{lat}<br>placeLong=%{lon}<br>placeAddress=%{customdata[0]}<br>numPeopleVisited=%{customdata[1]}<extra></extra>",
         "hovertext": [
          "Oak Ridge \"The Secret City\""
         ],
         "lat": [
          36.0089
         ],
         "legendgroup": "1040.1 km",
         "lon": [
          -84.2571
         ],
         "marker": {
          "color": "#ab63fa",
          "size": [
           1021
          ],
          "sizemode": "area",
          "sizeref": 8.955
         },
         "mode": "markers",
         "name": "1040.1 km",
         "showlegend": true,
         "subplot": "mapbox",
         "type": "scattermapbox"
        },
        {
         "customdata": [
          [
           "543 Indiana Ave Indianapolis, Indiana, 46202 United States",
           266
          ]
         ],
         "hovertemplate": "<b>%{hovertext}</b><br><br>Distance=1041.681 km<br>Popolarity=%{marker.size}<br>placeAlt=%{lat}<br>placeLong=%{lon}<br>placeAddress=%{customdata[0]}<br>numPeopleVisited=%{customdata[1]}<extra></extra>",
         "hovertext": [
          "Kurt Vonnegut Memorial Library and Museum"
         ],
         "lat": [
          39.7755
         ],
         "legendgroup": "1041.681 km",
         "lon": [
          -86.1663
         ],
         "marker": {
          "color": "#FFA15A",
          "size": [
           441.5
          ],
          "sizemode": "area",
          "sizeref": 8.955
         },
         "mode": "markers",
         "name": "1041.681 km",
         "showlegend": true,
         "subplot": "mapbox",
         "type": "scattermapbox"
        },
        {
         "customdata": [
          [
           "114 North 5th Street Bardstown, Kentucky, 40004 United States",
           135
          ]
         ],
         "hovertemplate": "<b>%{hovertext}</b><br><br>Distance=1043.105 km<br>Popolarity=%{marker.size}<br>placeAlt=%{lat}<br>placeLong=%{lon}<br>placeAddress=%{customdata[0]}<br>numPeopleVisited=%{customdata[1]}<extra></extra>",
         "hovertext": [
          "Oscar Getz Museum of Whiskey History"
         ],
         "lat": [
          37.8101
         ],
         "legendgroup": "1043.105 km",
         "lon": [
          -85.4702
         ],
         "marker": {
          "color": "#19d3f3",
          "size": [
           347
          ],
          "sizemode": "area",
          "sizeref": 8.955
         },
         "mode": "markers",
         "name": "1043.105 km",
         "showlegend": true,
         "subplot": "mapbox",
         "type": "scattermapbox"
        },
        {
         "customdata": [
          [
           "2395 Cave Hill Rd Louisville, Kentucky, 40204 United States",
           645
          ]
         ],
         "hovertemplate": "<b>%{hovertext}</b><br><br>Distance=1046.344 km<br>Popolarity=%{marker.size}<br>placeAlt=%{lat}<br>placeLong=%{lon}<br>placeAddress=%{customdata[0]}<br>numPeopleVisited=%{customdata[1]}<extra></extra>",
         "hovertext": [
          "Cave Hill Cemetery"
         ],
         "lat": [
          38.2454
         ],
         "legendgroup": "1046.344 km",
         "lon": [
          -85.7148
         ],
         "marker": {
          "color": "#FF6692",
          "size": [
           549.5
          ],
          "sizemode": "area",
          "sizeref": 8.955
         },
         "mode": "markers",
         "name": "1046.344 km",
         "showlegend": true,
         "subplot": "mapbox",
         "type": "scattermapbox"
        },
        {
         "customdata": [
          [
           "TN-52 Rugby, Tennessee, 37733 United States",
           240
          ]
         ],
         "hovertemplate": "<b>%{hovertext}</b><br><br>Distance=1053.219 km<br>Popolarity=%{marker.size}<br>placeAlt=%{lat}<br>placeLong=%{lon}<br>placeAddress=%{customdata[0]}<br>numPeopleVisited=%{customdata[1]}<extra></extra>",
         "hovertext": [
          "Rugby Colony"
         ],
         "lat": [
          36.3611
         ],
         "legendgroup": "1053.219 km",
         "lon": [
          -84.7024
         ],
         "marker": {
          "color": "#B6E880",
          "size": [
           684.5
          ],
          "sizemode": "area",
          "sizeref": 8.955
         },
         "mode": "markers",
         "name": "1053.219 km",
         "showlegend": true,
         "subplot": "mapbox",
         "type": "scattermapbox"
        },
        {
         "customdata": [
          [
           "Blairsville, Georgia, 30512 United States",
           697
          ]
         ],
         "hovertemplate": "<b>%{hovertext}</b><br><br>Distance=1082.949 km<br>Popolarity=%{marker.size}<br>placeAlt=%{lat}<br>placeLong=%{lon}<br>placeAddress=%{customdata[0]}<br>numPeopleVisited=%{customdata[1]}<extra></extra>",
         "hovertext": [
          "Brasstown Bald"
         ],
         "lat": [
          34.8742
         ],
         "legendgroup": "1082.949 km",
         "lon": [
          -83.8107
         ],
         "marker": {
          "color": "#FF97FF",
          "size": [
           611.5
          ],
          "sizemode": "area",
          "sizeref": 8.955
         },
         "mode": "markers",
         "name": "1082.949 km",
         "showlegend": true,
         "subplot": "mapbox",
         "type": "scattermapbox"
        },
        {
         "customdata": [
          [
           "409 E Happy Valley St Cave City, Kentucky United States",
           170
          ]
         ],
         "hovertemplate": "<b>%{hovertext}</b><br><br>Distance=1113.049 km<br>Popolarity=%{marker.size}<br>placeAlt=%{lat}<br>placeLong=%{lon}<br>placeAddress=%{customdata[0]}<br>numPeopleVisited=%{customdata[1]}<extra></extra>",
         "hovertext": [
          "Mammoth Cave Wildlife Museum"
         ],
         "lat": [
          37.1269
         ],
         "legendgroup": "1113.049 km",
         "lon": [
          -85.9612
         ],
         "marker": {
          "color": "#FECB52",
          "size": [
           362.5
          ],
          "sizemode": "area",
          "sizeref": 8.955
         },
         "mode": "markers",
         "name": "1113.049 km",
         "showlegend": true,
         "subplot": "mapbox",
         "type": "scattermapbox"
        },
        {
         "customdata": [
          [
           "70 Honey Horn Drive Hilton Head Island, South Carolina, 29926 United States",
           181
          ]
         ],
         "hovertemplate": "<b>%{hovertext}</b><br><br>Distance=1124.0 km<br>Popolarity=%{marker.size}<br>placeAlt=%{lat}<br>placeLong=%{lon}<br>placeAddress=%{customdata[0]}<br>numPeopleVisited=%{customdata[1]}<extra></extra>",
         "hovertext": [
          "Gullah Heritage Trail"
         ],
         "lat": [
          32.2125
         ],
         "legendgroup": "1124.0 km",
         "lon": [
          -80.742
         ],
         "marker": {
          "color": "#636efa",
          "size": [
           388
          ],
          "sizemode": "area",
          "sizeref": 8.955
         },
         "mode": "markers",
         "name": "1124.0 km",
         "showlegend": true,
         "subplot": "mapbox",
         "type": "scattermapbox"
        },
        {
         "customdata": [
          [
           "5700 S. Lake Shore Drive Chicago, Illinois, 60637 United States",
           2064
          ]
         ],
         "hovertemplate": "<b>%{hovertext}</b><br><br>Distance=1144.675 km<br>Popolarity=%{marker.size}<br>placeAlt=%{lat}<br>placeLong=%{lon}<br>placeAddress=%{customdata[0]}<br>numPeopleVisited=%{customdata[1]}<extra></extra>",
         "hovertext": [
          "U-505"
         ],
         "lat": [
          41.7906
         ],
         "legendgroup": "1144.675 km",
         "lon": [
          -87.5831
         ],
         "marker": {
          "color": "#EF553B",
          "size": [
           1407.5
          ],
          "sizemode": "area",
          "sizeref": 8.955
         },
         "mode": "markers",
         "name": "1144.675 km",
         "showlegend": true,
         "subplot": "mapbox",
         "type": "scattermapbox"
        },
        {
         "customdata": [
          [
           "600 E Grand Ave Chicago, Illinois United States",
           1448
          ]
         ],
         "hovertemplate": "<b>%{hovertext}</b><br><br>Distance=1147.082 km<br>Popolarity=%{marker.size}<br>placeAlt=%{lat}<br>placeLong=%{lon}<br>placeAddress=%{customdata[0]}<br>numPeopleVisited=%{customdata[1]}<extra></extra>",
         "hovertext": [
          "Stained Glass at Navy Pier"
         ],
         "lat": [
          41.8917
         ],
         "legendgroup": "1147.082 km",
         "lon": [
          -87.6085
         ],
         "marker": {
          "color": "#00cc96",
          "size": [
           1203
          ],
          "sizemode": "area",
          "sizeref": 8.955
         },
         "mode": "markers",
         "name": "1147.082 km",
         "showlegend": true,
         "subplot": "mapbox",
         "type": "scattermapbox"
        },
        {
         "customdata": [
          [
           "Chicago, Illinois, 60603 United States",
           1505
          ]
         ],
         "hovertemplate": "<b>%{hovertext}</b><br><br>Distance=1148.302 km<br>Popolarity=%{marker.size}<br>placeAlt=%{lat}<br>placeLong=%{lon}<br>placeAddress=%{customdata[0]}<br>numPeopleVisited=%{customdata[1]}<extra></extra>",
         "hovertext": [
          "Thorne Miniature Rooms"
         ],
         "lat": [
          41.8796
         ],
         "legendgroup": "1148.302 km",
         "lon": [
          -87.6237
         ],
         "marker": {
          "color": "#ab63fa",
          "size": [
           1374.5
          ],
          "sizemode": "area",
          "sizeref": 8.955
         },
         "mode": "markers",
         "name": "1148.302 km",
         "showlegend": true,
         "subplot": "mapbox",
         "type": "scattermapbox"
        },
        {
         "customdata": [
          [
           "180 N Michigan Ave Chicago, Illinois, 60601 United States",
           182
          ]
         ],
         "hovertemplate": "<b>%{hovertext}</b><br><br>Distance=1148.422 km<br>Popolarity=%{marker.size}<br>placeAlt=%{lat}<br>placeLong=%{lon}<br>placeAddress=%{customdata[0]}<br>numPeopleVisited=%{customdata[1]}<extra></extra>",
         "hovertext": [
          "American Writers Museum"
         ],
         "lat": [
          41.8856
         ],
         "legendgroup": "1148.422 km",
         "lon": [
          -87.6249
         ],
         "marker": {
          "color": "#FFA15A",
          "size": [
           391
          ],
          "sizemode": "area",
          "sizeref": 8.955
         },
         "mode": "markers",
         "name": "1148.422 km",
         "showlegend": true,
         "subplot": "mapbox",
         "type": "scattermapbox"
        },
        {
         "customdata": [
          [
           "60 West Walton Street Chicago, Illinois United States",
           182
          ]
         ],
         "hovertemplate": "<b>%{hovertext}</b><br><br>Distance=1148.903 km<br>Popolarity=%{marker.size}<br>placeAlt=%{lat}<br>placeLong=%{lon}<br>placeAddress=%{customdata[0]}<br>numPeopleVisited=%{customdata[1]}<extra></extra>",
         "hovertext": [
          "Newberry Library Postcard Collection"
         ],
         "lat": [
          41.9
         ],
         "legendgroup": "1148.903 km",
         "lon": [
          -87.6301
         ],
         "marker": {
          "color": "#19d3f3",
          "size": [
           366
          ],
          "sizemode": "area",
          "sizeref": 8.955
         },
         "mode": "markers",
         "name": "1148.903 km",
         "showlegend": true,
         "subplot": "mapbox",
         "type": "scattermapbox"
        },
        {
         "customdata": [
          [
           "230 South LaSalle Street Chicago, Illinois, 60604 United States",
           442
          ]
         ],
         "hovertemplate": "<b>%{hovertext}</b><br><br>Distance=1149.013 km<br>Popolarity=%{marker.size}<br>placeAlt=%{lat}<br>placeLong=%{lon}<br>placeAddress=%{customdata[0]}<br>numPeopleVisited=%{customdata[1]}<extra></extra>",
         "hovertext": [
          "Money Museum "
         ],
         "lat": [
          41.8787
         ],
         "legendgroup": "1149.013 km",
         "lon": [
          -87.6323
         ],
         "marker": {
          "color": "#FF6692",
          "size": [
           815
          ],
          "sizemode": "area",
          "sizeref": 8.955
         },
         "mode": "markers",
         "name": "1149.013 km",
         "showlegend": true,
         "subplot": "mapbox",
         "type": "scattermapbox"
        },
        {
         "customdata": [
          [
           "209 W. St. Julian Street Savannah, Georgia United States",
           370
          ]
         ],
         "hovertemplate": "<b>%{hovertext}</b><br><br>Distance=1153.699 km<br>Popolarity=%{marker.size}<br>placeAlt=%{lat}<br>placeLong=%{lon}<br>placeAddress=%{customdata[0]}<br>numPeopleVisited=%{customdata[1]}<extra></extra>",
         "hovertext": [
          "American Prohibition Museum"
         ],
         "lat": [
          32.0806
         ],
         "legendgroup": "1153.699 km",
         "lon": [
          -81.0946
         ],
         "marker": {
          "color": "#B6E880",
          "size": [
           602.5
          ],
          "sizemode": "area",
          "sizeref": 8.955
         },
         "mode": "markers",
         "name": "1153.699 km",
         "showlegend": true,
         "subplot": "mapbox",
         "type": "scattermapbox"
        },
        {
         "customdata": [
          [
           "1 University Pkwy University Park, Illinois United States",
           103
          ]
         ],
         "hovertemplate": "<b>%{hovertext}</b><br><br>Distance=1155.37 km<br>Popolarity=%{marker.size}<br>placeAlt=%{lat}<br>placeLong=%{lon}<br>placeAddress=%{customdata[0]}<br>numPeopleVisited=%{customdata[1]}<extra></extra>",
         "hovertext": [
          "Nathan Manilow Sculpture Park"
         ],
         "lat": [
          41.4493
         ],
         "legendgroup": "1155.37 km",
         "lon": [
          -87.7136
         ],
         "marker": {
          "color": "#FF97FF",
          "size": [
           296
          ],
          "sizemode": "area",
          "sizeref": 8.955
         },
         "mode": "markers",
         "name": "1155.37 km",
         "showlegend": true,
         "subplot": "mapbox",
         "type": "scattermapbox"
        },
        {
         "customdata": [
          [
           "700 N. Art Museum Dr. Milwaukee, Wisconsin, 53202 United States",
           1658
          ]
         ],
         "hovertemplate": "<b>%{hovertext}</b><br><br>Distance=1181.337 km<br>Popolarity=%{marker.size}<br>placeAlt=%{lat}<br>placeLong=%{lon}<br>placeAddress=%{customdata[0]}<br>numPeopleVisited=%{customdata[1]}<extra></extra>",
         "hovertext": [
          "Milwaukee Art Museum"
         ],
         "lat": [
          43.0385
         ],
         "legendgroup": "1181.337 km",
         "lon": [
          -87.8975
         ],
         "marker": {
          "color": "#FECB52",
          "size": [
           1245.5
          ],
          "sizemode": "area",
          "sizeref": 8.955
         },
         "mode": "markers",
         "name": "1181.337 km",
         "showlegend": true,
         "subplot": "mapbox",
         "type": "scattermapbox"
        },
        {
         "customdata": [
          [
           "1600 Clifton Rd Atlanta, Georgia, 30329 United States",
           452
          ]
         ],
         "hovertemplate": "<b>%{hovertext}</b><br><br>Distance=1197.799 km<br>Popolarity=%{marker.size}<br>placeAlt=%{lat}<br>placeLong=%{lon}<br>placeAddress=%{customdata[0]}<br>numPeopleVisited=%{customdata[1]}<extra></extra>",
         "hovertext": [
          "CDC Museum"
         ],
         "lat": [
          33.799
         ],
         "legendgroup": "1197.799 km",
         "lon": [
          -84.3297
         ],
         "marker": {
          "color": "#636efa",
          "size": [
           1311
          ],
          "sizemode": "area",
          "sizeref": 8.955
         },
         "mode": "markers",
         "name": "1197.799 km",
         "showlegend": true,
         "subplot": "mapbox",
         "type": "scattermapbox"
        },
        {
         "customdata": [
          [
           "130 West Paces Ferry Rd NW Atlanta, Georgia, 30305 United States",
           1115
          ]
         ],
         "hovertemplate": "<b>%{hovertext}</b><br><br>Distance=1198.401 km<br>Popolarity=%{marker.size}<br>placeAlt=%{lat}<br>placeLong=%{lon}<br>placeAddress=%{customdata[0]}<br>numPeopleVisited=%{customdata[1]}<extra></extra>",
         "hovertext": [
          "Battle of Atlanta Cyclorama"
         ],
         "lat": [
          33.8418
         ],
         "legendgroup": "1198.401 km",
         "lon": [
          -84.3863
         ],
         "marker": {
          "color": "#EF553B",
          "size": [
           922
          ],
          "sizemode": "area",
          "sizeref": 8.955
         },
         "mode": "markers",
         "name": "1198.401 km",
         "showlegend": true,
         "subplot": "mapbox",
         "type": "scattermapbox"
        },
        {
         "customdata": [
          [
           "500 10th St NW Atlanta, Georgia United States",
           138
          ]
         ],
         "hovertemplate": "<b>%{hovertext}</b><br><br>Distance=1204.232 km<br>Popolarity=%{marker.size}<br>placeAlt=%{lat}<br>placeLong=%{lon}<br>placeAddress=%{customdata[0]}<br>numPeopleVisited=%{customdata[1]}<extra></extra>",
         "hovertext": [
          "Robert C. Williams Paper Museum"
         ],
         "lat": [
          33.781
         ],
         "legendgroup": "1204.232 km",
         "lon": [
          -84.4046
         ],
         "marker": {
          "color": "#00cc96",
          "size": [
           354.5
          ],
          "sizemode": "area",
          "sizeref": 8.955
         },
         "mode": "markers",
         "name": "1204.232 km",
         "showlegend": true,
         "subplot": "mapbox",
         "type": "scattermapbox"
        },
        {
         "customdata": [
          [
           "732 Stone Fort Dr Manchester, Tennessee United States",
           176
          ]
         ],
         "hovertemplate": "<b>%{hovertext}</b><br><br>Distance=1211.682 km<br>Popolarity=%{marker.size}<br>placeAlt=%{lat}<br>placeLong=%{lon}<br>placeAddress=%{customdata[0]}<br>numPeopleVisited=%{customdata[1]}<extra></extra>",
         "hovertext": [
          "Old Stone Fort"
         ],
         "lat": [
          35.4862
         ],
         "legendgroup": "1211.682 km",
         "lon": [
          -86.102
         ],
         "marker": {
          "color": "#ab63fa",
          "size": [
           329
          ],
          "sizemode": "area",
          "sizeref": 8.955
         },
         "mode": "markers",
         "name": "1211.682 km",
         "showlegend": true,
         "subplot": "mapbox",
         "type": "scattermapbox"
        },
        {
         "customdata": [
          [
           "371 Riverview Dr Jekyll Island, Georgia, 31527 United States",
           558
          ]
         ],
         "hovertemplate": "<b>%{hovertext}</b><br><br>Distance=1266.952 km<br>Popolarity=%{marker.size}<br>placeAlt=%{lat}<br>placeLong=%{lon}<br>placeAddress=%{customdata[0]}<br>numPeopleVisited=%{customdata[1]}<extra></extra>",
         "hovertext": [
          "Jekyll Island Club"
         ],
         "lat": [
          31.0594
         ],
         "legendgroup": "1266.952 km",
         "lon": [
          -81.4222
         ],
         "marker": {
          "color": "#FFA15A",
          "size": [
           507
          ],
          "sizemode": "area",
          "sizeref": 8.955
         },
         "mode": "markers",
         "name": "1266.952 km",
         "showlegend": true,
         "subplot": "mapbox",
         "type": "scattermapbox"
        },
        {
         "customdata": [
          [
           "10875 Prairie Home Ln Funk  Shirley, Illinois, 61772 United States",
           71
          ]
         ],
         "hovertemplate": "<b>%{hovertext}</b><br><br>Distance=1276.282 km<br>Popolarity=%{marker.size}<br>placeAlt=%{lat}<br>placeLong=%{lon}<br>placeAddress=%{customdata[0]}<br>numPeopleVisited=%{customdata[1]}<extra></extra>",
         "hovertext": [
          "Funk Gem and Mineral Museum"
         ],
         "lat": [
          40.3877
         ],
         "legendgroup": "1276.282 km",
         "lon": [
          -89.0597
         ],
         "marker": {
          "color": "#19d3f3",
          "size": [
           338.5
          ],
          "sizemode": "area",
          "sizeref": 8.955
         },
         "mode": "markers",
         "name": "1276.282 km",
         "showlegend": true,
         "subplot": "mapbox",
         "type": "scattermapbox"
        },
        {
         "customdata": [
          [
           "840 Museum Dr. Anniston, Alabama, 36201 United States",
           186
          ]
         ],
         "hovertemplate": "<b>%{hovertext}</b><br><br>Distance=1308.677 km<br>Popolarity=%{marker.size}<br>placeAlt=%{lat}<br>placeLong=%{lon}<br>placeAddress=%{customdata[0]}<br>numPeopleVisited=%{customdata[1]}<extra></extra>",
         "hovertext": [
          "Berman Museum of World History"
         ],
         "lat": [
          33.6949
         ],
         "legendgroup": "1308.677 km",
         "lon": [
          -85.8191
         ],
         "marker": {
          "color": "#FF6692",
          "size": [
           318
          ],
          "sizemode": "area",
          "sizeref": 8.955
         },
         "mode": "markers",
         "name": "1308.677 km",
         "showlegend": true,
         "subplot": "mapbox",
         "type": "scattermapbox"
        },
        {
         "customdata": [
          [
           "Plainfield, Wisconsin, 54966 United States",
           168
          ]
         ],
         "hovertemplate": "<b>%{hovertext}</b><br><br>Distance=1332.371 km<br>Popolarity=%{marker.size}<br>placeAlt=%{lat}<br>placeLong=%{lon}<br>placeAddress=%{customdata[0]}<br>numPeopleVisited=%{customdata[1]}<extra></extra>",
         "hovertext": [
          "Grave of Ed Gein"
         ],
         "lat": [
          44.2167
         ],
         "legendgroup": "1332.371 km",
         "lon": [
          -89.5209
         ],
         "marker": {
          "color": "#B6E880",
          "size": [
           445.5
          ],
          "sizemode": "area",
          "sizeref": 8.955
         },
         "mode": "markers",
         "name": "1332.371 km",
         "showlegend": true,
         "subplot": "mapbox",
         "type": "scattermapbox"
        },
        {
         "customdata": [
          [
           "550 Water Street Baraboo, Wisconsin, 53913 United States",
           786
          ]
         ],
         "hovertemplate": "<b>%{hovertext}</b><br><br>Distance=1337.692 km<br>Popolarity=%{marker.size}<br>placeAlt=%{lat}<br>placeLong=%{lon}<br>placeAddress=%{customdata[0]}<br>numPeopleVisited=%{customdata[1]}<extra></extra>",
         "hovertext": [
          "Circus World Museum"
         ],
         "lat": [
          43.4838
         ],
         "legendgroup": "1337.692 km",
         "lon": [
          -89.7583
         ],
         "marker": {
          "color": "#FF97FF",
          "size": [
           667.5
          ],
          "sizemode": "area",
          "sizeref": 8.955
         },
         "mode": "markers",
         "name": "1337.692 km",
         "showlegend": true,
         "subplot": "mapbox",
         "type": "scattermapbox"
        },
        {
         "customdata": [
          [
           "3218 Hamilton Road Columbus, Georgia, 31904 United States",
           158
          ]
         ],
         "hovertemplate": "<b>%{hovertext}</b><br><br>Distance=1342.623 km<br>Popolarity=%{marker.size}<br>placeAlt=%{lat}<br>placeLong=%{lon}<br>placeAddress=%{customdata[0]}<br>numPeopleVisited=%{customdata[1]}<extra></extra>",
         "hovertext": [
          "Lunch Box Museum"
         ],
         "lat": [
          32.4944
         ],
         "legendgroup": "1342.623 km",
         "lon": [
          -84.9796
         ],
         "marker": {
          "color": "#FECB52",
          "size": [
           502
          ],
          "sizemode": "area",
          "sizeref": 8.955
         },
         "mode": "markers",
         "name": "1342.623 km",
         "showlegend": true,
         "subplot": "mapbox",
         "type": "scattermapbox"
        },
        {
         "customdata": [
          [
           "3137 Whittier St St. Louis, Missouri United States",
           203
          ]
         ],
         "hovertemplate": "<b>%{hovertext}</b><br><br>Distance=1410.927 km<br>Popolarity=%{marker.size}<br>placeAlt=%{lat}<br>placeLong=%{lon}<br>placeAddress=%{customdata[0]}<br>numPeopleVisited=%{customdata[1]}<extra></extra>",
         "hovertext": [
          "Chuck Berry's House"
         ],
         "lat": [
          38.6643
         ],
         "legendgroup": "1410.927 km",
         "lon": [
          -90.2313
         ],
         "marker": {
          "color": "#636efa",
          "size": [
           462
          ],
          "sizemode": "area",
          "sizeref": 8.955
         },
         "mode": "markers",
         "name": "1410.927 km",
         "showlegend": true,
         "subplot": "mapbox",
         "type": "scattermapbox"
        },
        {
         "customdata": [
          [
           "460 Ozier Road Pinson, Tennessee, 38366 United States",
           178
          ]
         ],
         "hovertemplate": "<b>%{hovertext}</b><br><br>Distance=1413.085 km<br>Popolarity=%{marker.size}<br>placeAlt=%{lat}<br>placeLong=%{lon}<br>placeAddress=%{customdata[0]}<br>numPeopleVisited=%{customdata[1]}<extra></extra>",
         "hovertext": [
          "Pinson Mounds State Archeological Park"
         ],
         "lat": [
          35.504
         ],
         "legendgroup": "1413.085 km",
         "lon": [
          -88.6908
         ],
         "marker": {
          "color": "#EF553B",
          "size": [
           408.5
          ],
          "sizemode": "area",
          "sizeref": 8.955
         },
         "mode": "markers",
         "name": "1413.085 km",
         "showlegend": true,
         "subplot": "mapbox",
         "type": "scattermapbox"
        },
        {
         "customdata": [
          [
           "Hamburg Trail St. Charles, Missouri, 63304 United States",
           232
          ]
         ],
         "hovertemplate": "<b>%{hovertext}</b><br><br>Distance=1451.881 km<br>Popolarity=%{marker.size}<br>placeAlt=%{lat}<br>placeLong=%{lon}<br>placeAddress=%{customdata[0]}<br>numPeopleVisited=%{customdata[1]}<extra></extra>",
         "hovertext": [
          "Weldon Spring Disposal Site"
         ],
         "lat": [
          38.6979
         ],
         "legendgroup": "1451.881 km",
         "lon": [
          -90.7284
         ],
         "marker": {
          "color": "#00cc96",
          "size": [
           377.5
          ],
          "sizemode": "area",
          "sizeref": 8.955
         },
         "mode": "markers",
         "name": "1451.881 km",
         "showlegend": true,
         "subplot": "mapbox",
         "type": "scattermapbox"
        },
        {
         "customdata": [
          [
           "308 Pine Street Titusville, Florida United States",
           319
          ]
         ],
         "hovertemplate": "<b>%{hovertext}</b><br><br>Distance=1483.988 km<br>Popolarity=%{marker.size}<br>placeAlt=%{lat}<br>placeLong=%{lon}<br>placeAddress=%{customdata[0]}<br>numPeopleVisited=%{customdata[1]}<extra></extra>",
         "hovertext": [
          "American Space Museum"
         ],
         "lat": [
          28.6105
         ],
         "legendgroup": "1483.988 km",
         "lon": [
          -80.8087
         ],
         "marker": {
          "color": "#ab63fa",
          "size": [
           451
          ],
          "sizemode": "area",
          "sizeref": 8.955
         },
         "mode": "markers",
         "name": "1483.988 km",
         "showlegend": true,
         "subplot": "mapbox",
         "type": "scattermapbox"
        },
        {
         "customdata": [
          [
           "634 Mound Park Moundville, Alabama, 35474 United States",
           391
          ]
         ],
         "hovertemplate": "<b>%{hovertext}</b><br><br>Distance=1487.295 km<br>Popolarity=%{marker.size}<br>placeAlt=%{lat}<br>placeLong=%{lon}<br>placeAddress=%{customdata[0]}<br>numPeopleVisited=%{customdata[1]}<extra></extra>",
         "hovertext": [
          "Moundville Archaeological Site"
         ],
         "lat": [
          33.0027
         ],
         "legendgroup": "1487.295 km",
         "lon": [
          -87.628
         ],
         "marker": {
          "color": "#FFA15A",
          "size": [
           468.5
          ],
          "sizemode": "area",
          "sizeref": 8.955
         },
         "mode": "markers",
         "name": "1487.295 km",
         "showlegend": true,
         "subplot": "mapbox",
         "type": "scattermapbox"
        },
        {
         "customdata": [
          [
           "761 General Hutchison Pkwy Longwood, Florida, 32750 United States",
           342
          ]
         ],
         "hovertemplate": "<b>%{hovertext}</b><br><br>Distance=1493.502 km<br>Popolarity=%{marker.size}<br>placeAlt=%{lat}<br>placeLong=%{lon}<br>placeAddress=%{customdata[0]}<br>numPeopleVisited=%{customdata[1]}<extra></extra>",
         "hovertext": [
          "The Senator"
         ],
         "lat": [
          28.7208
         ],
         "legendgroup": "1493.502 km",
         "lon": [
          -81.3313
         ],
         "marker": {
          "color": "#19d3f3",
          "size": [
           469.5
          ],
          "sizemode": "area",
          "sizeref": 8.955
         },
         "mode": "markers",
         "name": "1493.502 km",
         "showlegend": true,
         "subplot": "mapbox",
         "type": "scattermapbox"
        },
        {
         "customdata": [
          [
           "8441 International Dr. Suite 250 Orlando, Florida United States",
           214
          ]
         ],
         "hovertemplate": "<b>%{hovertext}</b><br><br>Distance=1527.147 km<br>Popolarity=%{marker.size}<br>placeAlt=%{lat}<br>placeLong=%{lon}<br>placeAddress=%{customdata[0]}<br>numPeopleVisited=%{customdata[1]}<extra></extra>",
         "hovertext": [
          "Skeletons: Museum of Osteology"
         ],
         "lat": [
          28.4426
         ],
         "legendgroup": "1527.147 km",
         "lon": [
          -81.4691
         ],
         "marker": {
          "color": "#FF6692",
          "size": [
           598
          ],
          "sizemode": "area",
          "sizeref": 8.955
         },
         "mode": "markers",
         "name": "1527.147 km",
         "showlegend": true,
         "subplot": "mapbox",
         "type": "scattermapbox"
        },
        {
         "customdata": [
          [
           "14901 S Orange Blossom Trail Orlando, Florida United States",
           171
          ]
         ],
         "hovertemplate": "<b>%{hovertext}</b><br><br>Distance=1534.103 km<br>Popolarity=%{marker.size}<br>placeAlt=%{lat}<br>placeLong=%{lon}<br>placeAddress=%{customdata[0]}<br>numPeopleVisited=%{customdata[1]}<extra></extra>",
         "hovertext": [
          "Tupperware Confidence Center"
         ],
         "lat": [
          28.3467
         ],
         "legendgroup": "1534.103 km",
         "lon": [
          -81.4022
         ],
         "marker": {
          "color": "#B6E880",
          "size": [
           389
          ],
          "sizemode": "area",
          "sizeref": 8.955
         },
         "mode": "markers",
         "name": "1534.103 km",
         "showlegend": true,
         "subplot": "mapbox",
         "type": "scattermapbox"
        },
        {
         "customdata": [
          [
           "Stax Museum of American Soul Music 926 E McLemore Avenue Memphis, Tennessee, 38106 United States",
           318
          ]
         ],
         "hovertemplate": "<b>%{hovertext}</b><br><br>Distance=1540.703 km<br>Popolarity=%{marker.size}<br>placeAlt=%{lat}<br>placeLong=%{lon}<br>placeAddress=%{customdata[0]}<br>numPeopleVisited=%{customdata[1]}<extra></extra>",
         "hovertext": [
          "Isaac Hayes's Gold-Plated Cadillac"
         ],
         "lat": [
          35.1156
         ],
         "legendgroup": "1540.703 km",
         "lon": [
          -90.0313
         ],
         "marker": {
          "color": "#FF97FF",
          "size": [
           398
          ],
          "sizemode": "area",
          "sizeref": 8.955
         },
         "mode": "markers",
         "name": "1540.703 km",
         "showlegend": true,
         "subplot": "mapbox",
         "type": "scattermapbox"
        },
        {
         "customdata": [
          [
           "510 Dodecanese Blvd Tarpon Springs, Florida, 34689 United States",
           639
          ]
         ],
         "hovertemplate": "<b>%{hovertext}</b><br><br>Distance=1611.435 km<br>Popolarity=%{marker.size}<br>placeAlt=%{lat}<br>placeLong=%{lon}<br>placeAddress=%{customdata[0]}<br>numPeopleVisited=%{customdata[1]}<extra></extra>",
         "hovertext": [
          "Spongeorama Sponge Factory"
         ],
         "lat": [
          28.1558
         ],
         "legendgroup": "1611.435 km",
         "lon": [
          -82.7588
         ],
         "marker": {
          "color": "#FECB52",
          "size": [
           576
          ],
          "sizemode": "area",
          "sizeref": 8.955
         },
         "mode": "markers",
         "name": "1611.435 km",
         "showlegend": true,
         "subplot": "mapbox",
         "type": "scattermapbox"
        },
        {
         "customdata": [
          [
           "120 W Kellogg Boulevard Saint Paul, Minnesota, 55102 United States",
           373
          ]
         ],
         "hovertemplate": "<b>%{hovertext}</b><br><br>Distance=1626.305 km<br>Popolarity=%{marker.size}<br>placeAlt=%{lat}<br>placeLong=%{lon}<br>placeAddress=%{customdata[0]}<br>numPeopleVisited=%{customdata[1]}<extra></extra>",
         "hovertext": [
          "Museum of Quackery and Medical Frauds"
         ],
         "lat": [
          44.9435
         ],
         "legendgroup": "1626.305 km",
         "lon": [
          -93.0957
         ],
         "marker": {
          "color": "#636efa",
          "size": [
           810.5
          ],
          "sizemode": "area",
          "sizeref": 8.955
         },
         "mode": "markers",
         "name": "1626.305 km",
         "showlegend": true,
         "subplot": "mapbox",
         "type": "scattermapbox"
        },
        {
         "customdata": [
          [
           "333 East River Parkway Minneapolis, Minnesota, 55455 United States",
           896
          ]
         ],
         "hovertemplate": "<b>%{hovertext}</b><br><br>Distance=1637.859 km<br>Popolarity=%{marker.size}<br>placeAlt=%{lat}<br>placeLong=%{lon}<br>placeAddress=%{customdata[0]}<br>numPeopleVisited=%{customdata[1]}<extra></extra>",
         "hovertext": [
          "Frederick R. Weisman Art Museum"
         ],
         "lat": [
          44.9718
         ],
         "legendgroup": "1637.859 km",
         "lon": [
          -93.2374
         ],
         "marker": {
          "color": "#EF553B",
          "size": [
           1005.5
          ],
          "sizemode": "area",
          "sizeref": 8.955
         },
         "mode": "markers",
         "name": "1637.859 km",
         "showlegend": true,
         "subplot": "mapbox",
         "type": "scattermapbox"
        },
        {
         "customdata": [
          [
           "18 N Oak Ave Lake Placid, Florida United States",
           182
          ]
         ],
         "hovertemplate": "<b>%{hovertext}</b><br><br>Distance=1639.289 km<br>Popolarity=%{marker.size}<br>placeAlt=%{lat}<br>placeLong=%{lon}<br>placeAddress=%{customdata[0]}<br>numPeopleVisited=%{customdata[1]}<extra></extra>",
         "hovertext": [
          "Lake Placid Murals"
         ],
         "lat": [
          27.2977
         ],
         "legendgroup": "1639.289 km",
         "lon": [
          -81.3643
         ],
         "marker": {
          "color": "#00cc96",
          "size": [
           323
          ],
          "sizemode": "area",
          "sizeref": 8.955
         },
         "mode": "markers",
         "name": "1639.289 km",
         "showlegend": true,
         "subplot": "mapbox",
         "type": "scattermapbox"
        },
        {
         "customdata": [
          [
           "51 Main Ave S Britt, Iowa, 50423 United States",
           110
          ]
         ],
         "hovertemplate": "<b>%{hovertext}</b><br><br>Distance=1660.909 km<br>Popolarity=%{marker.size}<br>placeAlt=%{lat}<br>placeLong=%{lon}<br>placeAddress=%{customdata[0]}<br>numPeopleVisited=%{customdata[1]}<extra></extra>",
         "hovertext": [
          "The Hobo Museum"
         ],
         "lat": [
          43.0964
         ],
         "legendgroup": "1660.909 km",
         "lon": [
          -93.8014
         ],
         "marker": {
          "color": "#ab63fa",
          "size": [
           362.5
          ],
          "sizemode": "area",
          "sizeref": 8.955
         },
         "mode": "markers",
         "name": "1660.909 km",
         "showlegend": true,
         "subplot": "mapbox",
         "type": "scattermapbox"
        },
        {
         "customdata": [
          [
           "500 W Sunshine St Springfield, Missouri United States",
           362
          ]
         ],
         "hovertemplate": "<b>%{hovertext}</b><br><br>Distance=1716.774 km<br>Popolarity=%{marker.size}<br>placeAlt=%{lat}<br>placeLong=%{lon}<br>placeAddress=%{customdata[0]}<br>numPeopleVisited=%{customdata[1]}<extra></extra>",
         "hovertext": [
          "Wonders of Wildlife Museum"
         ],
         "lat": [
          37.1815
         ],
         "legendgroup": "1716.774 km",
         "lon": [
          -93.2964
         ],
         "marker": {
          "color": "#FFA15A",
          "size": [
           509
          ],
          "sizemode": "area",
          "sizeref": 8.955
         },
         "mode": "markers",
         "name": "1716.774 km",
         "showlegend": true,
         "subplot": "mapbox",
         "type": "scattermapbox"
        },
        {
         "customdata": [
          [
           "1001 Washington Avenue Miami Beach, Florida, 33139 United States",
           335
          ]
         ],
         "hovertemplate": "<b>%{hovertext}</b><br><br>Distance=1755.379 km<br>Popolarity=%{marker.size}<br>placeAlt=%{lat}<br>placeLong=%{lon}<br>placeAddress=%{customdata[0]}<br>numPeopleVisited=%{customdata[1]}<extra></extra>",
         "hovertext": [
          "The Wolfsonian-FIU"
         ],
         "lat": [
          25.781
         ],
         "legendgroup": "1755.379 km",
         "lon": [
          -80.1324
         ],
         "marker": {
          "color": "#19d3f3",
          "size": [
           593
          ],
          "sizemode": "area",
          "sizeref": 8.955
         },
         "mode": "markers",
         "name": "1755.379 km",
         "showlegend": true,
         "subplot": "mapbox",
         "type": "scattermapbox"
        },
        {
         "customdata": [
          [
           "401 Brickell Avenue Miami, Florida, 33131 United States",
           310
          ]
         ],
         "hovertemplate": "<b>%{hovertext}</b><br><br>Distance=1758.338 km<br>Popolarity=%{marker.size}<br>placeAlt=%{lat}<br>placeLong=%{lon}<br>placeAddress=%{customdata[0]}<br>numPeopleVisited=%{customdata[1]}<extra></extra>",
         "hovertext": [
          "Miami Circle"
         ],
         "lat": [
          25.7694
         ],
         "legendgroup": "1758.338 km",
         "lon": [
          -80.1899
         ],
         "marker": {
          "color": "#FF6692",
          "size": [
           601.5
          ],
          "sizemode": "area",
          "sizeref": 8.955
         },
         "mode": "markers",
         "name": "1758.338 km",
         "showlegend": true,
         "subplot": "mapbox",
         "type": "scattermapbox"
        },
        {
         "customdata": [
          [
           "400 Grand Blvd. Kansas City, Missouri United States",
           837
          ]
         ],
         "hovertemplate": "<b>%{hovertext}</b><br><br>Distance=1766.599 km<br>Popolarity=%{marker.size}<br>placeAlt=%{lat}<br>placeLong=%{lon}<br>placeAddress=%{customdata[0]}<br>numPeopleVisited=%{customdata[1]}<extra></extra>",
         "hovertext": [
          "Treasures of the Steamboat Arabia"
         ],
         "lat": [
          39.1094
         ],
         "legendgroup": "1766.599 km",
         "lon": [
          -94.5815
         ],
         "marker": {
          "color": "#B6E880",
          "size": [
           739
          ],
          "sizemode": "area",
          "sizeref": 8.955
         },
         "mode": "markers",
         "name": "1766.599 km",
         "showlegend": true,
         "subplot": "mapbox",
         "type": "scattermapbox"
        },
        {
         "customdata": [
          [
           "4525 Oak St. Kansas City, Missouri, 64111 United States",
           1503
          ]
         ],
         "hovertemplate": "<b>%{hovertext}</b><br><br>Distance=1768.116 km<br>Popolarity=%{marker.size}<br>placeAlt=%{lat}<br>placeLong=%{lon}<br>placeAddress=%{customdata[0]}<br>numPeopleVisited=%{customdata[1]}<extra></extra>",
         "hovertext": [
          "World's Largest Shuttlecocks"
         ],
         "lat": [
          39.0451
         ],
         "legendgroup": "1768.116 km",
         "lon": [
          -94.581
         ],
         "marker": {
          "color": "#FF97FF",
          "size": [
           1069
          ],
          "sizemode": "area",
          "sizeref": 8.955
         },
         "mode": "markers",
         "name": "1768.116 km",
         "showlegend": true,
         "subplot": "mapbox",
         "type": "scattermapbox"
        },
        {
         "customdata": [
          [
           "3408 Frederick Ave St. Joseph, Missouri, 64506 United States",
           386
          ]
         ],
         "hovertemplate": "<b>%{hovertext}</b><br><br>Distance=1771.676 km<br>Popolarity=%{marker.size}<br>placeAlt=%{lat}<br>placeLong=%{lon}<br>placeAddress=%{customdata[0]}<br>numPeopleVisited=%{customdata[1]}<extra></extra>",
         "hovertext": [
          "Glore Psychiatric Museum"
         ],
         "lat": [
          39.7769
         ],
         "legendgroup": "1771.676 km",
         "lon": [
          -94.8147
         ],
         "marker": {
          "color": "#FECB52",
          "size": [
           793
          ],
          "sizemode": "area",
          "sizeref": 8.955
         },
         "mode": "markers",
         "name": "1771.676 km",
         "showlegend": true,
         "subplot": "mapbox",
         "type": "scattermapbox"
        },
        {
         "customdata": [
          [
           "1202 Penn St St. Joseph, Missouri, 64503 United States",
           330
          ]
         ],
         "hovertemplate": "<b>%{hovertext}</b><br><br>Distance=1774.657 km<br>Popolarity=%{marker.size}<br>placeAlt=%{lat}<br>placeLong=%{lon}<br>placeAddress=%{customdata[0]}<br>numPeopleVisited=%{customdata[1]}<extra></extra>",
         "hovertext": [
          "Jesse James Home Museum"
         ],
         "lat": [
          39.7558
         ],
         "legendgroup": "1774.657 km",
         "lon": [
          -94.8451
         ],
         "marker": {
          "color": "#636efa",
          "size": [
           505.5
          ],
          "sizemode": "area",
          "sizeref": 8.955
         },
         "mode": "markers",
         "name": "1774.657 km",
         "showlegend": true,
         "subplot": "mapbox",
         "type": "scattermapbox"
        },
        {
         "customdata": [
          [
           "817 Central Ave Hot Springs, Arkansas, 71901 United States",
           130
          ]
         ],
         "hovertemplate": "<b>%{hovertext}</b><br><br>Distance=1816.077 km<br>Popolarity=%{marker.size}<br>placeAlt=%{lat}<br>placeLong=%{lon}<br>placeAddress=%{customdata[0]}<br>numPeopleVisited=%{customdata[1]}<extra></extra>",
         "hovertext": [
          "Maxwell Blade’s Odditorium and Curiosities Museum"
         ],
         "lat": [
          34.5087
         ],
         "legendgroup": "1816.077 km",
         "lon": [
          -93.0539
         ],
         "marker": {
          "color": "#EF553B",
          "size": [
           479
          ],
          "sizemode": "area",
          "sizeref": 8.955
         },
         "mode": "markers",
         "name": "1816.077 km",
         "showlegend": true,
         "subplot": "mapbox",
         "type": "scattermapbox"
        },
        {
         "customdata": [
          [
           "504 S Schifferdecker Ave Joplin, Missouri United States",
           114
          ]
         ],
         "hovertemplate": "<b>%{hovertext}</b><br><br>Distance=1825.345 km<br>Popolarity=%{marker.size}<br>placeAlt=%{lat}<br>placeLong=%{lon}<br>placeAddress=%{customdata[0]}<br>numPeopleVisited=%{customdata[1]}<extra></extra>",
         "hovertext": [
          "National Cookie Cutter Historical Museum"
         ],
         "lat": [
          37.0873
         ],
         "legendgroup": "1825.345 km",
         "lon": [
          -94.5496
         ],
         "marker": {
          "color": "#00cc96",
          "size": [
           295
          ],
          "sizemode": "area",
          "sizeref": 8.955
         },
         "mode": "markers",
         "name": "1825.345 km",
         "showlegend": true,
         "subplot": "mapbox",
         "type": "scattermapbox"
        },
        {
         "customdata": [
          [
           "2047 SW Topeka Blvd Topeka, Kansas United States",
           132
          ]
         ],
         "hovertemplate": "<b>%{hovertext}</b><br><br>Distance=1861.576 km<br>Popolarity=%{marker.size}<br>placeAlt=%{lat}<br>placeLong=%{lon}<br>placeAddress=%{customdata[0]}<br>numPeopleVisited=%{customdata[1]}<extra></extra>",
         "hovertext": [
          "Evel Knievel Museum"
         ],
         "lat": [
          39.0302
         ],
         "legendgroup": "1861.576 km",
         "lon": [
          -95.6835
         ],
         "marker": {
          "color": "#ab63fa",
          "size": [
           286
          ],
          "sizemode": "area",
          "sizeref": 8.955
         },
         "mode": "markers",
         "name": "1861.576 km",
         "showlegend": true,
         "subplot": "mapbox",
         "type": "scattermapbox"
        },
        {
         "customdata": [
          [
           "823 Royal Street New Orleans, Louisiana, 70116 United States",
           338
          ]
         ],
         "hovertemplate": "<b>%{hovertext}</b><br><br>Distance=1884.409 km<br>Popolarity=%{marker.size}<br>placeAlt=%{lat}<br>placeLong=%{lon}<br>placeAddress=%{customdata[0]}<br>numPeopleVisited=%{customdata[1]}<extra></extra>",
         "hovertext": [
          "The Absinthe Museum"
         ],
         "lat": [
          29.9593
         ],
         "legendgroup": "1884.409 km",
         "lon": [
          -90.0641
         ],
         "marker": {
          "color": "#FFA15A",
          "size": [
           773.5
          ],
          "sizemode": "area",
          "sizeref": 8.955
         },
         "mode": "markers",
         "name": "1884.409 km",
         "showlegend": true,
         "subplot": "mapbox",
         "type": "scattermapbox"
        },
        {
         "customdata": [
          [
           "945 Magazine Street New Orleans, Louisiana, 70130 United States",
           1387
          ]
         ],
         "hovertemplate": "<b>%{hovertext}</b><br><br>Distance=1886.098 km<br>Popolarity=%{marker.size}<br>placeAlt=%{lat}<br>placeLong=%{lon}<br>placeAddress=%{customdata[0]}<br>numPeopleVisited=%{customdata[1]}<extra></extra>",
         "hovertext": [
          "National World War II Museum"
         ],
         "lat": [
          29.943
         ],
         "legendgroup": "1886.098 km",
         "lon": [
          -90.0704
         ],
         "marker": {
          "color": "#19d3f3",
          "size": [
           1198.5
          ],
          "sizemode": "area",
          "sizeref": 8.955
         },
         "mode": "markers",
         "name": "1886.098 km",
         "showlegend": true,
         "subplot": "mapbox",
         "type": "scattermapbox"
        },
        {
         "customdata": [
          [
           "929 Camp Street New Orleans, Louisiana, 70130 United States",
           298
          ]
         ],
         "hovertemplate": "<b>%{hovertext}</b><br><br>Distance=1886.139 km<br>Popolarity=%{marker.size}<br>placeAlt=%{lat}<br>placeLong=%{lon}<br>placeAddress=%{customdata[0]}<br>numPeopleVisited=%{customdata[1]}<extra></extra>",
         "hovertext": [
          "Louisiana’s Civil War Museum at Confederate Memorial Hall"
         ],
         "lat": [
          29.9432
         ],
         "legendgroup": "1886.139 km",
         "lon": [
          -90.0712
         ],
         "marker": {
          "color": "#FF6692",
          "size": [
           528.5
          ],
          "sizemode": "area",
          "sizeref": 8.955
         },
         "mode": "markers",
         "name": "1886.139 km",
         "showlegend": true,
         "subplot": "mapbox",
         "type": "scattermapbox"
        },
        {
         "customdata": [
          [
           "1504 Oretha Castle Haley Blvd Suite 169 New Orleans, Louisiana, 70113 United States",
           299
          ]
         ],
         "hovertemplate": "<b>%{hovertext}</b><br><br>Distance=1886.873 km<br>Popolarity=%{marker.size}<br>placeAlt=%{lat}<br>placeLong=%{lon}<br>placeAddress=%{customdata[0]}<br>numPeopleVisited=%{customdata[1]}<extra></extra>",
         "hovertext": [
          "Museum of the American Cocktail"
         ],
         "lat": [
          29.9408
         ],
         "legendgroup": "1886.873 km",
         "lon": [
          -90.0791
         ],
         "marker": {
          "color": "#B6E880",
          "size": [
           810.5
          ],
          "sizemode": "area",
          "sizeref": 8.955
         },
         "mode": "markers",
         "name": "1886.873 km",
         "showlegend": true,
         "subplot": "mapbox",
         "type": "scattermapbox"
        },
        {
         "customdata": [
          [
           "2727 S Rockford Rd Tulsa, Oklahoma United States",
           445
          ]
         ],
         "hovertemplate": "<b>%{hovertext}</b><br><br>Distance=1981.784 km<br>Popolarity=%{marker.size}<br>placeAlt=%{lat}<br>placeLong=%{lon}<br>placeAddress=%{customdata[0]}<br>numPeopleVisited=%{customdata[1]}<extra></extra>",
         "hovertext": [
          "Philbrook Museum of Art"
         ],
         "lat": [
          36.1242
         ],
         "legendgroup": "1981.784 km",
         "lon": [
          -95.9701
         ],
         "marker": {
          "color": "#FF97FF",
          "size": [
           495.5
          ],
          "sizemode": "area",
          "sizeref": 8.955
         },
         "mode": "markers",
         "name": "1981.784 km",
         "showlegend": true,
         "subplot": "mapbox",
         "type": "scattermapbox"
        },
        {
         "customdata": [
          [
           "2300 NE 63rd St Oklahoma City, Oklahoma, 73111 United States",
           138
          ]
         ],
         "hovertemplate": "<b>%{hovertext}</b><br><br>Distance=2131.95 km<br>Popolarity=%{marker.size}<br>placeAlt=%{lat}<br>placeLong=%{lon}<br>placeAddress=%{customdata[0]}<br>numPeopleVisited=%{customdata[1]}<extra></extra>",
         "hovertext": [
          "The American Pigeon Museum "
         ],
         "lat": [
          35.5361
         ],
         "legendgroup": "2131.95 km",
         "lon": [
          -97.4703
         ],
         "marker": {
          "color": "#FECB52",
          "size": [
           300
          ],
          "sizemode": "area",
          "sizeref": 8.955
         },
         "mode": "markers",
         "name": "2131.95 km",
         "showlegend": true,
         "subplot": "mapbox",
         "type": "scattermapbox"
        },
        {
         "customdata": [
          [
           "1700 North East 63rd Street Oklahoma City, Oklahoma, 73111 United States",
           588
          ]
         ],
         "hovertemplate": "<b>%{hovertext}</b><br><br>Distance=2133.053 km<br>Popolarity=%{marker.size}<br>placeAlt=%{lat}<br>placeLong=%{lon}<br>placeAddress=%{customdata[0]}<br>numPeopleVisited=%{customdata[1]}<extra></extra>",
         "hovertext": [
          "National Cowboy and Western Heritage Museum"
         ],
         "lat": [
          35.5357
         ],
         "legendgroup": "2133.053 km",
         "lon": [
          -97.4833
         ],
         "marker": {
          "color": "#636efa",
          "size": [
           504.5
          ],
          "sizemode": "area",
          "sizeref": 8.955
         },
         "mode": "markers",
         "name": "2133.053 km",
         "showlegend": true,
         "subplot": "mapbox",
         "type": "scattermapbox"
        },
        {
         "customdata": [
          [
           "9 East Sheridan Avenue Oklahoma City, Oklahoma, 73104 United States",
           187
          ]
         ],
         "hovertemplate": "<b>%{hovertext}</b><br><br>Distance=2138.384 km<br>Popolarity=%{marker.size}<br>placeAlt=%{lat}<br>placeLong=%{lon}<br>placeAddress=%{customdata[0]}<br>numPeopleVisited=%{customdata[1]}<extra></extra>",
         "hovertext": [
          "American Banjo Museum"
         ],
         "lat": [
          35.4668
         ],
         "legendgroup": "2138.384 km",
         "lon": [
          -97.5115
         ],
         "marker": {
          "color": "#EF553B",
          "size": [
           325
          ],
          "sizemode": "area",
          "sizeref": 8.955
         },
         "mode": "markers",
         "name": "2138.384 km",
         "showlegend": true,
         "subplot": "mapbox",
         "type": "scattermapbox"
        },
        {
         "customdata": [
          [
           "4300 Amelia Earhart Lane Oklahoma City, Oklahoma, 73159 United States",
           101
          ]
         ],
         "hovertemplate": "<b>%{hovertext}</b><br><br>Distance=2148.361 km<br>Popolarity=%{marker.size}<br>placeAlt=%{lat}<br>placeLong=%{lon}<br>placeAddress=%{customdata[0]}<br>numPeopleVisited=%{customdata[1]}<extra></extra>",
         "hovertext": [
          "99s Museum of Women Pilots"
         ],
         "lat": [
          35.4062
         ],
         "legendgroup": "2148.361 km",
         "lon": [
          -97.5994
         ],
         "marker": {
          "color": "#00cc96",
          "size": [
           286
          ],
          "sizemode": "area",
          "sizeref": 8.955
         },
         "mode": "markers",
         "name": "2148.361 km",
         "showlegend": true,
         "subplot": "mapbox",
         "type": "scattermapbox"
        },
        {
         "customdata": [
          [
           "1720 Gendy St. Fort Worth, Texas, 76107 United States",
           393
          ]
         ],
         "hovertemplate": "<b>%{hovertext}</b><br><br>Distance=2261.143 km<br>Popolarity=%{marker.size}<br>placeAlt=%{lat}<br>placeLong=%{lon}<br>placeAddress=%{customdata[0]}<br>numPeopleVisited=%{customdata[1]}<extra></extra>",
         "hovertext": [
          "Cowgirl Hall of Fame"
         ],
         "lat": [
          32.743
         ],
         "legendgroup": "2261.143 km",
         "lon": [
          -97.3685
         ],
         "marker": {
          "color": "#ab63fa",
          "size": [
           497.5
          ],
          "sizemode": "area",
          "sizeref": 8.955
         },
         "mode": "markers",
         "name": "2261.143 km",
         "showlegend": true,
         "subplot": "mapbox",
         "type": "scattermapbox"
        },
        {
         "customdata": [
          [
           "300 S. 5th St. Waco, Texas, 76701 United States",
           817
          ]
         ],
         "hovertemplate": "<b>%{hovertext}</b><br><br>Distance=2310.203 km<br>Popolarity=%{marker.size}<br>placeAlt=%{lat}<br>placeLong=%{lon}<br>placeAddress=%{customdata[0]}<br>numPeopleVisited=%{customdata[1]}<extra></extra>",
         "hovertext": [
          "Dr Pepper Museum"
         ],
         "lat": [
          31.5551
         ],
         "legendgroup": "2310.203 km",
         "lon": [
          -97.1294
         ],
         "marker": {
          "color": "#FFA15A",
          "size": [
           1012
          ],
          "sizemode": "area",
          "sizeref": 8.955
         },
         "mode": "markers",
         "name": "2310.203 km",
         "showlegend": true,
         "subplot": "mapbox",
         "type": "scattermapbox"
        },
        {
         "customdata": [
          [
           "Museum of the Weird 412 E 6th St. Austin, Texas, 78701 United States",
           1019
          ]
         ],
         "hovertemplate": "<b>%{hovertext}</b><br><br>Distance=2438.101 km<br>Popolarity=%{marker.size}<br>placeAlt=%{lat}<br>placeLong=%{lon}<br>placeAddress=%{customdata[0]}<br>numPeopleVisited=%{customdata[1]}<extra></extra>",
         "hovertext": [
          "Museum of the Weird"
         ],
         "lat": [
          30.267
         ],
         "legendgroup": "2438.101 km",
         "lon": [
          -97.7387
         ],
         "marker": {
          "color": "#19d3f3",
          "size": [
           1995.5
          ],
          "sizemode": "area",
          "sizeref": 8.955
         },
         "mode": "markers",
         "name": "2438.101 km",
         "showlegend": true,
         "subplot": "mapbox",
         "type": "scattermapbox"
        },
        {
         "customdata": [
          [
           "1602 Fortview Austin, Texas, 78704 United States",
           1468
          ]
         ],
         "hovertemplate": "<b>%{hovertext}</b><br><br>Distance=2444.004 km<br>Popolarity=%{marker.size}<br>placeAlt=%{lat}<br>placeLong=%{lon}<br>placeAddress=%{customdata[0]}<br>numPeopleVisited=%{customdata[1]}<extra></extra>",
         "hovertext": [
          "Uncommon Objects"
         ],
         "lat": [
          30.2291
         ],
         "legendgroup": "2444.004 km",
         "lon": [
          -97.783
         ],
         "marker": {
          "color": "#FF6692",
          "size": [
           1859.5
          ],
          "sizemode": "area",
          "sizeref": 8.955
         },
         "mode": "markers",
         "name": "2444.004 km",
         "showlegend": true,
         "subplot": "mapbox",
         "type": "scattermapbox"
        },
        {
         "customdata": [
          [
           "Chimney Rock National Historic Site Bayard, Nebraska, 69334 United States",
           529
          ]
         ],
         "hovertemplate": "<b>%{hovertext}</b><br><br>Distance=2453.006 km<br>Popolarity=%{marker.size}<br>placeAlt=%{lat}<br>placeLong=%{lon}<br>placeAddress=%{customdata[0]}<br>numPeopleVisited=%{customdata[1]}<extra></extra>",
         "hovertext": [
          "Chimney Rock"
         ],
         "lat": [
          41.7029
         ],
         "legendgroup": "2453.006 km",
         "lon": [
          -103.3486
         ],
         "marker": {
          "color": "#B6E880",
          "size": [
           652
          ],
          "sizemode": "area",
          "sizeref": 8.955
         },
         "mode": "markers",
         "name": "2453.006 km",
         "showlegend": true,
         "subplot": "mapbox",
         "type": "scattermapbox"
        },
        {
         "customdata": [
          [
           "12151 Avenue of the Chiefs Custer, South Dakota, 57730 United States",
           2615
          ]
         ],
         "hovertemplate": "<b>%{hovertext}</b><br><br>Distance=2455.466 km<br>Popolarity=%{marker.size}<br>placeAlt=%{lat}<br>placeLong=%{lon}<br>placeAddress=%{customdata[0]}<br>numPeopleVisited=%{customdata[1]}<extra></extra>",
         "hovertext": [
          "Crazy Horse Memorial"
         ],
         "lat": [
          43.8368
         ],
         "legendgroup": "2455.466 km",
         "lon": [
          -103.6244
         ],
         "marker": {
          "color": "#FF97FF",
          "size": [
           2008
          ],
          "sizemode": "area",
          "sizeref": 8.955
         },
         "mode": "markers",
         "name": "2455.466 km",
         "showlegend": true,
         "subplot": "mapbox",
         "type": "scattermapbox"
        },
        {
         "customdata": [
          [
           "340 East Main Street Fredericksburg, Texas, 78624 United States",
           490
          ]
         ],
         "hovertemplate": "<b>%{hovertext}</b><br><br>Distance=2527.169 km<br>Popolarity=%{marker.size}<br>placeAlt=%{lat}<br>placeLong=%{lon}<br>placeAddress=%{customdata[0]}<br>numPeopleVisited=%{customdata[1]}<extra></extra>",
         "hovertext": [
          "National Museum of the Pacific War"
         ],
         "lat": [
          30.2727
         ],
         "legendgroup": "2527.169 km",
         "lon": [
          -98.8673
         ],
         "marker": {
          "color": "#FECB52",
          "size": [
           454.5
          ],
          "sizemode": "area",
          "sizeref": 8.955
         },
         "mode": "markers",
         "name": "2527.169 km",
         "showlegend": true,
         "subplot": "mapbox",
         "type": "scattermapbox"
        },
        {
         "customdata": [
          [
           "7400 San Pedro Ave San Antonio, Texas United States",
           814
          ]
         ],
         "hovertemplate": "<b>%{hovertext}</b><br><br>Distance=2545.956 km<br>Popolarity=%{marker.size}<br>placeAlt=%{lat}<br>placeLong=%{lon}<br>placeAddress=%{customdata[0]}<br>numPeopleVisited=%{customdata[1]}<extra></extra>",
         "hovertext": [
          "World's Largest Cowboy Boots "
         ],
         "lat": [
          29.518
         ],
         "legendgroup": "2545.956 km",
         "lon": [
          -98.4975
         ],
         "marker": {
          "color": "#636efa",
          "size": [
           926
          ],
          "sizemode": "area",
          "sizeref": 8.955
         },
         "mode": "markers",
         "name": "2545.956 km",
         "showlegend": true,
         "subplot": "mapbox",
         "type": "scattermapbox"
        },
        {
         "customdata": [
          [
           "345 Old Austin Rd San Antonio, Texas United States",
           137
          ]
         ],
         "hovertemplate": "<b>%{hovertext}</b><br><br>Distance=2546.726 km<br>Popolarity=%{marker.size}<br>placeAlt=%{lat}<br>placeLong=%{lon}<br>placeAddress=%{customdata[0]}<br>numPeopleVisited=%{customdata[1]}<extra></extra>",
         "hovertext": [
          "Old Time Wooden Nickel Company"
         ],
         "lat": [
          29.4565
         ],
         "legendgroup": "2546.726 km",
         "lon": [
          -98.4563
         ],
         "marker": {
          "color": "#EF553B",
          "size": [
           289
          ],
          "sizemode": "area",
          "sizeref": 8.955
         },
         "mode": "markers",
         "name": "2546.726 km",
         "showlegend": true,
         "subplot": "mapbox",
         "type": "scattermapbox"
        },
        {
         "customdata": [
          [
           "318 E. Houston Street San Antonio, Texas United States",
           747
          ]
         ],
         "hovertemplate": "<b>%{hovertext}</b><br><br>Distance=2551.268 km<br>Popolarity=%{marker.size}<br>placeAlt=%{lat}<br>placeLong=%{lon}<br>placeAddress=%{customdata[0]}<br>numPeopleVisited=%{customdata[1]}<extra></extra>",
         "hovertext": [
          "Buckhorn Saloon and Museum"
         ],
         "lat": [
          29.4262
         ],
         "legendgroup": "2551.268 km",
         "lon": [
          -98.489
         ],
         "marker": {
          "color": "#00cc96",
          "size": [
           830.5
          ],
          "sizemode": "area",
          "sizeref": 8.955
         },
         "mode": "markers",
         "name": "2551.268 km",
         "showlegend": true,
         "subplot": "mapbox",
         "type": "scattermapbox"
        },
        {
         "customdata": [
          [
           "210 W Market St San Antonio, Texas United States",
           216
          ]
         ],
         "hovertemplate": "<b>%{hovertext}</b><br><br>Distance=2551.468 km<br>Popolarity=%{marker.size}<br>placeAlt=%{lat}<br>placeLong=%{lon}<br>placeAddress=%{customdata[0]}<br>numPeopleVisited=%{customdata[1]}<extra></extra>",
         "hovertext": [
          "McNutt Sculpture Garden "
         ],
         "lat": [
          29.4229
         ],
         "legendgroup": "2551.468 km",
         "lon": [
          -98.4888
         ],
         "marker": {
          "color": "#ab63fa",
          "size": [
           425.5
          ],
          "sizemode": "area",
          "sizeref": 8.955
         },
         "mode": "markers",
         "name": "2551.468 km",
         "showlegend": true,
         "subplot": "mapbox",
         "type": "scattermapbox"
        },
        {
         "customdata": [
          [
           "Peña Blvd Denver, Colorado, 80249 United States",
           3511
          ]
         ],
         "hovertemplate": "<b>%{hovertext}</b><br><br>Distance=2598.926 km<br>Popolarity=%{marker.size}<br>placeAlt=%{lat}<br>placeLong=%{lon}<br>placeAddress=%{customdata[0]}<br>numPeopleVisited=%{customdata[1]}<extra></extra>",
         "hovertext": [
          "Blue Mustang"
         ],
         "lat": [
          39.8342
         ],
         "legendgroup": "2598.926 km",
         "lon": [
          -104.6759
         ],
         "marker": {
          "color": "#FFA15A",
          "size": [
           2347.5
          ],
          "sizemode": "area",
          "sizeref": 8.955
         },
         "mode": "markers",
         "name": "2598.926 km",
         "showlegend": true,
         "subplot": "mapbox",
         "type": "scattermapbox"
        },
        {
         "customdata": [
          [
           "1340 Pennsylvania Street Denver, Colorado United States",
           1056
          ]
         ],
         "hovertemplate": "<b>%{hovertext}</b><br><br>Distance=2626.74 km<br>Popolarity=%{marker.size}<br>placeAlt=%{lat}<br>placeLong=%{lon}<br>placeAddress=%{customdata[0]}<br>numPeopleVisited=%{customdata[1]}<extra></extra>",
         "hovertext": [
          "'Unsinkable' Molly Brown House"
         ],
         "lat": [
          39.7375
         ],
         "legendgroup": "2626.74 km",
         "lon": [
          -104.9808
         ],
         "marker": {
          "color": "#19d3f3",
          "size": [
           1176.5
          ],
          "sizemode": "area",
          "sizeref": 8.955
         },
         "mode": "markers",
         "name": "2626.74 km",
         "showlegend": true,
         "subplot": "mapbox",
         "type": "scattermapbox"
        },
        {
         "customdata": [
          [
           "1727 Tremont Place Denver, Colorado United States",
           324
          ]
         ],
         "hovertemplate": "<b>%{hovertext}</b><br><br>Distance=2627.177 km<br>Popolarity=%{marker.size}<br>placeAlt=%{lat}<br>placeLong=%{lon}<br>placeAddress=%{customdata[0]}<br>numPeopleVisited=%{customdata[1]}<extra></extra>",
         "hovertext": [
          "American Museum of Western Art"
         ],
         "lat": [
          39.7447
         ],
         "legendgroup": "2627.177 km",
         "lon": [
          -104.9881
         ],
         "marker": {
          "color": "#FF6692",
          "size": [
           565.5
          ],
          "sizemode": "area",
          "sizeref": 8.955
         },
         "mode": "markers",
         "name": "2627.177 km",
         "showlegend": true,
         "subplot": "mapbox",
         "type": "scattermapbox"
        },
        {
         "customdata": [
          [
           "1320 Grandview Ave Boulder, Colorado United States",
           101
          ]
         ],
         "hovertemplate": "<b>%{hovertext}</b><br><br>Distance=2644.91 km<br>Popolarity=%{marker.size}<br>placeAlt=%{lat}<br>placeLong=%{lon}<br>placeAddress=%{customdata[0]}<br>numPeopleVisited=%{customdata[1]}<extra></extra>",
         "hovertext": [
          "Media Archaeology Lab"
         ],
         "lat": [
          40.0113
         ],
         "legendgroup": "2644.91 km",
         "lon": [
          -105.2755
         ],
         "marker": {
          "color": "#B6E880",
          "size": [
           390
          ],
          "sizemode": "area",
          "sizeref": 8.955
         },
         "mode": "markers",
         "name": "2644.91 km",
         "showlegend": true,
         "subplot": "mapbox",
         "type": "scattermapbox"
        },
        {
         "customdata": [
          [
           "987 Lookout Mountain Road Golden, Colorado, 80401 United States",
           1256
          ]
         ],
         "hovertemplate": "<b>%{hovertext}</b><br><br>Distance=2648.41 km<br>Popolarity=%{marker.size}<br>placeAlt=%{lat}<br>placeLong=%{lon}<br>placeAddress=%{customdata[0]}<br>numPeopleVisited=%{customdata[1]}<extra></extra>",
         "hovertext": [
          "The Buffalo Bill Museum and Grave"
         ],
         "lat": [
          39.7333
         ],
         "legendgroup": "2648.41 km",
         "lon": [
          -105.2386
         ],
         "marker": {
          "color": "#FF97FF",
          "size": [
           1049
          ],
          "sizemode": "area",
          "sizeref": 8.955
         },
         "mode": "markers",
         "name": "2648.41 km",
         "showlegend": true,
         "subplot": "mapbox",
         "type": "scattermapbox"
        },
        {
         "customdata": [
          [
           "215 East De Vargas Street Santa Fe, New Mexico, 87501 United States",
           562
          ]
         ],
         "hovertemplate": "<b>%{hovertext}</b><br><br>Distance=2838.389 km<br>Popolarity=%{marker.size}<br>placeAlt=%{lat}<br>placeLong=%{lon}<br>placeAddress=%{customdata[0]}<br>numPeopleVisited=%{customdata[1]}<extra></extra>",
         "hovertext": [
          "De Vargas Street House"
         ],
         "lat": [
          35.6836
         ],
         "legendgroup": "2838.389 km",
         "lon": [
          -105.9374
         ],
         "marker": {
          "color": "#FECB52",
          "size": [
           488
          ],
          "sizemode": "area",
          "sizeref": 8.955
         },
         "mode": "markers",
         "name": "2838.389 km",
         "showlegend": true,
         "subplot": "mapbox",
         "type": "scattermapbox"
        },
        {
         "customdata": [
          [
           "121 Sandia Crest Road Sandia Park, New Mexico, 87047 United States",
           500
          ]
         ],
         "hovertemplate": "<b>%{hovertext}</b><br><br>Distance=2895.601 km<br>Popolarity=%{marker.size}<br>placeAlt=%{lat}<br>placeLong=%{lon}<br>placeAddress=%{customdata[0]}<br>numPeopleVisited=%{customdata[1]}<extra></extra>",
         "hovertext": [
          "TinkerTown"
         ],
         "lat": [
          35.1689
         ],
         "legendgroup": "2895.601 km",
         "lon": [
          -106.3659
         ],
         "marker": {
          "color": "#636efa",
          "size": [
           776
          ],
          "sizemode": "area",
          "sizeref": 8.955
         },
         "mode": "markers",
         "name": "2895.601 km",
         "showlegend": true,
         "subplot": "mapbox",
         "type": "scattermapbox"
        },
        {
         "customdata": [
          [
           "3501 Monte Vista Blvd NE Albuquerque, New Mexico, 87106 United States",
           275
          ]
         ],
         "hovertemplate": "<b>%{hovertext}</b><br><br>Distance=2919.443 km<br>Popolarity=%{marker.size}<br>placeAlt=%{lat}<br>placeLong=%{lon}<br>placeAddress=%{customdata[0]}<br>numPeopleVisited=%{customdata[1]}<extra></extra>",
         "hovertext": [
          "Bart Prince Residence and Studio"
         ],
         "lat": [
          35.0849
         ],
         "legendgroup": "2919.443 km",
         "lon": [
          -106.6067
         ],
         "marker": {
          "color": "#EF553B",
          "size": [
           381.5
          ],
          "sizemode": "area",
          "sizeref": 8.955
         },
         "mode": "markers",
         "name": "2919.443 km",
         "showlegend": true,
         "subplot": "mapbox",
         "type": "scattermapbox"
        },
        {
         "customdata": [
          [
           "3198 State Route 2001 Alamogordo, New Mexico, 88310 United States",
           408
          ]
         ],
         "hovertemplate": "<b>%{hovertext}</b><br><br>Distance=2960.305 km<br>Popolarity=%{marker.size}<br>placeAlt=%{lat}<br>placeLong=%{lon}<br>placeAddress=%{customdata[0]}<br>numPeopleVisited=%{customdata[1]}<extra></extra>",
         "hovertext": [
          "New Mexico Museum of Space History"
         ],
         "lat": [
          32.9216
         ],
         "legendgroup": "2960.305 km",
         "lon": [
          -105.9206
         ],
         "marker": {
          "color": "#00cc96",
          "size": [
           513
          ],
          "sizemode": "area",
          "sizeref": 8.955
         },
         "mode": "markers",
         "name": "2960.305 km",
         "showlegend": true,
         "subplot": "mapbox",
         "type": "scattermapbox"
        },
        {
         "customdata": [
          [
           "27501 CO-184 Mesa Verde Dolores, Colorado, 81323 United States",
           451
          ]
         ],
         "hovertemplate": "<b>%{hovertext}</b><br><br>Distance=2992.314 km<br>Popolarity=%{marker.size}<br>placeAlt=%{lat}<br>placeLong=%{lon}<br>placeAddress=%{customdata[0]}<br>numPeopleVisited=%{customdata[1]}<extra></extra>",
         "hovertext": [
          "Canyons of the Ancients"
         ],
         "lat": [
          37.4763
         ],
         "legendgroup": "2992.314 km",
         "lon": [
          -108.5459
         ],
         "marker": {
          "color": "#ab63fa",
          "size": [
           1502
          ],
          "sizemode": "area",
          "sizeref": 8.955
         },
         "mode": "markers",
         "name": "2992.314 km",
         "showlegend": true,
         "subplot": "mapbox",
         "type": "scattermapbox"
        },
        {
         "customdata": [
          [
           "2023 Stadium Dr Suite 1A Bozeman, Montana, 59715 United States",
           124
          ]
         ],
         "hovertemplate": "<b>%{hovertext}</b><br><br>Distance=3034.157 km<br>Popolarity=%{marker.size}<br>placeAlt=%{lat}<br>placeLong=%{lon}<br>placeAddress=%{customdata[0]}<br>numPeopleVisited=%{customdata[1]}<extra></extra>",
         "hovertext": [
          "American Computer Museum"
         ],
         "lat": [
          45.659
         ],
         "legendgroup": "3034.157 km",
         "lon": [
          -111.0548
         ],
         "marker": {
          "color": "#FFA15A",
          "size": [
           267
          ],
          "sizemode": "area",
          "sizeref": 8.955
         },
         "mode": "markers",
         "name": "3034.157 km",
         "showlegend": true,
         "subplot": "mapbox",
         "type": "scattermapbox"
        },
        {
         "customdata": [
          [
           "Truth or Consequences, New Mexico United States",
           863
          ]
         ],
         "hovertemplate": "<b>%{hovertext}</b><br><br>Distance=3062.138 km<br>Popolarity=%{marker.size}<br>placeAlt=%{lat}<br>placeLong=%{lon}<br>placeAddress=%{customdata[0]}<br>numPeopleVisited=%{customdata[1]}<extra></extra>",
         "hovertext": [
          "Truth or Consequences"
         ],
         "lat": [
          33.1284
         ],
         "legendgroup": "3062.138 km",
         "lon": [
          -107.2528
         ],
         "marker": {
          "color": "#19d3f3",
          "size": [
           886.5
          ],
          "sizemode": "area",
          "sizeref": 8.955
         },
         "mode": "markers",
         "name": "3062.138 km",
         "showlegend": true,
         "subplot": "mapbox",
         "type": "scattermapbox"
        },
        {
         "customdata": [
          [
           "Hopi Indian Reservation Second Mesa, Arizona United States",
           56
          ]
         ],
         "hovertemplate": "<b>%{hovertext}</b><br><br>Distance=3219.961 km<br>Popolarity=%{marker.size}<br>placeAlt=%{lat}<br>placeLong=%{lon}<br>placeAddress=%{customdata[0]}<br>numPeopleVisited=%{customdata[1]}<extra></extra>",
         "hovertext": [
          "Awat'ovi Ruins"
         ],
         "lat": [
          35.7833
         ],
         "legendgroup": "3219.961 km",
         "lon": [
          -110.5035
         ],
         "marker": {
          "color": "#FF6692",
          "size": [
           325
          ],
          "sizemode": "area",
          "sizeref": 8.955
         },
         "mode": "markers",
         "name": "3219.961 km",
         "showlegend": true,
         "subplot": "mapbox",
         "type": "scattermapbox"
        },
        {
         "customdata": [
          [
           "811 W. Hopi Dr.  Holbrook, Arizona, 86025 United States",
           822
          ]
         ],
         "hovertemplate": "<b>%{hovertext}</b><br><br>Distance=3227.906 km<br>Popolarity=%{marker.size}<br>placeAlt=%{lat}<br>placeLong=%{lon}<br>placeAddress=%{customdata[0]}<br>numPeopleVisited=%{customdata[1]}<extra></extra>",
         "hovertext": [
          "The Wigwam Village #6"
         ],
         "lat": [
          34.9027
         ],
         "legendgroup": "3227.906 km",
         "lon": [
          -110.1688
         ],
         "marker": {
          "color": "#B6E880",
          "size": [
           922.5
          ],
          "sizemode": "area",
          "sizeref": 8.955
         },
         "mode": "markers",
         "name": "3227.906 km",
         "showlegend": true,
         "subplot": "mapbox",
         "type": "scattermapbox"
        },
        {
         "customdata": [
          [
           "Rock Art Ranch Rd Winslow, Arizona United States",
           124
          ]
         ],
         "hovertemplate": "<b>%{hovertext}</b><br><br>Distance=3253.632 km<br>Popolarity=%{marker.size}<br>placeAlt=%{lat}<br>placeLong=%{lon}<br>placeAddress=%{customdata[0]}<br>numPeopleVisited=%{customdata[1]}<extra></extra>",
         "hovertext": [
          "Rock Art Ranch"
         ],
         "lat": [
          34.8748
         ],
         "legendgroup": "3253.632 km",
         "lon": [
          -110.4594
         ],
         "marker": {
          "color": "#FF97FF",
          "size": [
           627
          ],
          "sizemode": "area",
          "sizeref": 8.955
         },
         "mode": "markers",
         "name": "3253.632 km",
         "showlegend": true,
         "subplot": "mapbox",
         "type": "scattermapbox"
        },
        {
         "customdata": [
          [
           "36094 Memory Lane Polson, Montana United States",
           136
          ]
         ],
         "hovertemplate": "<b>%{hovertext}</b><br><br>Distance=3259.744 km<br>Popolarity=%{marker.size}<br>placeAlt=%{lat}<br>placeLong=%{lon}<br>placeAddress=%{customdata[0]}<br>numPeopleVisited=%{customdata[1]}<extra></extra>",
         "hovertext": [
          "Miracle of America Museum"
         ],
         "lat": [
          47.6807
         ],
         "legendgroup": "3259.744 km",
         "lon": [
          -114.116
         ],
         "marker": {
          "color": "#FECB52",
          "size": [
           369.5
          ],
          "sizemode": "area",
          "sizeref": 8.955
         },
         "mode": "markers",
         "name": "3259.744 km",
         "showlegend": true,
         "subplot": "mapbox",
         "type": "scattermapbox"
        },
        {
         "customdata": [
          [
           "55 W Main St Delta, Utah United States",
           117
          ]
         ],
         "hovertemplate": "<b>%{hovertext}</b><br><br>Distance=3270.664 km<br>Popolarity=%{marker.size}<br>placeAlt=%{lat}<br>placeLong=%{lon}<br>placeAddress=%{customdata[0]}<br>numPeopleVisited=%{customdata[1]}<extra></extra>",
         "hovertext": [
          "Topaz Museum"
         ],
         "lat": [
          39.3521
         ],
         "legendgroup": "3270.664 km",
         "lon": [
          -112.5762
         ],
         "marker": {
          "color": "#636efa",
          "size": [
           277.5
          ],
          "sizemode": "area",
          "sizeref": 8.955
         },
         "mode": "markers",
         "name": "3270.664 km",
         "showlegend": true,
         "subplot": "mapbox",
         "type": "scattermapbox"
        },
        {
         "customdata": [
          [
           "4581 US-89 Kanab, Utah, 84741 United States",
           125
          ]
         ],
         "hovertemplate": "<b>%{hovertext}</b><br><br>Distance=3342.756 km<br>Popolarity=%{marker.size}<br>placeAlt=%{lat}<br>placeLong=%{lon}<br>placeAddress=%{customdata[0]}<br>numPeopleVisited=%{customdata[1]}<extra></extra>",
         "hovertext": [
          "Moqui Cave"
         ],
         "lat": [
          37.1211
         ],
         "legendgroup": "3342.756 km",
         "lon": [
          -112.564
         ],
         "marker": {
          "color": "#EF553B",
          "size": [
           433.5
          ],
          "sizemode": "area",
          "sizeref": 8.955
         },
         "mode": "markers",
         "name": "3342.756 km",
         "showlegend": true,
         "subplot": "mapbox",
         "type": "scattermapbox"
        },
        {
         "customdata": [
          [
           "303 Blvd. Miguel de Cervantes Saavedra Mexico City, 11529 Mexico",
           518
          ]
         ],
         "hovertemplate": "<b>%{hovertext}</b><br><br>Distance=3366.367 km<br>Popolarity=%{marker.size}<br>placeAlt=%{lat}<br>placeLong=%{lon}<br>placeAddress=%{customdata[0]}<br>numPeopleVisited=%{customdata[1]}<extra></extra>",
         "hovertext": [
          "Soumaya Museum"
         ],
         "lat": [
          19.4406
         ],
         "legendgroup": "3366.367 km",
         "lon": [
          -99.2047
         ],
         "marker": {
          "color": "#00cc96",
          "size": [
           743
          ],
          "sizemode": "area",
          "sizeref": 8.955
         },
         "mode": "markers",
         "name": "3366.367 km",
         "showlegend": true,
         "subplot": "mapbox",
         "type": "scattermapbox"
        },
        {
         "customdata": [
          [
           "Rampa de acceso al Castillo de Chapultepec Mexico City, 11100 Mexico",
           893
          ]
         ],
         "hovertemplate": "<b>%{hovertext}</b><br><br>Distance=3366.545 km<br>Popolarity=%{marker.size}<br>placeAlt=%{lat}<br>placeLong=%{lon}<br>placeAddress=%{customdata[0]}<br>numPeopleVisited=%{customdata[1]}<extra></extra>",
         "hovertext": [
          "Chapultepec Castle"
         ],
         "lat": [
          19.4204
         ],
         "legendgroup": "3366.545 km",
         "lon": [
          -99.1819
         ],
         "marker": {
          "color": "#ab63fa",
          "size": [
           735.5
          ],
          "sizemode": "area",
          "sizeref": 8.955
         },
         "mode": "markers",
         "name": "3366.545 km",
         "showlegend": true,
         "subplot": "mapbox",
         "type": "scattermapbox"
        },
        {
         "customdata": [
          [
           "Banff Trading Post 101 Cave Ave. Banff, Alberta Canada",
           306
          ]
         ],
         "hovertemplate": "<b>%{hovertext}</b><br><br>Distance=3373.096 km<br>Popolarity=%{marker.size}<br>placeAlt=%{lat}<br>placeLong=%{lon}<br>placeAddress=%{customdata[0]}<br>numPeopleVisited=%{customdata[1]}<extra></extra>",
         "hovertext": [
          "Banff Merman"
         ],
         "lat": [
          51.1722
         ],
         "legendgroup": "3373.096 km",
         "lon": [
          -115.5721
         ],
         "marker": {
          "color": "#FFA15A",
          "size": [
           384
          ],
          "sizemode": "area",
          "sizeref": 8.955
         },
         "mode": "markers",
         "name": "3373.096 km",
         "showlegend": true,
         "subplot": "mapbox",
         "type": "scattermapbox"
        },
        {
         "customdata": [
          [
           "331 S. Olsen Tucson, Arizona United States",
           132
          ]
         ],
         "hovertemplate": "<b>%{hovertext}</b><br><br>Distance=3417.076 km<br>Popolarity=%{marker.size}<br>placeAlt=%{lat}<br>placeLong=%{lon}<br>placeAddress=%{customdata[0]}<br>numPeopleVisited=%{customdata[1]}<extra></extra>",
         "hovertext": [
          "Ignite Sign Art Museum"
         ],
         "lat": [
          32.2182
         ],
         "legendgroup": "3417.076 km",
         "lon": [
          -110.9407
         ],
         "marker": {
          "color": "#19d3f3",
          "size": [
           399.5
          ],
          "sizemode": "area",
          "sizeref": 8.955
         },
         "mode": "markers",
         "name": "3417.076 km",
         "showlegend": true,
         "subplot": "mapbox",
         "type": "scattermapbox"
        },
        {
         "customdata": [
          [
           "617 N. Santa Rita Ave. Tucson, Arizona, 85721 United States",
           102
          ]
         ],
         "hovertemplate": "<b>%{hovertext}</b><br><br>Distance=3417.553 km<br>Popolarity=%{marker.size}<br>placeAlt=%{lat}<br>placeLong=%{lon}<br>placeAddress=%{customdata[0]}<br>numPeopleVisited=%{customdata[1]}<extra></extra>",
         "hovertext": [
          "University of Arizona Mathematical Models Collection"
         ],
         "lat": [
          32.2296
         ],
         "legendgroup": "3417.553 km",
         "lon": [
          -110.9531
         ],
         "marker": {
          "color": "#FF6692",
          "size": [
           266.5
          ],
          "sizemode": "area",
          "sizeref": 8.955
         },
         "mode": "markers",
         "name": "3417.553 km",
         "showlegend": true,
         "subplot": "mapbox",
         "type": "scattermapbox"
        },
        {
         "customdata": [
          [
           "100 Main St Idaho City, Idaho, 83631 United States",
           311
          ]
         ],
         "hovertemplate": "<b>%{hovertext}</b><br><br>Distance=3431.952 km<br>Popolarity=%{marker.size}<br>placeAlt=%{lat}<br>placeLong=%{lon}<br>placeAddress=%{customdata[0]}<br>numPeopleVisited=%{customdata[1]}<extra></extra>",
         "hovertext": [
          "Idaho City"
         ],
         "lat": [
          43.8262
         ],
         "legendgroup": "3431.952 km",
         "lon": [
          -115.8325
         ],
         "marker": {
          "color": "#B6E880",
          "size": [
           453
          ],
          "sizemode": "area",
          "sizeref": 8.955
         },
         "mode": "markers",
         "name": "3431.952 km",
         "showlegend": true,
         "subplot": "mapbox",
         "type": "scattermapbox"
        },
        {
         "customdata": [
          [
           "22 E Thomas Rd Phoenix, Arizona United States",
           298
          ]
         ],
         "hovertemplate": "<b>%{hovertext}</b><br><br>Distance=3451.957 km<br>Popolarity=%{marker.size}<br>placeAlt=%{lat}<br>placeLong=%{lon}<br>placeAddress=%{customdata[0]}<br>numPeopleVisited=%{customdata[1]}<extra></extra>",
         "hovertext": [
          "Navajo Code Talkers Tribute"
         ],
         "lat": [
          33.4802
         ],
         "legendgroup": "3451.957 km",
         "lon": [
          -112.0734
         ],
         "marker": {
          "color": "#FF97FF",
          "size": [
           435
          ],
          "sizemode": "area",
          "sizeref": 8.955
         },
         "mode": "markers",
         "name": "3451.957 km",
         "showlegend": true,
         "subplot": "mapbox",
         "type": "scattermapbox"
        },
        {
         "customdata": [
          [
           "Carp Elgin Road Clark County, Nevada United States",
           83
          ]
         ],
         "hovertemplate": "<b>%{hovertext}</b><br><br>Distance=3511.074 km<br>Popolarity=%{marker.size}<br>placeAlt=%{lat}<br>placeLong=%{lon}<br>placeAddress=%{customdata[0]}<br>numPeopleVisited=%{customdata[1]}<extra></extra>",
         "hovertext": [
          "Double Negative"
         ],
         "lat": [
          36.6175
         ],
         "legendgroup": "3511.074 km",
         "lon": [
          -114.3447
         ],
         "marker": {
          "color": "#FECB52",
          "size": [
           377
          ],
          "sizemode": "area",
          "sizeref": 8.955
         },
         "mode": "markers",
         "name": "3511.074 km",
         "showlegend": true,
         "subplot": "mapbox",
         "type": "scattermapbox"
        },
        {
         "customdata": [
          [
           "721 South Moapa Valley Boulevard Overton, Nevada, 89040 United States",
           182
          ]
         ],
         "hovertemplate": "<b>%{hovertext}</b><br><br>Distance=3522.446 km<br>Popolarity=%{marker.size}<br>placeAlt=%{lat}<br>placeLong=%{lon}<br>placeAddress=%{customdata[0]}<br>numPeopleVisited=%{customdata[1]}<extra></extra>",
         "hovertext": [
          "Lost City Museum"
         ],
         "lat": [
          36.5315
         ],
         "legendgroup": "3522.446 km",
         "lon": [
          -114.4409
         ],
         "marker": {
          "color": "#636efa",
          "size": [
           583
          ],
          "sizemode": "area",
          "sizeref": 8.955
         },
         "mode": "markers",
         "name": "3522.446 km",
         "showlegend": true,
         "subplot": "mapbox",
         "type": "scattermapbox"
        },
        {
         "customdata": [
          [
           "4 & 1/2 West Main Street Walla Walla, Washington United States",
           69
          ]
         ],
         "hovertemplate": "<b>%{hovertext}</b><br><br>Distance=3593.761 km<br>Popolarity=%{marker.size}<br>placeAlt=%{lat}<br>placeLong=%{lon}<br>placeAddress=%{customdata[0]}<br>numPeopleVisited=%{customdata[1]}<extra></extra>",
         "hovertext": [
          "Museum of Un-Natural History"
         ],
         "lat": [
          46.0668
         ],
         "legendgroup": "3593.761 km",
         "lon": [
          -118.3398
         ],
         "marker": {
          "color": "#EF553B",
          "size": [
           314.5
          ],
          "sizemode": "area",
          "sizeref": 8.955
         },
         "mode": "markers",
         "name": "3593.761 km",
         "showlegend": true,
         "subplot": "mapbox",
         "type": "scattermapbox"
        },
        {
         "customdata": [
          [
           "755 E Flamingo Rd Las Vegas, Nevada, 89119 United States",
           1101
          ]
         ],
         "hovertemplate": "<b>%{hovertext}</b><br><br>Distance=3598.206 km<br>Popolarity=%{marker.size}<br>placeAlt=%{lat}<br>placeLong=%{lon}<br>placeAddress=%{customdata[0]}<br>numPeopleVisited=%{customdata[1]}<extra></extra>",
         "hovertext": [
          "National Atomic Testing Museum"
         ],
         "lat": [
          36.1141
         ],
         "legendgroup": "3598.206 km",
         "lon": [
          -115.1484
         ],
         "marker": {
          "color": "#00cc96",
          "size": [
           1954
          ],
          "sizemode": "area",
          "sizeref": 8.955
         },
         "mode": "markers",
         "name": "3598.206 km",
         "showlegend": true,
         "subplot": "mapbox",
         "type": "scattermapbox"
        },
        {
         "customdata": [
          [
           "47106 Wildhorse Blvd Pendleton, Oregon United States",
           111
          ]
         ],
         "hovertemplate": "<b>%{hovertext}</b><br><br>Distance=3624.462 km<br>Popolarity=%{marker.size}<br>placeAlt=%{lat}<br>placeLong=%{lon}<br>placeAddress=%{customdata[0]}<br>numPeopleVisited=%{customdata[1]}<extra></extra>",
         "hovertext": [
          "Tamástslikt Cultural Institute"
         ],
         "lat": [
          45.6537
         ],
         "legendgroup": "3624.462 km",
         "lon": [
          -118.6634
         ],
         "marker": {
          "color": "#ab63fa",
          "size": [
           381.5
          ],
          "sizemode": "area",
          "sizeref": 8.955
         },
         "mode": "markers",
         "name": "3624.462 km",
         "showlegend": true,
         "subplot": "mapbox",
         "type": "scattermapbox"
        },
        {
         "customdata": [
          [
           "One Center of the World Plaza Felicity, California, 92283-7777 United States",
           232
          ]
         ],
         "hovertemplate": "<b>%{hovertext}</b><br><br>Distance=3713.741 km<br>Popolarity=%{marker.size}<br>placeAlt=%{lat}<br>placeLong=%{lon}<br>placeAddress=%{customdata[0]}<br>numPeopleVisited=%{customdata[1]}<extra></extra>",
         "hovertext": [
          "Felicity, California: Center of the World"
         ],
         "lat": [
          32.7503
         ],
         "legendgroup": "3713.741 km",
         "lon": [
          -114.7653
         ],
         "marker": {
          "color": "#FFA15A",
          "size": [
           414
          ],
          "sizemode": "area",
          "sizeref": 8.955
         },
         "mode": "markers",
         "name": "3713.741 km",
         "showlegend": true,
         "subplot": "mapbox",
         "type": "scattermapbox"
        },
        {
         "customdata": [
          [
           "Grimes Point Archaeological Area Lincoln Hwy - Rt. 50 Fallon, Nevada, 89406 United States",
           71
          ]
         ],
         "hovertemplate": "<b>%{hovertext}</b><br><br>Distance=3769.851 km<br>Popolarity=%{marker.size}<br>placeAlt=%{lat}<br>placeLong=%{lon}<br>placeAddress=%{customdata[0]}<br>numPeopleVisited=%{customdata[1]}<extra></extra>",
         "hovertext": [
          "Hidden Cave at Grimes Point"
         ],
         "lat": [
          39.4068
         ],
         "legendgroup": "3769.851 km",
         "lon": [
          -118.627
         ],
         "marker": {
          "color": "#19d3f3",
          "size": [
           305
          ],
          "sizemode": "area",
          "sizeref": 8.955
         },
         "mode": "markers",
         "name": "3769.851 km",
         "showlegend": true,
         "subplot": "mapbox",
         "type": "scattermapbox"
        },
        {
         "customdata": [
          [
           "35 Maryhill Museum Drive Goldendale, Washington, 98620 United States",
           945
          ]
         ],
         "hovertemplate": "<b>%{hovertext}</b><br><br>Distance=3793.862 km<br>Popolarity=%{marker.size}<br>placeAlt=%{lat}<br>placeLong=%{lon}<br>placeAddress=%{customdata[0]}<br>numPeopleVisited=%{customdata[1]}<extra></extra>",
         "hovertext": [
          "Maryhill Museum and Stonehenge"
         ],
         "lat": [
          45.6775
         ],
         "legendgroup": "3793.862 km",
         "lon": [
          -120.8648
         ],
         "marker": {
          "color": "#FF6692",
          "size": [
           1296.5
          ],
          "sizemode": "area",
          "sizeref": 8.955
         },
         "mode": "markers",
         "name": "3793.862 km",
         "showlegend": true,
         "subplot": "mapbox",
         "type": "scattermapbox"
        },
        {
         "customdata": [
          [
           "67616 Desert View Ave Desert Hot Springs, California United States",
           133
          ]
         ],
         "hovertemplate": "<b>%{hovertext}</b><br><br>Distance=3802.267 km<br>Popolarity=%{marker.size}<br>placeAlt=%{lat}<br>placeLong=%{lon}<br>placeAddress=%{customdata[0]}<br>numPeopleVisited=%{customdata[1]}<extra></extra>",
         "hovertext": [
          "Cabot's Pueblo Museum"
         ],
         "lat": [
          33.958
         ],
         "legendgroup": "3802.267 km",
         "lon": [
          -116.4815
         ],
         "marker": {
          "color": "#B6E880",
          "size": [
           367.5
          ],
          "sizemode": "area",
          "sizeref": 8.955
         },
         "mode": "markers",
         "name": "3802.267 km",
         "showlegend": true,
         "subplot": "mapbox",
         "type": "scattermapbox"
        },
        {
         "customdata": [
          [
           "701 South Main Street Lone Pine, California, 93545 United States",
           205
          ]
         ],
         "hovertemplate": "<b>%{hovertext}</b><br><br>Distance=3823.423 km<br>Popolarity=%{marker.size}<br>placeAlt=%{lat}<br>placeLong=%{lon}<br>placeAddress=%{customdata[0]}<br>numPeopleVisited=%{customdata[1]}<extra></extra>",
         "hovertext": [
          "The Museum of Western Film History"
         ],
         "lat": [
          36.6008
         ],
         "legendgroup": "3823.423 km",
         "lon": [
          -118.0617
         ],
         "marker": {
          "color": "#FF97FF",
          "size": [
           318.5
          ],
          "sizemode": "area",
          "sizeref": 8.955
         },
         "mode": "markers",
         "name": "3823.423 km",
         "showlegend": true,
         "subplot": "mapbox",
         "type": "scattermapbox"
        },
        {
         "customdata": [
          [
           "1595 N Sierra St Reno, Nevada United States",
           131
          ]
         ],
         "hovertemplate": "<b>%{hovertext}</b><br><br>Distance=3863.815 km<br>Popolarity=%{marker.size}<br>placeAlt=%{lat}<br>placeLong=%{lon}<br>placeAddress=%{customdata[0]}<br>numPeopleVisited=%{customdata[1]}<extra></extra>",
         "hovertext": [
          "Wilbur D. May Museum"
         ],
         "lat": [
          39.5457
         ],
         "legendgroup": "3863.815 km",
         "lon": [
          -119.824
         ],
         "marker": {
          "color": "#FECB52",
          "size": [
           274
          ],
          "sizemode": "area",
          "sizeref": 8.955
         },
         "mode": "markers",
         "name": "3863.815 km",
         "showlegend": true,
         "subplot": "mapbox",
         "type": "scattermapbox"
        },
        {
         "customdata": [
          [
           "4300 15th Ave NE Seattle, Washington, 98105 United States",
           197
          ]
         ],
         "hovertemplate": "<b>%{hovertext}</b><br><br>Distance=3873.54 km<br>Popolarity=%{marker.size}<br>placeAlt=%{lat}<br>placeLong=%{lon}<br>placeAddress=%{customdata[0]}<br>numPeopleVisited=%{customdata[1]}<extra></extra>",
         "hovertext": [
          "Off the Rez Cafe"
         ],
         "lat": [
          47.6603
         ],
         "legendgroup": "3873.54 km",
         "lon": [
          -122.3116
         ],
         "marker": {
          "color": "#636efa",
          "size": [
           599
          ],
          "sizemode": "area",
          "sizeref": 8.955
         },
         "mode": "markers",
         "name": "3873.54 km",
         "showlegend": true,
         "subplot": "mapbox",
         "type": "scattermapbox"
        },
        {
         "customdata": [
          [
           "719 S King St Seattle, Washington United States",
           231
          ]
         ],
         "hovertemplate": "<b>%{hovertext}</b><br><br>Distance=3875.21 km<br>Popolarity=%{marker.size}<br>placeAlt=%{lat}<br>placeLong=%{lon}<br>placeAddress=%{customdata[0]}<br>numPeopleVisited=%{customdata[1]}<extra></extra>",
         "hovertext": [
          "East Kong Yick Building at the Wing Luke Museum"
         ],
         "lat": [
          47.5982
         ],
         "legendgroup": "3875.21 km",
         "lon": [
          -122.3229
         ],
         "marker": {
          "color": "#EF553B",
          "size": [
           344
          ],
          "sizemode": "area",
          "sizeref": 8.955
         },
         "mode": "markers",
         "name": "3875.21 km",
         "showlegend": true,
         "subplot": "mapbox",
         "type": "scattermapbox"
        },
        {
         "customdata": [
          [
           "62 First St. N. Friday Harbor, Washington, 98250 United States",
           277
          ]
         ],
         "hovertemplate": "<b>%{hovertext}</b><br><br>Distance=3914.857 km<br>Popolarity=%{marker.size}<br>placeAlt=%{lat}<br>placeLong=%{lon}<br>placeAddress=%{customdata[0]}<br>numPeopleVisited=%{customdata[1]}<extra></extra>",
         "hovertext": [
          "Whale Museum"
         ],
         "lat": [
          48.5358
         ],
         "legendgroup": "3914.857 km",
         "lon": [
          -123.0172
         ],
         "marker": {
          "color": "#00cc96",
          "size": [
           391
          ],
          "sizemode": "area",
          "sizeref": 8.955
         },
         "mode": "markers",
         "name": "3914.857 km",
         "showlegend": true,
         "subplot": "mapbox",
         "type": "scattermapbox"
        },
        {
         "customdata": [
          [
           "Monument Rd San Diego, California United States",
           236
          ]
         ],
         "hovertemplate": "<b>%{hovertext}</b><br><br>Distance=3920.28 km<br>Popolarity=%{marker.size}<br>placeAlt=%{lat}<br>placeLong=%{lon}<br>placeAddress=%{customdata[0]}<br>numPeopleVisited=%{customdata[1]}<extra></extra>",
         "hovertext": [
          "Friendship Park"
         ],
         "lat": [
          32.5444
         ],
         "legendgroup": "3920.28 km",
         "lon": [
          -117.0932
         ],
         "marker": {
          "color": "#ab63fa",
          "size": [
           323.5
          ],
          "sizemode": "area",
          "sizeref": 8.955
         },
         "mode": "markers",
         "name": "3920.28 km",
         "showlegend": true,
         "subplot": "mapbox",
         "type": "scattermapbox"
        },
        {
         "customdata": [
          [
           "One Abbey Drive Mount Angel, Oregon, 97373 United States",
           269
          ]
         ],
         "hovertemplate": "<b>%{hovertext}</b><br><br>Distance=3952.783 km<br>Popolarity=%{marker.size}<br>placeAlt=%{lat}<br>placeLong=%{lon}<br>placeAddress=%{customdata[0]}<br>numPeopleVisited=%{customdata[1]}<extra></extra>",
         "hovertext": [
          "Mount Angel Abbey Museum"
         ],
         "lat": [
          45.0553
         ],
         "legendgroup": "3952.783 km",
         "lon": [
          -122.771
         ],
         "marker": {
          "color": "#FFA15A",
          "size": [
           421
          ],
          "sizemode": "area",
          "sizeref": 8.955
         },
         "mode": "markers",
         "name": "3952.783 km",
         "showlegend": true,
         "subplot": "mapbox",
         "type": "scattermapbox"
        },
        {
         "customdata": [
          [
           "5324 Laurel Canyon Blvd. Los Angeles, California, 91607 United States",
           45
          ]
         ],
         "hovertemplate": "<b>%{hovertext}</b><br><br>Distance=3954.247 km<br>Popolarity=%{marker.size}<br>placeAlt=%{lat}<br>placeLong=%{lon}<br>placeAddress=%{customdata[0]}<br>numPeopleVisited=%{customdata[1]}<extra></extra>",
         "hovertext": [
          "Metropolitan Pit Stop"
         ],
         "lat": [
          34.1675
         ],
         "legendgroup": "3954.247 km",
         "lon": [
          -118.3963
         ],
         "marker": {
          "color": "#19d3f3",
          "size": [
           235.5
          ],
          "sizemode": "area",
          "sizeref": 8.955
         },
         "mode": "markers",
         "name": "3954.247 km",
         "showlegend": true,
         "subplot": "mapbox",
         "type": "scattermapbox"
        },
        {
         "customdata": [
          [
           "7100 El Rancho Dr Los Angeles, California, 91367 United States",
           165
          ]
         ],
         "hovertemplate": "<b>%{hovertext}</b><br><br>Distance=3969.469 km<br>Popolarity=%{marker.size}<br>placeAlt=%{lat}<br>placeLong=%{lon}<br>placeAddress=%{customdata[0]}<br>numPeopleVisited=%{customdata[1]}<extra></extra>",
         "hovertext": [
          "Old Trapper's Lodge Statues"
         ],
         "lat": [
          34.1847
         ],
         "legendgroup": "3969.469 km",
         "lon": [
          -118.5862
         ],
         "marker": {
          "color": "#FF6692",
          "size": [
           297
          ],
          "sizemode": "area",
          "sizeref": 8.955
         },
         "mode": "markers",
         "name": "3969.469 km",
         "showlegend": true,
         "subplot": "mapbox",
         "type": "scattermapbox"
        },
        {
         "customdata": [
          [
           "500 NE Captain Michael King Smith Way McMinnville, Oregon United States",
           546
          ]
         ],
         "hovertemplate": "<b>%{hovertext}</b><br><br>Distance=3978.479 km<br>Popolarity=%{marker.size}<br>placeAlt=%{lat}<br>placeLong=%{lon}<br>placeAddress=%{customdata[0]}<br>numPeopleVisited=%{customdata[1]}<extra></extra>",
         "hovertext": [
          "The Spruce Goose "
         ],
         "lat": [
          45.2039
         ],
         "legendgroup": "3978.479 km",
         "lon": [
          -123.1433
         ],
         "marker": {
          "color": "#B6E880",
          "size": [
           507
          ],
          "sizemode": "area",
          "sizeref": 8.955
         },
         "mode": "markers",
         "name": "3978.479 km",
         "showlegend": true,
         "subplot": "mapbox",
         "type": "scattermapbox"
        },
        {
         "customdata": [
          [
           "1215 Duane St Astoria, Oregon United States",
           81
          ]
         ],
         "hovertemplate": "<b>%{hovertext}</b><br><br>Distance=4011.634 km<br>Popolarity=%{marker.size}<br>placeAlt=%{lat}<br>placeLong=%{lon}<br>placeAddress=%{customdata[0]}<br>numPeopleVisited=%{customdata[1]}<extra></extra>",
         "hovertext": [
          "Museum of Whimsy"
         ],
         "lat": [
          46.1881
         ],
         "legendgroup": "4011.634 km",
         "lon": [
          -123.83
         ],
         "marker": {
          "color": "#FF97FF",
          "size": [
           512.5
          ],
          "sizemode": "area",
          "sizeref": 8.955
         },
         "mode": "markers",
         "name": "4011.634 km",
         "showlegend": true,
         "subplot": "mapbox",
         "type": "scattermapbox"
        },
        {
         "customdata": [
          [
           "37417 Niles Blvd Fremont, California, 94536 United States",
           148
          ]
         ],
         "hovertemplate": "<b>%{hovertext}</b><br><br>Distance=4111.908 km<br>Popolarity=%{marker.size}<br>placeAlt=%{lat}<br>placeLong=%{lon}<br>placeAddress=%{customdata[0]}<br>numPeopleVisited=%{customdata[1]}<extra></extra>",
         "hovertext": [
          "Niles Essanay Silent Film Museum"
         ],
         "lat": [
          37.5771
         ],
         "legendgroup": "4111.908 km",
         "lon": [
          -121.9801
         ],
         "marker": {
          "color": "#FECB52",
          "size": [
           291
          ],
          "sizemode": "area",
          "sizeref": 8.955
         },
         "mode": "markers",
         "name": "4111.908 km",
         "showlegend": true,
         "subplot": "mapbox",
         "type": "scattermapbox"
        },
        {
         "customdata": [
          [
           "2430 Bancroft Way Berkeley, California, 94704 United States",
           55
          ]
         ],
         "hovertemplate": "<b>%{hovertext}</b><br><br>Distance=4124.009 km<br>Popolarity=%{marker.size}<br>placeAlt=%{lat}<br>placeLong=%{lon}<br>placeAddress=%{customdata[0]}<br>numPeopleVisited=%{customdata[1]}<extra></extra>",
         "hovertext": [
          "Cafe Ohlone"
         ],
         "lat": [
          37.8683
         ],
         "legendgroup": "4124.009 km",
         "lon": [
          -122.2607
         ],
         "marker": {
          "color": "#636efa",
          "size": [
           261
          ],
          "sizemode": "area",
          "sizeref": 8.955
         },
         "mode": "markers",
         "name": "4124.009 km",
         "showlegend": true,
         "subplot": "mapbox",
         "type": "scattermapbox"
        },
        {
         "customdata": [
          [
           "1510 Webster St Alameda, California, 94501 United States",
           356
          ]
         ],
         "hovertemplate": "<b>%{hovertext}</b><br><br>Distance=4128.932 km<br>Popolarity=%{marker.size}<br>placeAlt=%{lat}<br>placeLong=%{lon}<br>placeAddress=%{customdata[0]}<br>numPeopleVisited=%{customdata[1]}<extra></extra>",
         "hovertext": [
          "Pacific Pinball Museum"
         ],
         "lat": [
          37.7737
         ],
         "legendgroup": "4128.932 km",
         "lon": [
          -122.2767
         ],
         "marker": {
          "color": "#EF553B",
          "size": [
           512.5
          ],
          "sizemode": "area",
          "sizeref": 8.955
         },
         "mode": "markers",
         "name": "4128.932 km",
         "showlegend": true,
         "subplot": "mapbox",
         "type": "scattermapbox"
        },
        {
         "customdata": [
          [
           "1522 Grant Avenue San Francisco, California, 94133 United States",
           112
          ]
         ],
         "hovertemplate": "<b>%{hovertext}</b><br><br>Distance=4138.705 km<br>Popolarity=%{marker.size}<br>placeAlt=%{lat}<br>placeLong=%{lon}<br>placeAddress=%{customdata[0]}<br>numPeopleVisited=%{customdata[1]}<extra></extra>",
         "hovertext": [
          "Aria Antiques"
         ],
         "lat": [
          37.8011
         ],
         "legendgroup": "4138.705 km",
         "lon": [
          -122.4075
         ],
         "marker": {
          "color": "#00cc96",
          "size": [
           448.5
          ],
          "sizemode": "area",
          "sizeref": 8.955
         },
         "mode": "markers",
         "name": "4138.705 km",
         "showlegend": true,
         "subplot": "mapbox",
         "type": "scattermapbox"
        },
        {
         "customdata": [
          [
           "140 Maiden Lane San Francisco, California, 94108 United States",
           305
          ]
         ],
         "hovertemplate": "<b>%{hovertext}</b><br><br>Distance=4139.062 km<br>Popolarity=%{marker.size}<br>placeAlt=%{lat}<br>placeLong=%{lon}<br>placeAddress=%{customdata[0]}<br>numPeopleVisited=%{customdata[1]}<extra></extra>",
         "hovertext": [
          "V. C. Morris Gift Shop"
         ],
         "lat": [
          37.7883
         ],
         "legendgroup": "4139.062 km",
         "lon": [
          -122.4059
         ],
         "marker": {
          "color": "#ab63fa",
          "size": [
           524.5
          ],
          "sizemode": "area",
          "sizeref": 8.955
         },
         "mode": "markers",
         "name": "4139.062 km",
         "showlegend": true,
         "subplot": "mapbox",
         "type": "scattermapbox"
        },
        {
         "customdata": [
          [
           "655 Beach Street San Francisco, California, 94109 United States",
           76
          ]
         ],
         "hovertemplate": "<b>%{hovertext}</b><br><br>Distance=4139.509 km<br>Popolarity=%{marker.size}<br>placeAlt=%{lat}<br>placeLong=%{lon}<br>placeAddress=%{customdata[0]}<br>numPeopleVisited=%{customdata[1]}<extra></extra>",
         "hovertext": [
          "Museum of the Eye"
         ],
         "lat": [
          37.8067
         ],
         "legendgroup": "4139.509 km",
         "lon": [
          -122.4198
         ],
         "marker": {
          "color": "#FFA15A",
          "size": [
           371
          ],
          "sizemode": "area",
          "sizeref": 8.955
         },
         "mode": "markers",
         "name": "4139.509 km",
         "showlegend": true,
         "subplot": "mapbox",
         "type": "scattermapbox"
        },
        {
         "customdata": [
          [
           "2450 Sutter St Third Floor San Francisco, California, 94115 United States",
           108
          ]
         ],
         "hovertemplate": "<b>%{hovertext}</b><br><br>Distance=4141.752 km<br>Popolarity=%{marker.size}<br>placeAlt=%{lat}<br>placeLong=%{lon}<br>placeAddress=%{customdata[0]}<br>numPeopleVisited=%{customdata[1]}<extra></extra>",
         "hovertext": [
          "Museum of Russian Culture"
         ],
         "lat": [
          37.7878
         ],
         "legendgroup": "4141.752 km",
         "lon": [
          -122.4382
         ],
         "marker": {
          "color": "#19d3f3",
          "size": [
           439.5
          ],
          "sizemode": "area",
          "sizeref": 8.955
         },
         "mode": "markers",
         "name": "4141.752 km",
         "showlegend": true,
         "subplot": "mapbox",
         "type": "scattermapbox"
        },
        {
         "customdata": [
          [
           "143 M St. Eureka, California, 95501 United States",
           598
          ]
         ],
         "hovertemplate": "<b>%{hovertext}</b><br><br>Distance=4176.022 km<br>Popolarity=%{marker.size}<br>placeAlt=%{lat}<br>placeLong=%{lon}<br>placeAddress=%{customdata[0]}<br>numPeopleVisited=%{customdata[1]}<extra></extra>",
         "hovertext": [
          "The Carson Mansion"
         ],
         "lat": [
          40.8053
         ],
         "legendgroup": "4176.022 km",
         "lon": [
          -124.1584
         ],
         "marker": {
          "color": "#FF6692",
          "size": [
           876
          ],
          "sizemode": "area",
          "sizeref": 8.955
         },
         "mode": "markers",
         "name": "4176.022 km",
         "showlegend": true,
         "subplot": "mapbox",
         "type": "scattermapbox"
        },
        {
         "customdata": [
          [
           "Failford, Scotland United Kingdom",
           42
          ]
         ],
         "hovertemplate": "<b>%{hovertext}</b><br><br>Distance=5187.42 km<br>Popolarity=%{marker.size}<br>placeAlt=%{lat}<br>placeLong=%{lon}<br>placeAddress=%{customdata[0]}<br>numPeopleVisited=%{customdata[1]}<extra></extra>",
         "hovertext": [
          "Peden's Cave"
         ],
         "lat": [
          55.505
         ],
         "legendgroup": "5187.42 km",
         "lon": [
          -4.441
         ],
         "marker": {
          "color": "#B6E880",
          "size": [
           239.5
          ],
          "sizemode": "area",
          "sizeref": 8.955
         },
         "mode": "markers",
         "name": "5187.42 km",
         "showlegend": true,
         "subplot": "mapbox",
         "type": "scattermapbox"
        },
        {
         "customdata": [
          [
           "49-50 Piccadilly Mayfair London, England United Kingdom",
           100
          ]
         ],
         "hovertemplate": "<b>%{hovertext}</b><br><br>Distance=5579.837 km<br>Popolarity=%{marker.size}<br>placeAlt=%{lat}<br>placeLong=%{lon}<br>placeAddress=%{customdata[0]}<br>numPeopleVisited=%{customdata[1]}<extra></extra>",
         "hovertext": [
          "PsychoBarn"
         ],
         "lat": [
          51.5089
         ],
         "legendgroup": "5579.837 km",
         "lon": [
          -0.1393
         ],
         "marker": {
          "color": "#FF97FF",
          "size": [
           297
          ],
          "sizemode": "area",
          "sizeref": 8.955
         },
         "mode": "markers",
         "name": "5579.837 km",
         "showlegend": true,
         "subplot": "mapbox",
         "type": "scattermapbox"
        },
        {
         "customdata": [
          [
           "National Gallery Trafalgar Square London, England, WC2H United Kingdom",
           457
          ]
         ],
         "hovertemplate": "<b>%{hovertext}</b><br><br>Distance=5580.562 km<br>Popolarity=%{marker.size}<br>placeAlt=%{lat}<br>placeLong=%{lon}<br>placeAddress=%{customdata[0]}<br>numPeopleVisited=%{customdata[1]}<extra></extra>",
         "hovertext": [
          "The Monty Python Foot"
         ],
         "lat": [
          51.5089
         ],
         "legendgroup": "5580.562 km",
         "lon": [
          -0.1283
         ],
         "marker": {
          "color": "#FECB52",
          "size": [
           884.5
          ],
          "sizemode": "area",
          "sizeref": 8.955
         },
         "mode": "markers",
         "name": "5580.562 km",
         "showlegend": true,
         "subplot": "mapbox",
         "type": "scattermapbox"
        },
        {
         "customdata": [
          [
           "London, England, WC1R United Kingdom",
           116
          ]
         ],
         "hovertemplate": "<b>%{hovertext}</b><br><br>Distance=5580.934 km<br>Popolarity=%{marker.size}<br>placeAlt=%{lat}<br>placeLong=%{lon}<br>placeAddress=%{customdata[0]}<br>numPeopleVisited=%{customdata[1]}<extra></extra>",
         "hovertext": [
          "Cabaret Mechanical Theatre"
         ],
         "lat": [
          51.5197
         ],
         "legendgroup": "5580.934 km",
         "lon": [
          -0.1169
         ],
         "marker": {
          "color": "#636efa",
          "size": [
           476.5
          ],
          "sizemode": "area",
          "sizeref": 8.955
         },
         "mode": "markers",
         "name": "5580.934 km",
         "showlegend": true,
         "subplot": "mapbox",
         "type": "scattermapbox"
        },
        {
         "customdata": [
          [
           "100 London Rd Forest Hill London, England, SE23 3PQ United Kingdom",
           746
          ]
         ],
         "hovertemplate": "<b>%{hovertext}</b><br><br>Distance=5587.387 km<br>Popolarity=%{marker.size}<br>placeAlt=%{lat}<br>placeLong=%{lon}<br>placeAddress=%{customdata[0]}<br>numPeopleVisited=%{customdata[1]}<extra></extra>",
         "hovertext": [
          "Horniman Museum and Gardens"
         ],
         "lat": [
          51.441
         ],
         "legendgroup": "5587.387 km",
         "lon": [
          -0.061
         ],
         "marker": {
          "color": "#EF553B",
          "size": [
           1074
          ],
          "sizemode": "area",
          "sizeref": 8.955
         },
         "mode": "markers",
         "name": "5587.387 km",
         "showlegend": true,
         "subplot": "mapbox",
         "type": "scattermapbox"
        },
        {
         "customdata": [
          [
           "Westerstraat 106 Amsterdam, 1015 Netherlands",
           170
          ]
         ],
         "hovertemplate": "<b>%{hovertext}</b><br><br>Distance=5872.708 km<br>Popolarity=%{marker.size}<br>placeAlt=%{lat}<br>placeLong=%{lon}<br>placeAddress=%{customdata[0]}<br>numPeopleVisited=%{customdata[1]}<extra></extra>",
         "hovertext": [
          "Pianola Museum"
         ],
         "lat": [
          52.3785
         ],
         "legendgroup": "5872.708 km",
         "lon": [
          4.8835
         ],
         "marker": {
          "color": "#00cc96",
          "size": [
           419
          ],
          "sizemode": "area",
          "sizeref": 8.955
         },
         "mode": "markers",
         "name": "5872.708 km",
         "showlegend": true,
         "subplot": "mapbox",
         "type": "scattermapbox"
        },
        {
         "customdata": [
          [
           "497 Herengracht Amsterdam Netherlands",
           618
          ]
         ],
         "hovertemplate": "<b>%{hovertext}</b><br><br>Distance=5873.734 km<br>Popolarity=%{marker.size}<br>placeAlt=%{lat}<br>placeLong=%{lon}<br>placeAddress=%{customdata[0]}<br>numPeopleVisited=%{customdata[1]}<extra></extra>",
         "hovertext": [
          "KattenKabinet"
         ],
         "lat": [
          52.3656
         ],
         "legendgroup": "5873.734 km",
         "lon": [
          4.8916
         ],
         "marker": {
          "color": "#ab63fa",
          "size": [
           1403.5
          ],
          "sizemode": "area",
          "sizeref": 8.955
         },
         "mode": "markers",
         "name": "5873.734 km",
         "showlegend": true,
         "subplot": "mapbox",
         "type": "scattermapbox"
        },
        {
         "customdata": [
          [
           "3-5 Zum Wasserwerk Wustermark, 14641 Germany",
           181
          ]
         ],
         "hovertemplate": "<b>%{hovertext}</b><br><br>Distance=6372.825 km<br>Popolarity=%{marker.size}<br>placeAlt=%{lat}<br>placeLong=%{lon}<br>placeAddress=%{customdata[0]}<br>numPeopleVisited=%{customdata[1]}<extra></extra>",
         "hovertext": [
          "Hitler's Olympic Village"
         ],
         "lat": [
          52.5366
         ],
         "legendgroup": "6372.825 km",
         "lon": [
          13.0105
         ],
         "marker": {
          "color": "#FFA15A",
          "size": [
           552.5
          ],
          "sizemode": "area",
          "sizeref": 8.955
         },
         "mode": "markers",
         "name": "6372.825 km",
         "showlegend": true,
         "subplot": "mapbox",
         "type": "scattermapbox"
        },
        {
         "customdata": [
          [
           "University of Turin Via Pietro Giuria 15 Turin, 10126 Italy",
           133
          ]
         ],
         "hovertemplate": "<b>%{hovertext}</b><br><br>Distance=6392.799 km<br>Popolarity=%{marker.size}<br>placeAlt=%{lat}<br>placeLong=%{lon}<br>placeAddress=%{customdata[0]}<br>numPeopleVisited=%{customdata[1]}<extra></extra>",
         "hovertext": [
          "Cesare Lombroso's Museum of Criminal Anthropology"
         ],
         "lat": [
          45.0494
         ],
         "legendgroup": "6392.799 km",
         "lon": [
          7.6793
         ],
         "marker": {
          "color": "#19d3f3",
          "size": [
           370
          ],
          "sizemode": "area",
          "sizeref": 8.955
         },
         "mode": "markers",
         "name": "6392.799 km",
         "showlegend": true,
         "subplot": "mapbox",
         "type": "scattermapbox"
        },
        {
         "customdata": [
          [
           "Neuhauser Straße 2 Munich, 80331 Germany",
           219
          ]
         ],
         "hovertemplate": "<b>%{hovertext}</b><br><br>Distance=6500.634 km<br>Popolarity=%{marker.size}<br>placeAlt=%{lat}<br>placeLong=%{lon}<br>placeAddress=%{customdata[0]}<br>numPeopleVisited=%{customdata[1]}<extra></extra>",
         "hovertext": [
          "Deutsches Jagd und Fischereimuseum (German Museum of Hunting and Fishing)"
         ],
         "lat": [
          48.1385
         ],
         "legendgroup": "6500.634 km",
         "lon": [
          11.5714
         ],
         "marker": {
          "color": "#FF6692",
          "size": [
           353.5
          ],
          "sizemode": "area",
          "sizeref": 8.955
         },
         "mode": "markers",
         "name": "6500.634 km",
         "showlegend": true,
         "subplot": "mapbox",
         "type": "scattermapbox"
        },
        {
         "customdata": [
          [
           "5 28. října Prague, 110 00 Czechia",
           288
          ]
         ],
         "hovertemplate": "<b>%{hovertext}</b><br><br>Distance=6584.206 km<br>Popolarity=%{marker.size}<br>placeAlt=%{lat}<br>placeLong=%{lon}<br>placeAddress=%{customdata[0]}<br>numPeopleVisited=%{customdata[1]}<extra></extra>",
         "hovertext": [
          "Batalion Comic Book Museum and Club"
         ],
         "lat": [
          50.0835
         ],
         "legendgroup": "6584.206 km",
         "lon": [
          14.4222
         ],
         "marker": {
          "color": "#B6E880",
          "size": [
           503.5
          ],
          "sizemode": "area",
          "sizeref": 8.955
         },
         "mode": "markers",
         "name": "6584.206 km",
         "showlegend": true,
         "subplot": "mapbox",
         "type": "scattermapbox"
        },
        {
         "customdata": [
          [
           "4 V Celnici Prague, 110 00 Czechia",
           742
          ]
         ],
         "hovertemplate": "<b>%{hovertext}</b><br><br>Distance=6584.475 km<br>Popolarity=%{marker.size}<br>placeAlt=%{lat}<br>placeLong=%{lon}<br>placeAddress=%{customdata[0]}<br>numPeopleVisited=%{customdata[1]}<extra></extra>",
         "hovertext": [
          "Museum of Communism"
         ],
         "lat": [
          50.0879
         ],
         "legendgroup": "6584.475 km",
         "lon": [
          14.4301
         ],
         "marker": {
          "color": "#FF97FF",
          "size": [
           937
          ],
          "sizemode": "area",
          "sizeref": 8.955
         },
         "mode": "markers",
         "name": "6584.475 km",
         "showlegend": true,
         "subplot": "mapbox",
         "type": "scattermapbox"
        },
        {
         "customdata": [
          [
           "1 Dandár u. Budapest, 1095 Hungary",
           202
          ]
         ],
         "hovertemplate": "<b>%{hovertext}</b><br><br>Distance=7024.856 km<br>Popolarity=%{marker.size}<br>placeAlt=%{lat}<br>placeLong=%{lon}<br>placeAddress=%{customdata[0]}<br>numPeopleVisited=%{customdata[1]}<extra></extra>",
         "hovertext": [
          "Zwack Unicum Museum"
         ],
         "lat": [
          47.4759
         ],
         "legendgroup": "7024.856 km",
         "lon": [
          19.0697
         ],
         "marker": {
          "color": "#FECB52",
          "size": [
           310
          ],
          "sizemode": "area",
          "sizeref": 8.955
         },
         "mode": "markers",
         "name": "7024.856 km",
         "showlegend": true,
         "subplot": "mapbox",
         "type": "scattermapbox"
        },
        {
         "customdata": [
          [
           "44, Patission Str. National Archaeological Museum of Athens Athens, 106 82 Greece",
           478
          ]
         ],
         "hovertemplate": "<b>%{hovertext}</b><br><br>Distance=7940.117 km<br>Popolarity=%{marker.size}<br>placeAlt=%{lat}<br>placeLong=%{lon}<br>placeAddress=%{customdata[0]}<br>numPeopleVisited=%{customdata[1]}<extra></extra>",
         "hovertext": [
          "Antikythera Mechanism"
         ],
         "lat": [
          37.9892
         ],
         "legendgroup": "7940.117 km",
         "lon": [
          23.7325
         ],
         "marker": {
          "color": "#636efa",
          "size": [
           675
          ],
          "sizemode": "area",
          "sizeref": 8.955
         },
         "mode": "markers",
         "name": "7940.117 km",
         "showlegend": true,
         "subplot": "mapbox",
         "type": "scattermapbox"
        },
        {
         "customdata": [
          [
           "46 Adrianou Athens, 105 55 Greece",
           1572
          ]
         ],
         "hovertemplate": "<b>%{hovertext}</b><br><br>Distance=7940.48 km<br>Popolarity=%{marker.size}<br>placeAlt=%{lat}<br>placeLong=%{lon}<br>placeAddress=%{customdata[0]}<br>numPeopleVisited=%{customdata[1]}<extra></extra>",
         "hovertext": [
          "The Athenian Agora"
         ],
         "lat": [
          37.9758
         ],
         "legendgroup": "7940.48 km",
         "lon": [
          23.7247
         ],
         "marker": {
          "color": "#EF553B",
          "size": [
           1170.5
          ],
          "sizemode": "area",
          "sizeref": 8.955
         },
         "mode": "markers",
         "name": "7940.48 km",
         "showlegend": true,
         "subplot": "mapbox",
         "type": "scattermapbox"
        },
        {
         "customdata": [
          [
           "364 S King St Honolulu, Hawaii, 96813 United States",
           968
          ]
         ],
         "hovertemplate": "<b>%{hovertext}</b><br><br>Distance=7996.25 km<br>Popolarity=%{marker.size}<br>placeAlt=%{lat}<br>placeLong=%{lon}<br>placeAddress=%{customdata[0]}<br>numPeopleVisited=%{customdata[1]}<extra></extra>",
         "hovertext": [
          "Iolani Palace"
         ],
         "lat": [
          21.3068
         ],
         "legendgroup": "7996.25 km",
         "lon": [
          -157.8587
         ],
         "marker": {
          "color": "#00cc96",
          "size": [
           761
          ],
          "sizemode": "area",
          "sizeref": 8.955
         },
         "mode": "markers",
         "name": "7996.25 km",
         "showlegend": true,
         "subplot": "mapbox",
         "type": "scattermapbox"
        },
        {
         "customdata": [
          [
           "Siriraj Sub-District, Bangkoknoi District Bangkok, 10700 Thailand",
           246
          ]
         ],
         "hovertemplate": "<b>%{hovertext}</b><br><br>Distance=13942.551 km<br>Popolarity=%{marker.size}<br>placeAlt=%{lat}<br>placeLong=%{lon}<br>placeAddress=%{customdata[0]}<br>numPeopleVisited=%{customdata[1]}<extra></extra>",
         "hovertext": [
          "Siriraj Medical Museum"
         ],
         "lat": [
          13.7588
         ],
         "legendgroup": "13942.551 km",
         "lon": [
          100.4851
         ],
         "marker": {
          "color": "#ab63fa",
          "size": [
           356
          ],
          "sizemode": "area",
          "sizeref": 8.955
         },
         "mode": "markers",
         "name": "13942.551 km",
         "showlegend": true,
         "subplot": "mapbox",
         "type": "scattermapbox"
        }
       ],
       "layout": {
        "legend": {
         "itemsizing": "constant",
         "title": {
          "text": "Distance"
         },
         "tracegroupgap": 0
        },
        "mapbox": {
         "accesstoken": "pk.eyJ1IjoibWF2aXZlc3RpbmkiLCJhIjoiY2xhanV1amNyMGZ3ZDNucWhubmRwdzl2ZSJ9.L5pdfTMjpMg-bGyIXe1TbA",
         "center": {
          "lat": 40.7512,
          "lon": -73.9769
         },
         "domain": {
          "x": [
           0,
           1
          ],
          "y": [
           0,
           1
          ]
         },
         "zoom": 8
        },
        "margin": {
         "t": 60
        },
        "template": {
         "data": {
          "bar": [
           {
            "error_x": {
             "color": "#2a3f5f"
            },
            "error_y": {
             "color": "#2a3f5f"
            },
            "marker": {
             "line": {
              "color": "#E5ECF6",
              "width": 0.5
             },
             "pattern": {
              "fillmode": "overlay",
              "size": 10,
              "solidity": 0.2
             }
            },
            "type": "bar"
           }
          ],
          "barpolar": [
           {
            "marker": {
             "line": {
              "color": "#E5ECF6",
              "width": 0.5
             },
             "pattern": {
              "fillmode": "overlay",
              "size": 10,
              "solidity": 0.2
             }
            },
            "type": "barpolar"
           }
          ],
          "carpet": [
           {
            "aaxis": {
             "endlinecolor": "#2a3f5f",
             "gridcolor": "white",
             "linecolor": "white",
             "minorgridcolor": "white",
             "startlinecolor": "#2a3f5f"
            },
            "baxis": {
             "endlinecolor": "#2a3f5f",
             "gridcolor": "white",
             "linecolor": "white",
             "minorgridcolor": "white",
             "startlinecolor": "#2a3f5f"
            },
            "type": "carpet"
           }
          ],
          "choropleth": [
           {
            "colorbar": {
             "outlinewidth": 0,
             "ticks": ""
            },
            "type": "choropleth"
           }
          ],
          "contour": [
           {
            "colorbar": {
             "outlinewidth": 0,
             "ticks": ""
            },
            "colorscale": [
             [
              0,
              "#0d0887"
             ],
             [
              0.1111111111111111,
              "#46039f"
             ],
             [
              0.2222222222222222,
              "#7201a8"
             ],
             [
              0.3333333333333333,
              "#9c179e"
             ],
             [
              0.4444444444444444,
              "#bd3786"
             ],
             [
              0.5555555555555556,
              "#d8576b"
             ],
             [
              0.6666666666666666,
              "#ed7953"
             ],
             [
              0.7777777777777778,
              "#fb9f3a"
             ],
             [
              0.8888888888888888,
              "#fdca26"
             ],
             [
              1,
              "#f0f921"
             ]
            ],
            "type": "contour"
           }
          ],
          "contourcarpet": [
           {
            "colorbar": {
             "outlinewidth": 0,
             "ticks": ""
            },
            "type": "contourcarpet"
           }
          ],
          "heatmap": [
           {
            "colorbar": {
             "outlinewidth": 0,
             "ticks": ""
            },
            "colorscale": [
             [
              0,
              "#0d0887"
             ],
             [
              0.1111111111111111,
              "#46039f"
             ],
             [
              0.2222222222222222,
              "#7201a8"
             ],
             [
              0.3333333333333333,
              "#9c179e"
             ],
             [
              0.4444444444444444,
              "#bd3786"
             ],
             [
              0.5555555555555556,
              "#d8576b"
             ],
             [
              0.6666666666666666,
              "#ed7953"
             ],
             [
              0.7777777777777778,
              "#fb9f3a"
             ],
             [
              0.8888888888888888,
              "#fdca26"
             ],
             [
              1,
              "#f0f921"
             ]
            ],
            "type": "heatmap"
           }
          ],
          "heatmapgl": [
           {
            "colorbar": {
             "outlinewidth": 0,
             "ticks": ""
            },
            "colorscale": [
             [
              0,
              "#0d0887"
             ],
             [
              0.1111111111111111,
              "#46039f"
             ],
             [
              0.2222222222222222,
              "#7201a8"
             ],
             [
              0.3333333333333333,
              "#9c179e"
             ],
             [
              0.4444444444444444,
              "#bd3786"
             ],
             [
              0.5555555555555556,
              "#d8576b"
             ],
             [
              0.6666666666666666,
              "#ed7953"
             ],
             [
              0.7777777777777778,
              "#fb9f3a"
             ],
             [
              0.8888888888888888,
              "#fdca26"
             ],
             [
              1,
              "#f0f921"
             ]
            ],
            "type": "heatmapgl"
           }
          ],
          "histogram": [
           {
            "marker": {
             "pattern": {
              "fillmode": "overlay",
              "size": 10,
              "solidity": 0.2
             }
            },
            "type": "histogram"
           }
          ],
          "histogram2d": [
           {
            "colorbar": {
             "outlinewidth": 0,
             "ticks": ""
            },
            "colorscale": [
             [
              0,
              "#0d0887"
             ],
             [
              0.1111111111111111,
              "#46039f"
             ],
             [
              0.2222222222222222,
              "#7201a8"
             ],
             [
              0.3333333333333333,
              "#9c179e"
             ],
             [
              0.4444444444444444,
              "#bd3786"
             ],
             [
              0.5555555555555556,
              "#d8576b"
             ],
             [
              0.6666666666666666,
              "#ed7953"
             ],
             [
              0.7777777777777778,
              "#fb9f3a"
             ],
             [
              0.8888888888888888,
              "#fdca26"
             ],
             [
              1,
              "#f0f921"
             ]
            ],
            "type": "histogram2d"
           }
          ],
          "histogram2dcontour": [
           {
            "colorbar": {
             "outlinewidth": 0,
             "ticks": ""
            },
            "colorscale": [
             [
              0,
              "#0d0887"
             ],
             [
              0.1111111111111111,
              "#46039f"
             ],
             [
              0.2222222222222222,
              "#7201a8"
             ],
             [
              0.3333333333333333,
              "#9c179e"
             ],
             [
              0.4444444444444444,
              "#bd3786"
             ],
             [
              0.5555555555555556,
              "#d8576b"
             ],
             [
              0.6666666666666666,
              "#ed7953"
             ],
             [
              0.7777777777777778,
              "#fb9f3a"
             ],
             [
              0.8888888888888888,
              "#fdca26"
             ],
             [
              1,
              "#f0f921"
             ]
            ],
            "type": "histogram2dcontour"
           }
          ],
          "mesh3d": [
           {
            "colorbar": {
             "outlinewidth": 0,
             "ticks": ""
            },
            "type": "mesh3d"
           }
          ],
          "parcoords": [
           {
            "line": {
             "colorbar": {
              "outlinewidth": 0,
              "ticks": ""
             }
            },
            "type": "parcoords"
           }
          ],
          "pie": [
           {
            "automargin": true,
            "type": "pie"
           }
          ],
          "scatter": [
           {
            "marker": {
             "colorbar": {
              "outlinewidth": 0,
              "ticks": ""
             }
            },
            "type": "scatter"
           }
          ],
          "scatter3d": [
           {
            "line": {
             "colorbar": {
              "outlinewidth": 0,
              "ticks": ""
             }
            },
            "marker": {
             "colorbar": {
              "outlinewidth": 0,
              "ticks": ""
             }
            },
            "type": "scatter3d"
           }
          ],
          "scattercarpet": [
           {
            "marker": {
             "colorbar": {
              "outlinewidth": 0,
              "ticks": ""
             }
            },
            "type": "scattercarpet"
           }
          ],
          "scattergeo": [
           {
            "marker": {
             "colorbar": {
              "outlinewidth": 0,
              "ticks": ""
             }
            },
            "type": "scattergeo"
           }
          ],
          "scattergl": [
           {
            "marker": {
             "colorbar": {
              "outlinewidth": 0,
              "ticks": ""
             }
            },
            "type": "scattergl"
           }
          ],
          "scattermapbox": [
           {
            "marker": {
             "colorbar": {
              "outlinewidth": 0,
              "ticks": ""
             }
            },
            "type": "scattermapbox"
           }
          ],
          "scatterpolar": [
           {
            "marker": {
             "colorbar": {
              "outlinewidth": 0,
              "ticks": ""
             }
            },
            "type": "scatterpolar"
           }
          ],
          "scatterpolargl": [
           {
            "marker": {
             "colorbar": {
              "outlinewidth": 0,
              "ticks": ""
             }
            },
            "type": "scatterpolargl"
           }
          ],
          "scatterternary": [
           {
            "marker": {
             "colorbar": {
              "outlinewidth": 0,
              "ticks": ""
             }
            },
            "type": "scatterternary"
           }
          ],
          "surface": [
           {
            "colorbar": {
             "outlinewidth": 0,
             "ticks": ""
            },
            "colorscale": [
             [
              0,
              "#0d0887"
             ],
             [
              0.1111111111111111,
              "#46039f"
             ],
             [
              0.2222222222222222,
              "#7201a8"
             ],
             [
              0.3333333333333333,
              "#9c179e"
             ],
             [
              0.4444444444444444,
              "#bd3786"
             ],
             [
              0.5555555555555556,
              "#d8576b"
             ],
             [
              0.6666666666666666,
              "#ed7953"
             ],
             [
              0.7777777777777778,
              "#fb9f3a"
             ],
             [
              0.8888888888888888,
              "#fdca26"
             ],
             [
              1,
              "#f0f921"
             ]
            ],
            "type": "surface"
           }
          ],
          "table": [
           {
            "cells": {
             "fill": {
              "color": "#EBF0F8"
             },
             "line": {
              "color": "white"
             }
            },
            "header": {
             "fill": {
              "color": "#C8D4E3"
             },
             "line": {
              "color": "white"
             }
            },
            "type": "table"
           }
          ]
         },
         "layout": {
          "annotationdefaults": {
           "arrowcolor": "#2a3f5f",
           "arrowhead": 0,
           "arrowwidth": 1
          },
          "autotypenumbers": "strict",
          "coloraxis": {
           "colorbar": {
            "outlinewidth": 0,
            "ticks": ""
           }
          },
          "colorscale": {
           "diverging": [
            [
             0,
             "#8e0152"
            ],
            [
             0.1,
             "#c51b7d"
            ],
            [
             0.2,
             "#de77ae"
            ],
            [
             0.3,
             "#f1b6da"
            ],
            [
             0.4,
             "#fde0ef"
            ],
            [
             0.5,
             "#f7f7f7"
            ],
            [
             0.6,
             "#e6f5d0"
            ],
            [
             0.7,
             "#b8e186"
            ],
            [
             0.8,
             "#7fbc41"
            ],
            [
             0.9,
             "#4d9221"
            ],
            [
             1,
             "#276419"
            ]
           ],
           "sequential": [
            [
             0,
             "#0d0887"
            ],
            [
             0.1111111111111111,
             "#46039f"
            ],
            [
             0.2222222222222222,
             "#7201a8"
            ],
            [
             0.3333333333333333,
             "#9c179e"
            ],
            [
             0.4444444444444444,
             "#bd3786"
            ],
            [
             0.5555555555555556,
             "#d8576b"
            ],
            [
             0.6666666666666666,
             "#ed7953"
            ],
            [
             0.7777777777777778,
             "#fb9f3a"
            ],
            [
             0.8888888888888888,
             "#fdca26"
            ],
            [
             1,
             "#f0f921"
            ]
           ],
           "sequentialminus": [
            [
             0,
             "#0d0887"
            ],
            [
             0.1111111111111111,
             "#46039f"
            ],
            [
             0.2222222222222222,
             "#7201a8"
            ],
            [
             0.3333333333333333,
             "#9c179e"
            ],
            [
             0.4444444444444444,
             "#bd3786"
            ],
            [
             0.5555555555555556,
             "#d8576b"
            ],
            [
             0.6666666666666666,
             "#ed7953"
            ],
            [
             0.7777777777777778,
             "#fb9f3a"
            ],
            [
             0.8888888888888888,
             "#fdca26"
            ],
            [
             1,
             "#f0f921"
            ]
           ]
          },
          "colorway": [
           "#636efa",
           "#EF553B",
           "#00cc96",
           "#ab63fa",
           "#FFA15A",
           "#19d3f3",
           "#FF6692",
           "#B6E880",
           "#FF97FF",
           "#FECB52"
          ],
          "font": {
           "color": "#2a3f5f"
          },
          "geo": {
           "bgcolor": "white",
           "lakecolor": "white",
           "landcolor": "#E5ECF6",
           "showlakes": true,
           "showland": true,
           "subunitcolor": "white"
          },
          "hoverlabel": {
           "align": "left"
          },
          "hovermode": "closest",
          "mapbox": {
           "style": "light"
          },
          "paper_bgcolor": "white",
          "plot_bgcolor": "#E5ECF6",
          "polar": {
           "angularaxis": {
            "gridcolor": "white",
            "linecolor": "white",
            "ticks": ""
           },
           "bgcolor": "#E5ECF6",
           "radialaxis": {
            "gridcolor": "white",
            "linecolor": "white",
            "ticks": ""
           }
          },
          "scene": {
           "xaxis": {
            "backgroundcolor": "#E5ECF6",
            "gridcolor": "white",
            "gridwidth": 2,
            "linecolor": "white",
            "showbackground": true,
            "ticks": "",
            "zerolinecolor": "white"
           },
           "yaxis": {
            "backgroundcolor": "#E5ECF6",
            "gridcolor": "white",
            "gridwidth": 2,
            "linecolor": "white",
            "showbackground": true,
            "ticks": "",
            "zerolinecolor": "white"
           },
           "zaxis": {
            "backgroundcolor": "#E5ECF6",
            "gridcolor": "white",
            "gridwidth": 2,
            "linecolor": "white",
            "showbackground": true,
            "ticks": "",
            "zerolinecolor": "white"
           }
          },
          "shapedefaults": {
           "line": {
            "color": "#2a3f5f"
           }
          },
          "ternary": {
           "aaxis": {
            "gridcolor": "white",
            "linecolor": "white",
            "ticks": ""
           },
           "baxis": {
            "gridcolor": "white",
            "linecolor": "white",
            "ticks": ""
           },
           "bgcolor": "#E5ECF6",
           "caxis": {
            "gridcolor": "white",
            "linecolor": "white",
            "ticks": ""
           }
          },
          "title": {
           "x": 0.05
          },
          "xaxis": {
           "automargin": true,
           "gridcolor": "white",
           "linecolor": "white",
           "ticks": "",
           "title": {
            "standoff": 15
           },
           "zerolinecolor": "white",
           "zerolinewidth": 2
          },
          "yaxis": {
           "automargin": true,
           "gridcolor": "white",
           "linecolor": "white",
           "ticks": "",
           "title": {
            "standoff": 15
           },
           "zerolinecolor": "white",
           "zerolinewidth": 2
          }
         }
        }
       }
      }
     },
     "metadata": {},
     "output_type": "display_data"
    }
   ],
   "source": [
    "\n",
    "px.set_mapbox_access_token(open(\".mapbox_token\").read())\n",
    "# produce a map with the results from point 3\n",
    "fig = px.scatter_mapbox(newdf, lat=newdf[\"placeAlt\"], lon=newdf[\"placeLong\"], color=\"Distance\", center=dict({'lat':lat, 'lon':long}),\n",
    "hover_name = newdf['placeName'], hover_data=[\"placeAddress\", \"numPeopleVisited\"], size=\"Popolarity\", zoom=8)\n",
    "fig.show()\n"
   ]
  },
  {
   "cell_type": "markdown",
   "id": "68e0d42b-85e6-47d5-9e02-2217242cb15a",
   "metadata": {},
   "source": [
    "### 6. Command line question "
   ]
  },
  {
   "cell_type": "markdown",
   "id": "1f178840-350f-4c91-9834-2987453663f2",
   "metadata": {},
   "source": [
    "To solve this task we considered a smaller dataset with just the columns we needed (numPeopleVisited, numPeopleWant and placeAddress).\\\n",
    "We used this dataset as input for our **CommandLine.sh** file"
   ]
  },
  {
   "cell_type": "code",
   "execution_count": 70,
   "id": "5211aa54-9a20-4e9c-92db-943804abaf04",
   "metadata": {},
   "outputs": [
    {
     "data": {
      "text/html": [
       "<div>\n",
       "<style scoped>\n",
       "    .dataframe tbody tr th:only-of-type {\n",
       "        vertical-align: middle;\n",
       "    }\n",
       "\n",
       "    .dataframe tbody tr th {\n",
       "        vertical-align: top;\n",
       "    }\n",
       "\n",
       "    .dataframe thead th {\n",
       "        text-align: right;\n",
       "    }\n",
       "</style>\n",
       "<table border=\"1\" class=\"dataframe\">\n",
       "  <thead>\n",
       "    <tr style=\"text-align: right;\">\n",
       "      <th></th>\n",
       "      <th>numPeopleVisited</th>\n",
       "      <th>numPeopleWant</th>\n",
       "      <th>placeAddress</th>\n",
       "    </tr>\n",
       "  </thead>\n",
       "  <tbody>\n",
       "    <tr>\n",
       "      <th>0</th>\n",
       "      <td>1190</td>\n",
       "      <td>595</td>\n",
       "      <td>Prater 9 Vienna Austria</td>\n",
       "    </tr>\n",
       "    <tr>\n",
       "      <th>1</th>\n",
       "      <td>349</td>\n",
       "      <td>871</td>\n",
       "      <td>Piazza di San Silvestro, 17 Rome, 00187 Italy</td>\n",
       "    </tr>\n",
       "    <tr>\n",
       "      <th>2</th>\n",
       "      <td>331</td>\n",
       "      <td>693</td>\n",
       "      <td>529 North Charles Street Baltimore, Maryland, ...</td>\n",
       "    </tr>\n",
       "    <tr>\n",
       "      <th>3</th>\n",
       "      <td>1136</td>\n",
       "      <td>2170</td>\n",
       "      <td>514 Chartres Street New Orleans, Louisiana, 70...</td>\n",
       "    </tr>\n",
       "  </tbody>\n",
       "</table>\n",
       "</div>"
      ],
      "text/plain": [
       "   numPeopleVisited  numPeopleWant  \\\n",
       "0              1190            595   \n",
       "1               349            871   \n",
       "2               331            693   \n",
       "3              1136           2170   \n",
       "\n",
       "                                        placeAddress  \n",
       "0                            Prater 9 Vienna Austria  \n",
       "1      Piazza di San Silvestro, 17 Rome, 00187 Italy  \n",
       "2  529 North Charles Street Baltimore, Maryland, ...  \n",
       "3  514 Chartres Street New Orleans, Louisiana, 70...  "
      ]
     },
     "execution_count": 70,
     "metadata": {},
     "output_type": "execute_result"
    }
   ],
   "source": [
    "new_df = data [[\"numPeopleVisited\", \"numPeopleWant\",\"placeAddress\"]]\n",
    "new_df.to_csv('_places_data_.csv', encoding=\"utf-8\", index=False, sep=\"\\t\")\n",
    "new_df.head(4)"
   ]
  },
  {
   "cell_type": "code",
   "execution_count": 71,
   "id": "ebce73db-a41f-46cb-9dfb-6d9ed07b931f",
   "metadata": {},
   "outputs": [
    {
     "name": "stdout",
     "output_type": "stream",
     "text": [
      "How many places can be found in Italy? 210 places\n",
      "How many people, on average, have visited the places in Italy? 385.443 people\n",
      "How many people in total want to visit the places in Italy? 183331 people\n",
      "\n",
      "How many places can be found in Spain? 91 places\n",
      "How many people, on average, have visited the places in Spain? 451.582 people\n",
      "How many people in total want to visit the places in Spain? 71714 people\n",
      "\n",
      "How many places can be found in France? 206 places\n",
      "How many people, on average, have visited the places in France? 427.772 people\n",
      "How many people in total want to visit the places in France? 205732 people\n",
      "\n",
      "How many places can be found in England? 366 places\n",
      "How many people, on average, have visited the places in England? 477.795 people\n",
      "How many people in total want to visit the places in England? 390142 people\n",
      "\n",
      "How many places can be found in United States? 4615 places\n",
      "How many people, on average, have visited the places in United States? 438.978 people\n",
      "How many people in total want to visit the places in United States? 4358650 people\n",
      "\n"
     ]
    }
   ],
   "source": [
    "%%sh\n",
    "sh CommandLine.sh"
   ]
  },
  {
   "cell_type": "markdown",
   "id": "49e0f4a9-2139-4da6-a430-b42a8137fbe3",
   "metadata": {},
   "source": [
    "**cut** = command to select parts of lines from a file\\\n",
    "**grep** = command to search for pattern (regular expression) in FILE, used to distinguish the country of places\\\n",
    "**aws** = to sum and compute average over specific column"
   ]
  },
  {
   "cell_type": "code",
   "execution_count": 72,
   "id": "2f5b66b2-1ab5-45e5-9555-b4ea275f7e03",
   "metadata": {},
   "outputs": [
    {
     "name": "stdout",
     "output_type": "stream",
     "text": [
      "#!/bin/sh\n",
      "\n",
      "array=(\"Italy\" \"Spain\" \"France\" \"England\" \"United States\")           # array of countries\n",
      "\n",
      "for val in \"${array[@]}\"; do                                         # interating in array\n",
      "     \n",
      "    output=$(cut -f3 _places_data_.csv | grep \"$val\" | wc -l)        # grep country from 3rd columns of csv and do word count\n",
      "    echo \"How many places can be found in $val? $output places\"      # print result\n",
      "    \n",
      "    output2=$(cut -f1,3 all_places_data.csv | grep \"$val\"| awk -F\",\" '{sum+=$1} END {print sum/NR}') \n",
      "    \n",
      "                                             # grep country then sum over the 1st column (numPeopleVisited) divided by len of records\n",
      "            \n",
      "    echo \"How many people, on average, have visited the places in $val? $output2 people\"          \n",
      "    \n",
      "    output3=$(cut -f2,3 all_places_data.csv | grep \"$val\"| awk -F\",\" '{sum+=$2} END {print sum}')   # grep country and sum over the 2nd column (numPeopleWant)\n",
      "    echo -e \"How many people in total want to visit the places in $val? $output3 people\\n\"          # print result\n",
      "    \n",
      "done\n",
      "\n",
      "\n",
      "\n"
     ]
    }
   ],
   "source": [
    "cat CommandLine.sh"
   ]
  },
  {
   "cell_type": "markdown",
   "id": "326ad3a9",
   "metadata": {},
   "source": [
    "# 7"
   ]
  },
  {
   "cell_type": "code",
   "execution_count": null,
   "id": "b431fb01",
   "metadata": {},
   "outputs": [],
   "source": [
    "import random"
   ]
  },
  {
   "cell_type": "markdown",
   "id": "44452944",
   "metadata": {},
   "source": [
    "Define 3 sorting algorithms for the probleme of the ApplicantsInfo.txt, must be given as input the number of people that will apply and their grades, then it will give back the sorted result over their average."
   ]
  },
  {
   "cell_type": "markdown",
   "id": "6982d698",
   "metadata": {},
   "source": [
    "### mergesort algorithm"
   ]
  },
  {
   "cell_type": "code",
   "execution_count": 12,
   "id": "50a1899b",
   "metadata": {},
   "outputs": [],
   "source": [
    "# Sorting algorithm mergesort \n",
    "\n",
    "# Function that check the max between x and y\n",
    "def ismore(x, y):\n",
    "    # The average of y is bigger: so I return false (0)\n",
    "    if x[1] < y[1]: return 0\n",
    "    # The average of y and x is equal, but the name of y comes first in the alphabeth: so I return false\n",
    "    if x[1] == y[1] and x[0] > y[0]: return 0\n",
    "    # If i get to this point x is the max\n",
    "    return 1\n",
    "\n",
    "# Function that merges together two already sorted lists in only one new sorted list \n",
    "def merge(a1, a2):\n",
    "    i = 0 \n",
    "    j = 0 \n",
    "    A = []\n",
    "    # Goes through both lists at the same time and compare the elements, untill I get to the end of one of the two lists\n",
    "    while i<len(a1) and j<len(a2):\n",
    "        # In each iteration append the element that rapresent the highest average\n",
    "        if ismore(a1[i], a2[j]):\n",
    "            A.append(a1[i])\n",
    "            i +=1\n",
    "        else:\n",
    "            A.append(a2[j])\n",
    "            j += 1\n",
    "\n",
    "    # Append the elements still in a1, if there are any       \n",
    "    while i<len(a1):\n",
    "        A.append(a1[i])\n",
    "        i += 1\n",
    "    # Append the elements still in a2, if there are any  \n",
    "    while j<len(a2):\n",
    "        A.append(a2[j])\n",
    "        j += 1\n",
    "    return A\n",
    "\n",
    "\n",
    "# average is going to be a list of touples that have at the first element the full name and in the second element the average grade \n",
    "def mergesort(average):\n",
    "    if len(average) == 1: return average\n",
    "    # Get the middle index (element)\n",
    "    n = len(average)//2\n",
    "    # Get the first n elements\n",
    "    a1 = average[0:n]\n",
    "    # Sort them \n",
    "    a1 = mergesort(a1)\n",
    "    # Get the second n elements\n",
    "    a2 = average[n:]\n",
    "    # Sort them\n",
    "    a2 = mergesort(a2)\n",
    "    # Put everything together with the merge function\n",
    "    return merge(a1, a2)\n"
   ]
  },
  {
   "cell_type": "markdown",
   "id": "6cfe6bb6",
   "metadata": {},
   "source": [
    "#### mergesort computational cost\n"
   ]
  },
  {
   "cell_type": "markdown",
   "id": "c0a9864f",
   "metadata": {},
   "source": [
    "The $mergesort$ algorithm here implemented is composed of two main functions:\n",
    "- $mergesort$, with cost $T(n)$\n",
    "- $merge$, with cost $T'(n,m)$\n",
    "\n",
    "The $margesort$ functions divides the list (of length $n$) given in input in two lists (of length $\\frac{n}{2}$), then calls itself on both the smaller lists, to sort them, and to finish put together the two lists of length $\\frac{n}{2}$ with the $merge$ function.\n",
    "$$T(n)=2\\cdot T(\\frac{n}{2}) + T'(\\frac{n}{2},\\frac{n}{2})$$\n",
    "\n",
    "The $merge$ function get as input two sorted lists $l_1$ and $l_2$, of length $n$ and $m$, then goes throught both of them by: \n",
    "1. comparing their elements ${l_1}[i]$ and ${l_2}[j]$\n",
    "2. adding the max between the elements to a new list $A$\n",
    "3. increasing either $i$ or $j$ by one, depending to which I added to $A$\n",
    "\n",
    "After either $i$ gets to $n$ or $j$ to $m$, so all the elements of one of the lists are in $A$, the $merge$ function append to $A$ the rest of the other list.\n",
    "So $merge$ actually just does some costants operation (findind the max and appending) to all the elements of both lists and that implies:\n",
    "$$ T'(n,m) = \\mathcal{O}(n+m) $$\n",
    "\n",
    "So we can conclude that: \n",
    "$$ T(n)=2\\cdot T(\\frac{n}{2}) + T'(\\frac{n}{2},\\frac{n}{2}) =2\\cdot T(\\frac{n}{2}) + \\mathcal{O}(n) = ... = n\\cdot T(1) + \\sum_{i=0}^{log(n)} 2^i\\cdot \\mathcal{O}(\\frac{n}{2^i}) =$$\n",
    "$$ = \\mathcal{O}(n) + \\sum_{i=0}^{log(n)}  \\mathcal{O}(n) = \\mathcal{O}(n\\cdot log(n)) $$"
   ]
  },
  {
   "cell_type": "markdown",
   "id": "c752f7cd",
   "metadata": {},
   "source": [
    "### quicksort algorithm"
   ]
  },
  {
   "cell_type": "code",
   "execution_count": null,
   "id": "ae729c2e",
   "metadata": {},
   "outputs": [],
   "source": [
    "# Sorting algorithm quicksort \n",
    "\n",
    "#  Function that check if x is under the pivot\n",
    "def less_pivot(x, p):\n",
    "    # The average of x is bigger than the pivot's one: so return false\n",
    "    if x[1] > p[1]: return 0\n",
    "    # The averages are the same, but the name of x comes first in the alphabeth: so return false\n",
    "    if x[1] == p[1] and x[0] < p[0]: return 0\n",
    "    # If I get to this point x is less than the pivot: return true\n",
    "    return 1\n",
    "\n",
    "\n",
    "def quicksort(average):\n",
    "    if len(average) == 0 or len(average) == 1: return average\n",
    "    # Get a random index (element) of the list\n",
    "    p = random.randint(0, len(average)-1)\n",
    "    A = []\n",
    "    B = []\n",
    "    # Divide the list in the ones under the pivot and the one over\n",
    "    for i in range(len(average)):\n",
    "        if i != p and less_pivot(average[i], average[p]):\n",
    "            A.append(average[i])\n",
    "        elif i != p:\n",
    "            B.append(average[i])\n",
    "    # Sort the smaller lists\n",
    "    A = quicksort(A)\n",
    "    B = quicksort(B)\n",
    "    # Put everything together now that the lists are sorted \n",
    "    return B + [average[p]] + A"
   ]
  },
  {
   "cell_type": "markdown",
   "id": "7b3f9d14",
   "metadata": {},
   "source": [
    "#### quicksort computational cost"
   ]
  },
  {
   "cell_type": "markdown",
   "id": "b771bd8d",
   "metadata": {},
   "source": [
    "The $quicksort$ function takes a list $l$, of length n, as input, then draw a random element from the list and define it as the pivot. The main thing the algoritghm does is devide the list in two smaller lists, one ($A$ of length $k$) where will be stored the elements of $l$ that are smaller than the pivot and the other ($B$ of length $n-k$) for the elements bigger than the pivot, then $quicksort$ call itself on the lists $A$ and $B$. \n",
    "$$ T(n) = T(k) + T(n-k) + \\mathcal{O}(n) $$\n",
    "We can then analyze the best and worst case:\n",
    "- best for $k = \\frac{n}{2}$:\n",
    "$$ T(n) = 2T(\\frac{n}{2})+\\mathcal{O}(n) = ... = n\\cdot T(1) + \\sum_{i=0}^{log(n)} 2^i\\cdot \\mathcal{O}(\\frac{n}{2^i}) = \\mathcal{O}(n\\cdot log(n)) $$\n",
    "- worst with $k = 1$ all the times:\n",
    "$$ T(n) = T(n-1) + \\mathcal{O}(n) = ... = T(1) + \\sum_{i=1}^{n}\\mathcal{O}(i) =  \\mathcal{O}(n^2)$$"
   ]
  },
  {
   "cell_type": "markdown",
   "id": "d68c8fe9",
   "metadata": {},
   "source": [
    "### selectionsort algorithm"
   ]
  },
  {
   "cell_type": "code",
   "execution_count": null,
   "id": "cf973dca",
   "metadata": {},
   "outputs": [],
   "source": [
    "# Sorting algorithm selectionsort \n",
    "\n",
    "# Function that check the max between x and y\n",
    "def ismore(x, y):\n",
    "    # The average of y is bigger: so I return false (0)\n",
    "    if x[1] < y[1]: return 0\n",
    "    # The average of y and x is equal, but the name of y comes first in the alphabeth: so I return false\n",
    "    if x[1] == y[1] and x[0] > y[0]: return 0\n",
    "    # If i get to this point x is the max\n",
    "    return 1\n",
    "\n",
    "def selectionsort (average):\n",
    "    for i in range(len(average)):\n",
    "        # Initialize the max\n",
    "        max_i = average[i]\n",
    "        idx = i\n",
    "        # Scan the rest of the list to look for something bigger\n",
    "        for j in range(i,len(average)):\n",
    "            if ismore(average[j], max_i) and max_i != average[j]:\n",
    "                # Save the new max and it's index\n",
    "                max_i = average[j]\n",
    "                idx = j\n",
    "        # If the index of the max is not i, I change position between i and the max\n",
    "        if idx != i:\n",
    "            aux = average[i]\n",
    "            average[i] = average[idx]\n",
    "            average[idx] = aux\n",
    "    return average"
   ]
  },
  {
   "cell_type": "markdown",
   "id": "1dcff47d",
   "metadata": {},
   "source": [
    "#### selectionsort computational cost"
   ]
  },
  {
   "cell_type": "markdown",
   "id": "468bf780",
   "metadata": {},
   "source": [
    "The $selectionsort$ is a straight foward algorithm, it looks for the maximum value and put it in the begining of the list, then move to the second bigger element and put it as the second element of the list, and so on. So talking about costs the $selectionsort$ we have:\n",
    "$$T(n)=T(n-1)+\\mathcal{O}(n)=...=\\sum_{i=1}^{n}\\mathcal{O}(i)=\\mathcal{O}(\\frac{n\\cdot (n+1)}{2})=\\mathcal{O}(n^2)$$ "
   ]
  },
  {
   "cell_type": "markdown",
   "id": "cc184701",
   "metadata": {},
   "source": [
    "### Times"
   ]
  },
  {
   "cell_type": "markdown",
   "id": "9a4e45f9",
   "metadata": {},
   "source": [
    "Let's actually try and time how much each of the sorting algorithms take to sort the ApplicantsInfo list"
   ]
  },
  {
   "cell_type": "code",
   "execution_count": null,
   "id": "41089829",
   "metadata": {},
   "outputs": [],
   "source": [
    "# Function that print the results of the timing for all the sorting akgorithms\n",
    "def showTimes(mergetime, quicktime, selecttime, applicants):\n",
    "    print('Each method gave the same result, and we can take a look at sorted list. \\nFirst the top 10 averages are:')\n",
    "    for i in applicants[:10]:\n",
    "        print('\\t-'+str(i[0]), i[1])\n",
    "    print('\\nThe last 10 avereges are:')\n",
    "    for i in applicants[-10:]:\n",
    "        print('\\t-'+str(i[0]), i[1])\n",
    "    \n",
    "    print('The time for each algorithm are the following:\\n-', mergetime, 'for the mergesort.\\n-', \n",
    "    quicktime, 'for the quicksort.\\n-', selecttime, 'for the selectionsort.')\n",
    "        "
   ]
  },
  {
   "cell_type": "markdown",
   "id": "97a44e08",
   "metadata": {},
   "source": [
    "First thing we have to read the .txt file"
   ]
  },
  {
   "cell_type": "code",
   "execution_count": null,
   "id": "14d83270",
   "metadata": {},
   "outputs": [],
   "source": [
    "fileAppications = open('./ApplicantsInfo.txt', 'r')\n",
    "Applications = fileAppications.read().splitlines()\n",
    "del fileAppications"
   ]
  },
  {
   "cell_type": "markdown",
   "id": "bc068a6f",
   "metadata": {},
   "source": [
    "Now we can sort the results"
   ]
  },
  {
   "cell_type": "code",
   "execution_count": null,
   "id": "56f82d35",
   "metadata": {},
   "outputs": [],
   "source": [
    "n, m = map(int, Applications[0].split())\n",
    "applicants = []\n",
    "for i in Applications[1:]:\n",
    "    applicant = i.split()\n",
    "    applicants.append((applicant[0]+' '+applicant[1], round(sum([int(applicant[x]) for x in range(2,len(applicant))])/m,2)))\n",
    "\n",
    "#apply and time the mergesort\n",
    "t1 = time.time()\n",
    "MergeAppl = mergesort(applicants)\n",
    "mergetime = time.time() - t1\n",
    "\n",
    "#apply and time the quicksort\n",
    "t1 = time.time()\n",
    "QuickAppl = quicksort(applicants)\n",
    "quicktime = time.time() - t1\n",
    "\n",
    "#apply and time the selectionsort\n",
    "t1 = time.time()\n",
    "SelectAppl = selectionsort(applicants)\n",
    "selecttime = time.time() - t1"
   ]
  },
  {
   "cell_type": "markdown",
   "id": "53f7eee9",
   "metadata": {},
   "source": [
    "And let's see if the results were what we expected and save the sorted list in a .txt file"
   ]
  },
  {
   "cell_type": "code",
   "execution_count": null,
   "id": "3cdfcd7f",
   "metadata": {},
   "outputs": [],
   "source": [
    "# Save the result for the sort\n",
    "def saveResult(sorted):\n",
    "    with open('RankingList.txt', 'w') as f:\n",
    "        for applicant in sorted:\n",
    "            row = applicant[0] + ' ' + str(applicant[1]) + '\\n'   \n",
    "            f.writelines(row)\n",
    "    return"
   ]
  },
  {
   "cell_type": "code",
   "execution_count": null,
   "id": "53be9d09",
   "metadata": {},
   "outputs": [
    {
     "name": "stdout",
     "output_type": "stream",
     "text": [
      "Each method gave the same result, and we can take a look at sorted list. \n",
      "First the top 10 averages are:\n",
      "\t-Emily Crispin 24.49\n",
      "\t-Patricia Witten 24.49\n",
      "\t-Bruce Johnson 24.45\n",
      "\t-Doreen Richmond 24.45\n",
      "\t-David Niederberger 24.44\n",
      "\t-Keisha Keene 24.44\n",
      "\t-Steven Boston 24.44\n",
      "\t-John Johnson 24.42\n",
      "\t-Marvin Ramirez 24.42\n",
      "\t-Melody Sanchez 24.42\n",
      "\n",
      "The last 10 avereges are:\n",
      "\t-Helen Branch 23.58\n",
      "\t-Max Beck 23.58\n",
      "\t-Ray Bray 23.57\n",
      "\t-Eric Schmidt 23.56\n",
      "\t-Kenneth Marquez 23.56\n",
      "\t-Ruth Watts 23.56\n",
      "\t-Anna Martin 23.55\n",
      "\t-Justin Williams 23.55\n",
      "\t-Bruce Murphy 23.54\n",
      "\t-Mary Thompson 23.51\n",
      "The time for each algorithm are the following:\n",
      "- 0.31357765197753906 for the mergesort.\n",
      "- 0.3477013111114502 for the quicksort.\n",
      "- 193.54548239707947 for the selectionsort.\n"
     ]
    }
   ],
   "source": [
    "# all the same so the sorting is good\n",
    "if SelectAppl==QuickAppl and QuickAppl==MergeAppl:\n",
    "    showTimes(mergetime, quicktime, selecttime, MergeAppl)\n",
    "    saveResult(MergeAppl)"
   ]
  },
  {
   "cell_type": "markdown",
   "id": "dfbdf5bd",
   "metadata": {},
   "source": [
    "From the results is evident that the selectionsort algorithm is not the best when we are working with big numbers. \n",
    "    \n",
    "In our case the length of the applicants list was $50000$ and, while both the quicksort and the mergesort are $\\mathcal{O}(n\\cdot log(n))$, the selectionsort is a $\\mathcal{O}(n^2)$ and that makes a big difference since: \n",
    "    \n",
    "- $n\\cdot ln(n)$ with $n = 50000$ is: $5\\cdot 10^5$\n",
    "- $n^2$ with $n = 50000$ is: $2.5\\cdot 10^9$"
   ]
  }
 ],
 "metadata": {
  "kernelspec": {
   "display_name": "Python 3.9.12 ('base')",
   "language": "python",
   "name": "python3"
  },
  "language_info": {
   "codemirror_mode": {
    "name": "ipython",
    "version": 3
   },
   "file_extension": ".py",
   "mimetype": "text/x-python",
   "name": "python",
   "nbconvert_exporter": "python",
   "pygments_lexer": "ipython3",
   "version": "3.9.12"
  },
  "vscode": {
   "interpreter": {
    "hash": "a077222d77dfe082b8f1dd562ad70e458ac2ab76993a0b248ab0476e32e9e8dd"
   }
  }
 },
 "nbformat": 4,
 "nbformat_minor": 5
}
